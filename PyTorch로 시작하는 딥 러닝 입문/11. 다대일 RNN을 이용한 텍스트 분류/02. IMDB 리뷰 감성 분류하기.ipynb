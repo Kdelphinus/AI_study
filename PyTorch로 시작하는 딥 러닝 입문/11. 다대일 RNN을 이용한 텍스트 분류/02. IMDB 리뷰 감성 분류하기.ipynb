{
 "cells": [
  {
   "cell_type": "markdown",
   "metadata": {},
   "source": [
    "머신 러닝에서 텍스트 분류 연습을 위해 영화 사이트 IMDB의 리뷰 데이터를 자주 사용합니다. 이 데이터는 리뷰에 대한 텍스트와 해당 리뷰가 긍정인 경우는 1, 부정인 경우는 0으로 표시한 레이블로 구성된 데이터입니다.\n",
    "\n",
    "스탠포드 대학교에서 2011년에 낸 논문에서 이 데이터를 소개했으며, 당시 이 데이터를 훈련 데이터와 테스트 데이터를 50:50 비율로 분할하여 88.89%의 정확도를 얻었다고 소개하고 있습니다.\n",
    "\n",
    "논문: http://ai.stanford.edu/~amaas/papers/wvSent_acl2011.pdf\n",
    "\n",
    "파이토치에서는 해당 IMDB 리뷰 데이터를 바로 다운로드 할 수 있도록 지원하고 있습니다. 이제 감성 뷴류를 수행하는 모델을 만들겠습니다."
   ]
  },
  {
   "cell_type": "markdown",
   "metadata": {},
   "source": [
    "## **1. 셋팅 하기**"
   ]
  },
  {
   "cell_type": "code",
   "execution_count": 17,
   "metadata": {},
   "outputs": [],
   "source": [
    "import os\n",
    "import torch\n",
    "import torch.nn as nn\n",
    "import torch.nn.functional as F\n",
    "from torchtext.legacy import data, datasets\n",
    "import random"
   ]
  },
  {
   "cell_type": "code",
   "execution_count": 2,
   "metadata": {},
   "outputs": [
    {
     "data": {
      "text/plain": [
       "<torch._C.Generator at 0x1ef7a33a0d0>"
      ]
     },
     "execution_count": 2,
     "metadata": {},
     "output_type": "execute_result"
    }
   ],
   "source": [
    "# 랜덤 시드 고정\n",
    "SEED = 5\n",
    "random.seed(SEED)\n",
    "torch.manual_seed(SEED)"
   ]
  },
  {
   "cell_type": "code",
   "execution_count": 3,
   "metadata": {},
   "outputs": [],
   "source": [
    "# 하이퍼 파라미터 정의\n",
    "BATCH_SIZE = 64\n",
    "lr = 0.001\n",
    "EPOCHS = 10"
   ]
  },
  {
   "cell_type": "code",
   "execution_count": 7,
   "metadata": {},
   "outputs": [
    {
     "name": "stdout",
     "output_type": "stream",
     "text": [
      "학습할 기기: cpu\n"
     ]
    }
   ],
   "source": [
    "# device 설정\n",
    "DEVICE = torch.device(\"cuda\" if torch.cuda.is_available() else \"cpu\")\n",
    "print(\"학습할 기기:\", DEVICE)"
   ]
  },
  {
   "cell_type": "markdown",
   "metadata": {},
   "source": [
    "참고로 구글의 Colab에서 한다면 '런타임 > 런타임 유형 변경 > 하드웨어 가속기 > GPU'를 선택하면 USE_CUDA의 값이 True가 되면서 '다음 기기로 학습합니다: cuda'라는 출력이 나옵니다. 즉, GPU로 연산하겠다는 의미입니다. 반면에 '하드웨어 가속기 > None'을 선택하면 USE_CUDA의 값이 False가 되면서 '다음 기기로 학습합니다: cpu'라는 출력이 나옵니다. 즉, CPU로 연산하겠다는 의미입니다."
   ]
  },
  {
   "cell_type": "markdown",
   "metadata": {},
   "source": [
    "## **2. 토치텍스트를 이용한 전처리**"
   ]
  },
  {
   "cell_type": "markdown",
   "metadata": {},
   "source": [
    "### **1) 데이터 로드하기: torchtext.legacy.data**"
   ]
  },
  {
   "cell_type": "markdown",
   "metadata": {},
   "source": [
    "torchtext.legacy.data의 Field 클래스를 사용하여 영화 리뷰에 대한 객체 TEXT, 레이블을 위한 객체 LABEL을 생성합니다."
   ]
  },
  {
   "cell_type": "code",
   "execution_count": 13,
   "metadata": {},
   "outputs": [],
   "source": [
    "TEXT = data.Field(sequential=True, batch_first=True, lower=True)\n",
    "LABEL = data.Field(sequential=False, batch_first=True)"
   ]
  },
  {
   "cell_type": "markdown",
   "metadata": {},
   "source": [
    "- sequential: 데이터셋이 순차적인 데이터셋인가?\n",
    "- batch_first: 신경망에 입력되는 텐서의 첫번째 차원값을 batch_size로 사용할 것인가?\n",
    "- lower: 텍스트 데이터 속 모든 알파벳을 소문자로 할 것인가?\n",
    "\n",
    "레이블은 단순한 클래스를 나타내는 숫자로 순차적 데이터가 아니기에 False를 줍니다. 또한 Apple과 apple을 같은 단어로 인식해야하므로 lower을 True로 하겠습니다."
   ]
  },
  {
   "cell_type": "markdown",
   "metadata": {},
   "source": [
    "### **2) 데이터 로드 및 분할하기 : torchtext.legacy.datasets**"
   ]
  },
  {
   "cell_type": "markdown",
   "metadata": {},
   "source": [
    "torchtext.legacy.datasets을 통해 IMDB 리뷰 데이터를 다운로드할 수 있습니다. 데이터를 다운 받는 동시에 훈련 데이터와 테스트 데이터를 분할하고, 각각 trainset, testset에 저장합니다."
   ]
  },
  {
   "cell_type": "code",
   "execution_count": 16,
   "metadata": {},
   "outputs": [
    {
     "name": "stdout",
     "output_type": "stream",
     "text": [
      "downloading aclImdb_v1.tar.gz\n"
     ]
    },
    {
     "name": "stderr",
     "output_type": "stream",
     "text": [
      "100%|██████████| 84.1M/84.1M [03:07<00:00, 449kB/s]   \n"
     ]
    }
   ],
   "source": [
    "# 전체 데이터를 훈련 데이터와 테스트 데이터를 8:2로 나누기\n",
    "trainset, testset = datasets.IMDB.splits(TEXT, LABEL)"
   ]
  },
  {
   "cell_type": "markdown",
   "metadata": {},
   "source": [
    "텍스트와 레이블이 제대로 저장되었는지 확인하기 위해서 trainset.fields를 통해 trainset이 포함하는 각 요소를 확인해보겠습니다."
   ]
  },
  {
   "cell_type": "code",
   "execution_count": 18,
   "metadata": {},
   "outputs": [
    {
     "name": "stdout",
     "output_type": "stream",
     "text": [
      "trainset의 구성 요소 출력 :  {'text': <torchtext.legacy.data.field.Field object at 0x000001EF7D40D820>, 'label': <torchtext.legacy.data.field.Field object at 0x000001EF7D40D0A0>}\n"
     ]
    }
   ],
   "source": [
    "print(\"trainset의 구성 요소 출력 : \", trainset.fields)"
   ]
  },
  {
   "cell_type": "markdown",
   "metadata": {},
   "source": [
    "리뷰 데이터가 저장되어져 있는 text 필드와 레이블이 저장되어져 있는 label 필드가 존재합니다. testset.fields도 출력해보겠습니다."
   ]
  },
  {
   "cell_type": "code",
   "execution_count": 19,
   "metadata": {},
   "outputs": [
    {
     "name": "stdout",
     "output_type": "stream",
     "text": [
      "testset의 구성 요소 출력 :  {'text': <torchtext.legacy.data.field.Field object at 0x000001EF7D40D820>, 'label': <torchtext.legacy.data.field.Field object at 0x000001EF7D40D0A0>}\n"
     ]
    }
   ],
   "source": [
    "print(\"testset의 구성 요소 출력 : \", testset.fields)"
   ]
  },
  {
   "cell_type": "markdown",
   "metadata": {},
   "source": [
    "첫번째 훈련 샘플과 해당 샘플에 대한 레이블을 출력해보겠습니다."
   ]
  },
  {
   "cell_type": "code",
   "execution_count": 20,
   "metadata": {},
   "outputs": [
    {
     "name": "stdout",
     "output_type": "stream",
     "text": [
      "{'text': ['bromwell', 'high', 'is', 'a', 'cartoon', 'comedy.', 'it', 'ran', 'at', 'the', 'same', 'time', 'as', 'some', 'other', 'programs', 'about', 'school', 'life,', 'such', 'as', '\"teachers\".', 'my', '35', 'years', 'in', 'the', 'teaching', 'profession', 'lead', 'me', 'to', 'believe', 'that', 'bromwell', \"high's\", 'satire', 'is', 'much', 'closer', 'to', 'reality', 'than', 'is', '\"teachers\".', 'the', 'scramble', 'to', 'survive', 'financially,', 'the', 'insightful', 'students', 'who', 'can', 'see', 'right', 'through', 'their', 'pathetic', \"teachers'\", 'pomp,', 'the', 'pettiness', 'of', 'the', 'whole', 'situation,', 'all', 'remind', 'me', 'of', 'the', 'schools', 'i', 'knew', 'and', 'their', 'students.', 'when', 'i', 'saw', 'the', 'episode', 'in', 'which', 'a', 'student', 'repeatedly', 'tried', 'to', 'burn', 'down', 'the', 'school,', 'i', 'immediately', 'recalled', '.........', 'at', '..........', 'high.', 'a', 'classic', 'line:', 'inspector:', \"i'm\", 'here', 'to', 'sack', 'one', 'of', 'your', 'teachers.', 'student:', 'welcome', 'to', 'bromwell', 'high.', 'i', 'expect', 'that', 'many', 'adults', 'of', 'my', 'age', 'think', 'that', 'bromwell', 'high', 'is', 'far', 'fetched.', 'what', 'a', 'pity', 'that', 'it', \"isn't!\"], 'label': 'pos'}\n"
     ]
    }
   ],
   "source": [
    "print(vars(trainset[0]))"
   ]
  },
  {
   "cell_type": "markdown",
   "metadata": {},
   "source": [
    "- 'text': []에서 대괄호 안에 위치한 단어들이 첫번째 IMDB 리뷰\n",
    "- 'label': []에서 대괄호 안의 단어가 첫번째 IMDB 리뷰의 레이블 / 'pos' = 'positive'"
   ]
  },
  {
   "cell_type": "markdown",
   "metadata": {},
   "source": [
    "### **3) 단어 집합 만들기**"
   ]
  },
  {
   "cell_type": "markdown",
   "metadata": {},
   "source": [
    "이제 단어 집합을 만들어줍니다. 단어 집합이란 중복을 제거한 총 단어들의 집합을 의미합니다."
   ]
  },
  {
   "cell_type": "code",
   "execution_count": 21,
   "metadata": {},
   "outputs": [],
   "source": [
    "TEXT.build_vocab(trainset, min_freq=5) # 단어 집합 생성\n",
    "LABEL.build_vocab(trainset)"
   ]
  },
  {
   "cell_type": "markdown",
   "metadata": {},
   "source": [
    "위에서 min_freq는 학습 데이터에서 최소 5번 이상 등장한 단어만을 단어 집합에 추가하겠다는 의미입니다. 이때 학습 데이터에서 5번 미만으로 등장한 단어는 Unknown이라는 의미에서 '< unk >'라는 토큰으로 대체됩니다.\n",
    "\n",
    "단어 집합의 크기와 클래스의 개수를 변수에 저장하고 출력해봅니다. 단어 집합의 크기란 결국 중복을 제거한 총 단어의 개수입니다. "
   ]
  },
  {
   "cell_type": "code",
   "execution_count": 22,
   "metadata": {},
   "outputs": [
    {
     "name": "stdout",
     "output_type": "stream",
     "text": [
      "단어 집합의 크기:  46159\n",
      "클래스의 개수:  2\n"
     ]
    }
   ],
   "source": [
    "vocab_size = len(TEXT.vocab)\n",
    "n_classes = 2\n",
    "print(\"단어 집합의 크기: \", vocab_size)\n",
    "print(\"클래스의 개수: \", n_classes)"
   ]
  },
  {
   "cell_type": "markdown",
   "metadata": {},
   "source": [
    "stoi로 단어와 각 단어의 정수 인덱스가 저장되어져 있는 딕셔너리 객체에 접근할 수 있습니다."
   ]
  },
  {
   "cell_type": "code",
   "execution_count": 24,
   "metadata": {},
   "outputs": [
    {
     "data": {
      "text/plain": [
       "defaultdict(<bound method Vocab._default_unk_index of <torchtext.legacy.vocab.Vocab object at 0x000001EF7D172370>>,\n",
       "            {'<unk>': 0,\n",
       "             '<pad>': 1,\n",
       "             'the': 2,\n",
       "             'a': 3,\n",
       "             'and': 4,\n",
       "             'of': 5,\n",
       "             'to': 6,\n",
       "             'is': 7,\n",
       "             'in': 8,\n",
       "             'i': 9,\n",
       "             'this': 10,\n",
       "             'that': 11,\n",
       "             'it': 12,\n",
       "             '/><br': 13,\n",
       "             'was': 14,\n",
       "             'as': 15,\n",
       "             'for': 16,\n",
       "             'with': 17,\n",
       "             'but': 18,\n",
       "             'on': 19,\n",
       "             'movie': 20,\n",
       "             'his': 21,\n",
       "             'are': 22,\n",
       "             'not': 23,\n",
       "             'film': 24,\n",
       "             'you': 25,\n",
       "             'have': 26,\n",
       "             'he': 27,\n",
       "             'be': 28,\n",
       "             'at': 29,\n",
       "             'one': 30,\n",
       "             'by': 31,\n",
       "             'an': 32,\n",
       "             'they': 33,\n",
       "             'from': 34,\n",
       "             'all': 35,\n",
       "             'who': 36,\n",
       "             'like': 37,\n",
       "             'so': 38,\n",
       "             'just': 39,\n",
       "             'or': 40,\n",
       "             'has': 41,\n",
       "             'her': 42,\n",
       "             'about': 43,\n",
       "             \"it's\": 44,\n",
       "             'some': 45,\n",
       "             'if': 46,\n",
       "             'out': 47,\n",
       "             'what': 48,\n",
       "             'very': 49,\n",
       "             'when': 50,\n",
       "             'more': 51,\n",
       "             'there': 52,\n",
       "             'she': 53,\n",
       "             'would': 54,\n",
       "             'even': 55,\n",
       "             'good': 56,\n",
       "             'my': 57,\n",
       "             'only': 58,\n",
       "             'their': 59,\n",
       "             'no': 60,\n",
       "             'really': 61,\n",
       "             'had': 62,\n",
       "             'which': 63,\n",
       "             'can': 64,\n",
       "             'up': 65,\n",
       "             'were': 66,\n",
       "             'see': 67,\n",
       "             'than': 68,\n",
       "             'we': 69,\n",
       "             '-': 70,\n",
       "             'been': 71,\n",
       "             'into': 72,\n",
       "             'get': 73,\n",
       "             'will': 74,\n",
       "             'story': 75,\n",
       "             'much': 76,\n",
       "             'because': 77,\n",
       "             'most': 78,\n",
       "             'how': 79,\n",
       "             'other': 80,\n",
       "             'also': 81,\n",
       "             'first': 82,\n",
       "             'its': 83,\n",
       "             'time': 84,\n",
       "             'do': 85,\n",
       "             \"don't\": 86,\n",
       "             'me': 87,\n",
       "             'great': 88,\n",
       "             'people': 89,\n",
       "             'could': 90,\n",
       "             'make': 91,\n",
       "             'any': 92,\n",
       "             '/>the': 93,\n",
       "             'after': 94,\n",
       "             'made': 95,\n",
       "             'then': 96,\n",
       "             'bad': 97,\n",
       "             'think': 98,\n",
       "             'being': 99,\n",
       "             'many': 100,\n",
       "             'him': 101,\n",
       "             'never': 102,\n",
       "             'two': 103,\n",
       "             'too': 104,\n",
       "             'little': 105,\n",
       "             'where': 106,\n",
       "             'well': 107,\n",
       "             '<br': 108,\n",
       "             'way': 109,\n",
       "             'watch': 110,\n",
       "             'your': 111,\n",
       "             'it.': 112,\n",
       "             'did': 113,\n",
       "             'does': 114,\n",
       "             'them': 115,\n",
       "             'best': 116,\n",
       "             'movie.': 117,\n",
       "             'know': 118,\n",
       "             'seen': 119,\n",
       "             'love': 120,\n",
       "             'characters': 121,\n",
       "             'character': 122,\n",
       "             'movies': 123,\n",
       "             'these': 124,\n",
       "             'ever': 125,\n",
       "             'still': 126,\n",
       "             'over': 127,\n",
       "             'should': 128,\n",
       "             'films': 129,\n",
       "             'such': 130,\n",
       "             'plot': 131,\n",
       "             'acting': 132,\n",
       "             'while': 133,\n",
       "             'show': 134,\n",
       "             'go': 135,\n",
       "             'those': 136,\n",
       "             'off': 137,\n",
       "             'better': 138,\n",
       "             'film.': 139,\n",
       "             'through': 140,\n",
       "             \"doesn't\": 141,\n",
       "             'say': 142,\n",
       "             'something': 143,\n",
       "             'why': 144,\n",
       "             \"i'm\": 145,\n",
       "             'makes': 146,\n",
       "             \"didn't\": 147,\n",
       "             'watching': 148,\n",
       "             'back': 149,\n",
       "             'scene': 150,\n",
       "             'film,': 151,\n",
       "             'real': 152,\n",
       "             'find': 153,\n",
       "             'new': 154,\n",
       "             'movie,': 155,\n",
       "             'few': 156,\n",
       "             'actually': 157,\n",
       "             'every': 158,\n",
       "             'scenes': 159,\n",
       "             'man': 160,\n",
       "             'life': 161,\n",
       "             'going': 162,\n",
       "             'same': 163,\n",
       "             'nothing': 164,\n",
       "             '/>i': 165,\n",
       "             'look': 166,\n",
       "             'another': 167,\n",
       "             'quite': 168,\n",
       "             'lot': 169,\n",
       "             'old': 170,\n",
       "             'want': 171,\n",
       "             'end': 172,\n",
       "             'pretty': 173,\n",
       "             'thing': 174,\n",
       "             'seems': 175,\n",
       "             'got': 176,\n",
       "             '&': 177,\n",
       "             \"can't\": 178,\n",
       "             'before': 179,\n",
       "             'take': 180,\n",
       "             'years': 181,\n",
       "             'part': 182,\n",
       "             'actors': 183,\n",
       "             'give': 184,\n",
       "             'young': 185,\n",
       "             'may': 186,\n",
       "             'between': 187,\n",
       "             'us': 188,\n",
       "             \"that's\": 189,\n",
       "             \"i've\": 190,\n",
       "             'without': 191,\n",
       "             'though': 192,\n",
       "             'both': 193,\n",
       "             'things': 194,\n",
       "             'gets': 195,\n",
       "             'big': 196,\n",
       "             'around': 197,\n",
       "             'here': 198,\n",
       "             'thought': 199,\n",
       "             'saw': 200,\n",
       "             'director': 201,\n",
       "             'almost': 202,\n",
       "             'it,': 203,\n",
       "             'now': 204,\n",
       "             \"isn't\": 205,\n",
       "             'always': 206,\n",
       "             'must': 207,\n",
       "             'come': 208,\n",
       "             'own': 209,\n",
       "             'work': 210,\n",
       "             'whole': 211,\n",
       "             'cast': 212,\n",
       "             'horror': 213,\n",
       "             'down': 214,\n",
       "             'might': 215,\n",
       "             \"there's\": 216,\n",
       "             \"he's\": 217,\n",
       "             'bit': 218,\n",
       "             'least': 219,\n",
       "             'probably': 220,\n",
       "             'enough': 221,\n",
       "             '\"the': 222,\n",
       "             'feel': 223,\n",
       "             'last': 224,\n",
       "             'original': 225,\n",
       "             'am': 226,\n",
       "             'since': 227,\n",
       "             'rather': 228,\n",
       "             'long': 229,\n",
       "             'far': 230,\n",
       "             'fact': 231,\n",
       "             'kind': 232,\n",
       "             'each': 233,\n",
       "             'world': 234,\n",
       "             'funny': 235,\n",
       "             'found': 236,\n",
       "             'anything': 237,\n",
       "             'worst': 238,\n",
       "             'comes': 239,\n",
       "             'having': 240,\n",
       "             'our': 241,\n",
       "             'making': 242,\n",
       "             'trying': 243,\n",
       "             'action': 244,\n",
       "             'right': 245,\n",
       "             'interesting': 246,\n",
       "             'done': 247,\n",
       "             'however,': 248,\n",
       "             'point': 249,\n",
       "             'believe': 250,\n",
       "             'looks': 251,\n",
       "             'guy': 252,\n",
       "             'put': 253,\n",
       "             'goes': 254,\n",
       "             '/>this': 255,\n",
       "             'family': 256,\n",
       "             'played': 257,\n",
       "             'main': 258,\n",
       "             'anyone': 259,\n",
       "             'series': 260,\n",
       "             'hard': 261,\n",
       "             \"wasn't\": 262,\n",
       "             'role': 263,\n",
       "             'especially': 264,\n",
       "             'music': 265,\n",
       "             'yet': 266,\n",
       "             'worth': 267,\n",
       "             'seem': 268,\n",
       "             'performance': 269,\n",
       "             'plays': 270,\n",
       "             'takes': 271,\n",
       "             'script': 272,\n",
       "             'watched': 273,\n",
       "             'sure': 274,\n",
       "             'looking': 275,\n",
       "             'during': 276,\n",
       "             'someone': 277,\n",
       "             'minutes': 278,\n",
       "             'different': 279,\n",
       "             'tv': 280,\n",
       "             'although': 281,\n",
       "             'woman': 282,\n",
       "             'set': 283,\n",
       "             'three': 284,\n",
       "             'away': 285,\n",
       "             'times': 286,\n",
       "             'shows': 287,\n",
       "             'maybe': 288,\n",
       "             'comedy': 289,\n",
       "             'girl': 290,\n",
       "             'left': 291,\n",
       "             'everything': 292,\n",
       "             'time.': 293,\n",
       "             'john': 294,\n",
       "             'once': 295,\n",
       "             'seeing': 296,\n",
       "             'simply': 297,\n",
       "             \"you're\": 298,\n",
       "             'american': 299,\n",
       "             'fun': 300,\n",
       "             'special': 301,\n",
       "             'completely': 302,\n",
       "             'everyone': 303,\n",
       "             'play': 304,\n",
       "             'true': 305,\n",
       "             'again': 306,\n",
       "             'reason': 307,\n",
       "             'read': 308,\n",
       "             'used': 309,\n",
       "             'well,': 310,\n",
       "             'need': 311,\n",
       "             'given': 312,\n",
       "             'until': 313,\n",
       "             'nice': 314,\n",
       "             'beautiful': 315,\n",
       "             'use': 316,\n",
       "             'high': 317,\n",
       "             'sense': 318,\n",
       "             'truly': 319,\n",
       "             'place': 320,\n",
       "             'idea': 321,\n",
       "             '--': 322,\n",
       "             'help': 323,\n",
       "             'version': 324,\n",
       "             'try': 325,\n",
       "             'less': 326,\n",
       "             'rest': 327,\n",
       "             'black': 328,\n",
       "             'money': 329,\n",
       "             'came': 330,\n",
       "             'job': 331,\n",
       "             'second': 332,\n",
       "             'dvd': 333,\n",
       "             'excellent': 334,\n",
       "             'recommend': 335,\n",
       "             'ending': 336,\n",
       "             'tell': 337,\n",
       "             'getting': 338,\n",
       "             'shot': 339,\n",
       "             'keep': 340,\n",
       "             'instead': 341,\n",
       "             'actor': 342,\n",
       "             '(and': 343,\n",
       "             'gives': 344,\n",
       "             'full': 345,\n",
       "             'said': 346,\n",
       "             'let': 347,\n",
       "             'half': 348,\n",
       "             'enjoy': 349,\n",
       "             'poor': 350,\n",
       "             'couple': 351,\n",
       "             'day': 352,\n",
       "             'himself': 353,\n",
       "             'playing': 354,\n",
       "             'definitely': 355,\n",
       "             'supposed': 356,\n",
       "             'audience': 357,\n",
       "             'early': 358,\n",
       "             'become': 359,\n",
       "             'along': 360,\n",
       "             'felt': 361,\n",
       "             'effects': 362,\n",
       "             'understand': 363,\n",
       "             'all,': 364,\n",
       "             'remember': 365,\n",
       "             'small': 366,\n",
       "             \"couldn't\": 367,\n",
       "             'book': 368,\n",
       "             'entire': 369,\n",
       "             'later': 370,\n",
       "             'absolutely': 371,\n",
       "             'liked': 372,\n",
       "             'together': 373,\n",
       "             'star': 374,\n",
       "             'against': 375,\n",
       "             'fan': 376,\n",
       "             'went': 377,\n",
       "             'wife': 378,\n",
       "             'next': 379,\n",
       "             'doing': 380,\n",
       "             'start': 381,\n",
       "             'perhaps': 382,\n",
       "             'year': 383,\n",
       "             'often': 384,\n",
       "             'hollywood': 385,\n",
       "             'certainly': 386,\n",
       "             'screen': 387,\n",
       "             'several': 388,\n",
       "             '(the': 389,\n",
       "             'time,': 390,\n",
       "             '2': 391,\n",
       "             \"she's\": 392,\n",
       "             'sort': 393,\n",
       "             'night': 394,\n",
       "             'waste': 395,\n",
       "             'human': 396,\n",
       "             'is,': 397,\n",
       "             'becomes': 398,\n",
       "             'short': 399,\n",
       "             'wonderful': 400,\n",
       "             '10': 401,\n",
       "             'seemed': 402,\n",
       "             'loved': 403,\n",
       "             'men': 404,\n",
       "             'kids': 405,\n",
       "             '\\x96': 406,\n",
       "             'piece': 407,\n",
       "             'war': 408,\n",
       "             'classic': 409,\n",
       "             'father': 410,\n",
       "             '.': 411,\n",
       "             'production': 412,\n",
       "             'house': 413,\n",
       "             'home': 414,\n",
       "             'camera': 415,\n",
       "             'else': 416,\n",
       "             'wanted': 417,\n",
       "             'hope': 418,\n",
       "             'women': 419,\n",
       "             'that,': 420,\n",
       "             'totally': 421,\n",
       "             'live': 422,\n",
       "             'course': 423,\n",
       "             'performances': 424,\n",
       "             'lost': 425,\n",
       "             'top': 426,\n",
       "             'based': 427,\n",
       "             \"i'd\": 428,\n",
       "             'them.': 429,\n",
       "             'tries': 430,\n",
       "             'line': 431,\n",
       "             'mind': 432,\n",
       "             'video': 433,\n",
       "             \"you'll\": 434,\n",
       "             'final': 435,\n",
       "             'able': 436,\n",
       "             'called': 437,\n",
       "             'wants': 438,\n",
       "             'perfect': 439,\n",
       "             'friends': 440,\n",
       "             'gave': 441,\n",
       "             \"they're\": 442,\n",
       "             'under': 443,\n",
       "             'death': 444,\n",
       "             'already': 445,\n",
       "             'despite': 446,\n",
       "             'enjoyed': 447,\n",
       "             'story,': 448,\n",
       "             'finally': 449,\n",
       "             'person': 450,\n",
       "             'name': 451,\n",
       "             'either': 452,\n",
       "             'turn': 453,\n",
       "             'sex': 454,\n",
       "             'turns': 455,\n",
       "             'care': 456,\n",
       "             'one.': 457,\n",
       "             'starts': 458,\n",
       "             'written': 459,\n",
       "             'dead': 460,\n",
       "             'problem': 461,\n",
       "             'episode': 462,\n",
       "             \"won't\": 463,\n",
       "             'this.': 464,\n",
       "             'low': 465,\n",
       "             'school': 466,\n",
       "             'stupid': 467,\n",
       "             'mean': 468,\n",
       "             'face': 469,\n",
       "             'behind': 470,\n",
       "             'this,': 471,\n",
       "             'me.': 472,\n",
       "             'him.': 473,\n",
       "             'moments': 474,\n",
       "             'lead': 475,\n",
       "             'favorite': 476,\n",
       "             'and,': 477,\n",
       "             'lines': 478,\n",
       "             'sound': 479,\n",
       "             'white': 480,\n",
       "             'head': 481,\n",
       "             'michael': 482,\n",
       "             'stars': 483,\n",
       "             'guess': 484,\n",
       "             'took': 485,\n",
       "             'cannot': 486,\n",
       "             'story.': 487,\n",
       "             'fine': 488,\n",
       "             'budget': 489,\n",
       "             'title': 490,\n",
       "             'good.': 491,\n",
       "             'well.': 492,\n",
       "             'me,': 493,\n",
       "             'kill': 494,\n",
       "             'terrible': 495,\n",
       "             'highly': 496,\n",
       "             'extremely': 497,\n",
       "             'others': 498,\n",
       "             'all.': 499,\n",
       "             'dialogue': 500,\n",
       "             'sometimes': 501,\n",
       "             \"film's\": 502,\n",
       "             'evil': 503,\n",
       "             'beginning': 504,\n",
       "             'lack': 505,\n",
       "             'life.': 506,\n",
       "             'style': 507,\n",
       "             'throughout': 508,\n",
       "             \"wouldn't\": 509,\n",
       "             'heard': 510,\n",
       "             'obviously': 511,\n",
       "             'boring': 512,\n",
       "             'dark': 513,\n",
       "             'feeling': 514,\n",
       "             'itself': 515,\n",
       "             'fans': 516,\n",
       "             'lives': 517,\n",
       "             'decent': 518,\n",
       "             'works': 519,\n",
       "             'expect': 520,\n",
       "             'soon': 521,\n",
       "             'killer': 522,\n",
       "             'boy': 523,\n",
       "             'good,': 524,\n",
       "             'looked': 525,\n",
       "             'mr.': 526,\n",
       "             'attempt': 527,\n",
       "             'late': 528,\n",
       "             'particularly': 529,\n",
       "             'case': 530,\n",
       "             'amazing': 531,\n",
       "             'course,': 532,\n",
       "             'directed': 533,\n",
       "             'friend': 534,\n",
       "             'fight': 535,\n",
       "             'leave': 536,\n",
       "             '/>in': 537,\n",
       "             'wrong': 538,\n",
       "             'quality': 539,\n",
       "             '/>it': 540,\n",
       "             'mother': 541,\n",
       "             'picture': 542,\n",
       "             'entertaining': 543,\n",
       "             'save': 544,\n",
       "             'complete': 545,\n",
       "             'thinking': 546,\n",
       "             'close': 547,\n",
       "             'viewer': 548,\n",
       "             'exactly': 549,\n",
       "             'guys': 550,\n",
       "             'taken': 551,\n",
       "             'awful': 552,\n",
       "             'writing': 553,\n",
       "             'finds': 554,\n",
       "             'run': 555,\n",
       "             'whose': 556,\n",
       "             'except': 557,\n",
       "             '/>if': 558,\n",
       "             'wonder': 559,\n",
       "             'movies.': 560,\n",
       "             'somewhat': 561,\n",
       "             'living': 562,\n",
       "             'across': 563,\n",
       "             'number': 564,\n",
       "             'police': 565,\n",
       "             'strong': 566,\n",
       "             'told': 567,\n",
       "             'says': 568,\n",
       "             'james': 569,\n",
       "             'movies,': 570,\n",
       "             'opening': 571,\n",
       "             'worse': 572,\n",
       "             'obvious': 573,\n",
       "             'shown': 574,\n",
       "             'parts': 575,\n",
       "             'laugh': 576,\n",
       "             'coming': 577,\n",
       "             'running': 578,\n",
       "             '3': 579,\n",
       "             'car': 580,\n",
       "             'films,': 581,\n",
       "             'past': 582,\n",
       "             'direction': 583,\n",
       "             'usually': 584,\n",
       "             'type': 585,\n",
       "             'wish': 586,\n",
       "             'group': 587,\n",
       "             'huge': 588,\n",
       "             'side': 589,\n",
       "             'acting,': 590,\n",
       "             'major': 591,\n",
       "             'taking': 592,\n",
       "             'children': 593,\n",
       "             'supporting': 594,\n",
       "             'girls': 595,\n",
       "             'stop': 596,\n",
       "             'act': 597,\n",
       "             'bad.': 598,\n",
       "             'hour': 599,\n",
       "             'turned': 600,\n",
       "             'tells': 601,\n",
       "             'known': 602,\n",
       "             'none': 603,\n",
       "             'started': 604,\n",
       "             'local': 605,\n",
       "             'knew': 606,\n",
       "             'that.': 607,\n",
       "             'myself': 608,\n",
       "             'killed': 609,\n",
       "             'due': 610,\n",
       "             'here,': 611,\n",
       "             'stories': 612,\n",
       "             \"aren't\": 613,\n",
       "             'town': 614,\n",
       "             'single': 615,\n",
       "             'game': 616,\n",
       "             'happens': 617,\n",
       "             ',': 618,\n",
       "             'female': 619,\n",
       "             'it.<br': 620,\n",
       "             'again,': 621,\n",
       "             'bring': 622,\n",
       "             'call': 623,\n",
       "             'including': 624,\n",
       "             \"i'll\": 625,\n",
       "             'way,': 626,\n",
       "             'brilliant': 627,\n",
       "             'cinema': 628,\n",
       "             'here.': 629,\n",
       "             'son': 630,\n",
       "             'clearly': 631,\n",
       "             'british': 632,\n",
       "             'actress': 633,\n",
       "             'fact,': 634,\n",
       "             '/>there': 635,\n",
       "             'mostly': 636,\n",
       "             'humor': 637,\n",
       "             'art': 638,\n",
       "             'david': 639,\n",
       "             'hit': 640,\n",
       "             'talking': 641,\n",
       "             'voice': 642,\n",
       "             'robert': 643,\n",
       "             'involved': 644,\n",
       "             'whether': 645,\n",
       "             'characters,': 646,\n",
       "             'giving': 647,\n",
       "             'child': 648,\n",
       "             'musical': 649,\n",
       "             'one,': 650,\n",
       "             'history': 651,\n",
       "             'order': 652,\n",
       "             'out.': 653,\n",
       "             'ends': 654,\n",
       "             'falls': 655,\n",
       "             'end,': 656,\n",
       "             'heart': 657,\n",
       "             'saying': 658,\n",
       "             'drama': 659,\n",
       "             'easily': 660,\n",
       "             '!': 661,\n",
       "             'matter': 662,\n",
       "             'serious': 663,\n",
       "             'again.': 664,\n",
       "             'bad,': 665,\n",
       "             'eyes': 666,\n",
       "             'relationship': 667,\n",
       "             'horrible': 668,\n",
       "             'yes,': 669,\n",
       "             'nearly': 670,\n",
       "             'however': 671,\n",
       "             'modern': 672,\n",
       "             'chance': 673,\n",
       "             'feels': 674,\n",
       "             'beyond': 675,\n",
       "             'kid': 676,\n",
       "             'needs': 677,\n",
       "             'actual': 678,\n",
       "             'cut': 679,\n",
       "             \"haven't\": 680,\n",
       "             'appears': 681,\n",
       "             'important': 682,\n",
       "             'similar': 683,\n",
       "             'themselves': 684,\n",
       "             'five': 685,\n",
       "             'example': 686,\n",
       "             'moment': 687,\n",
       "             '/>but': 688,\n",
       "             'change': 689,\n",
       "             'comic': 690,\n",
       "             'upon': 691,\n",
       "             'end.': 692,\n",
       "             'simple': 693,\n",
       "             'strange': 694,\n",
       "             'using': 695,\n",
       "             'four': 696,\n",
       "             'knows': 697,\n",
       "             'happened': 698,\n",
       "             'is.': 699,\n",
       "             'named': 700,\n",
       "             'within': 701,\n",
       "             'released': 702,\n",
       "             'usual': 703,\n",
       "             'way.': 704,\n",
       "             'seen.': 705,\n",
       "             'english': 706,\n",
       "             'among': 707,\n",
       "             'movie.<br': 708,\n",
       "             'but,': 709,\n",
       "             'lots': 710,\n",
       "             '/>': 711,\n",
       "             'basically': 712,\n",
       "             'mention': 713,\n",
       "             'slow': 714,\n",
       "             'romantic': 715,\n",
       "             'stuff': 716,\n",
       "             'bunch': 717,\n",
       "             'her.': 718,\n",
       "             'kept': 719,\n",
       "             'typical': 720,\n",
       "             'certain': 721,\n",
       "             'interest': 722,\n",
       "             'films.': 723,\n",
       "             'near': 724,\n",
       "             'city': 725,\n",
       "             'hours': 726,\n",
       "             'overall': 727,\n",
       "             'showing': 728,\n",
       "             '(i': 729,\n",
       "             'blood': 730,\n",
       "             'plot,': 731,\n",
       "             'brought': 732,\n",
       "             'fall': 733,\n",
       "             'murder': 734,\n",
       "             'days': 735,\n",
       "             'body': 736,\n",
       "             '/>and': 737,\n",
       "             'tried': 738,\n",
       "             'song': 739,\n",
       "             'apparently': 740,\n",
       "             'miss': 741,\n",
       "             '/>a': 742,\n",
       "             'him,': 743,\n",
       "             'middle': 744,\n",
       "             'greatest': 745,\n",
       "             'jack': 746,\n",
       "             'life,': 747,\n",
       "             'george': 748,\n",
       "             'film.<br': 749,\n",
       "             'score': 750,\n",
       "             'events': 751,\n",
       "             'happy': 752,\n",
       "             'sad': 753,\n",
       "             '/>as': 754,\n",
       "             'yourself': 755,\n",
       "             'working': 756,\n",
       "             'shots': 757,\n",
       "             'stay': 758,\n",
       "             'talk': 759,\n",
       "             'add': 760,\n",
       "             'cheap': 761,\n",
       "             '(as': 762,\n",
       "             'begins': 763,\n",
       "             'decided': 764,\n",
       "             'age': 765,\n",
       "             'buy': 766,\n",
       "             'so,': 767,\n",
       "             'surprised': 768,\n",
       "             'hear': 769,\n",
       "             'french': 770,\n",
       "             'brother': 771,\n",
       "             'famous': 772,\n",
       "             'alone': 773,\n",
       "             'on.': 774,\n",
       "             'paul': 775,\n",
       "             'became': 776,\n",
       "             \"what's\": 777,\n",
       "             'daughter': 778,\n",
       "             'hate': 779,\n",
       "             'annoying': 780,\n",
       "             'learn': 781,\n",
       "             'richard': 782,\n",
       "             'happen': 783,\n",
       "             '(which': 784,\n",
       "             'please': 785,\n",
       "             'sit': 786,\n",
       "             'songs': 787,\n",
       "             \"you've\": 788,\n",
       "             'de': 789,\n",
       "             'jokes': 790,\n",
       "             'easy': 791,\n",
       "             \"/>it's\": 792,\n",
       "             'nor': 793,\n",
       "             'ten': 794,\n",
       "             'peter': 795,\n",
       "             'sets': 796,\n",
       "             'documentary': 797,\n",
       "             'view': 798,\n",
       "             'experience': 799,\n",
       "             'light': 800,\n",
       "             'too.': 801,\n",
       "             'above': 802,\n",
       "             'funny.': 803,\n",
       "             'cinematography': 804,\n",
       "             'funny,': 805,\n",
       "             'hell': 806,\n",
       "             'possibly': 807,\n",
       "             \"who's\": 808,\n",
       "             'sequence': 809,\n",
       "             'sexual': 810,\n",
       "             'attention': 811,\n",
       "             'king': 812,\n",
       "             'straight': 813,\n",
       "             '1': 814,\n",
       "             'stand': 815,\n",
       "             'hand': 816,\n",
       "             'meets': 817,\n",
       "             'power': 818,\n",
       "             'oh': 819,\n",
       "             'gore': 820,\n",
       "             'episodes': 821,\n",
       "             'word': 822,\n",
       "             'difficult': 823,\n",
       "             'clear': 824,\n",
       "             'elements': 825,\n",
       "             'husband': 826,\n",
       "             'also,': 827,\n",
       "             'red': 828,\n",
       "             'god': 829,\n",
       "             'violence': 830,\n",
       "             'characters.': 831,\n",
       "             'keeps': 832,\n",
       "             'leaves': 833,\n",
       "             'poorly': 834,\n",
       "             'realize': 835,\n",
       "             'means': 836,\n",
       "             'ones': 837,\n",
       "             'japanese': 838,\n",
       "             'television': 839,\n",
       "             'genre': 840,\n",
       "             'roles': 841,\n",
       "             'character,': 842,\n",
       "             'somehow': 843,\n",
       "             'flick': 844,\n",
       "             '5': 845,\n",
       "             'cool': 846,\n",
       "             'out,': 847,\n",
       "             'figure': 848,\n",
       "             'reality': 849,\n",
       "             'possible': 850,\n",
       "             'silly': 851,\n",
       "             'them,': 852,\n",
       "             'eventually': 853,\n",
       "             'towards': 854,\n",
       "             'reading': 855,\n",
       "             'move': 856,\n",
       "             'rent': 857,\n",
       "             'brings': 858,\n",
       "             'doubt': 859,\n",
       "             'scary': 860,\n",
       "             'theme': 861,\n",
       "             'killing': 862,\n",
       "             'lady': 863,\n",
       "             'unfortunately': 864,\n",
       "             'filmed': 865,\n",
       "             'imagine': 866,\n",
       "             'moving': 867,\n",
       "             'previous': 868,\n",
       "             'emotional': 869,\n",
       "             'on,': 870,\n",
       "             'leads': 871,\n",
       "             'rock': 872,\n",
       "             'room': 873,\n",
       "             '(or': 874,\n",
       "             'problems': 875,\n",
       "             'third': 876,\n",
       "             'tom': 877,\n",
       "             'deal': 878,\n",
       "             'say,': 879,\n",
       "             'oscar': 880,\n",
       "             'though,': 881,\n",
       "             'review': 882,\n",
       "             'talent': 883,\n",
       "             'novel': 884,\n",
       "             'comments': 885,\n",
       "             'forget': 886,\n",
       "             'hero': 887,\n",
       "             'leading': 888,\n",
       "             'message': 889,\n",
       "             'enjoyable': 890,\n",
       "             'incredibly': 891,\n",
       "             'level': 892,\n",
       "             'write': 893,\n",
       "             'career': 894,\n",
       "             'ridiculous': 895,\n",
       "             'check': 896,\n",
       "             'better.': 897,\n",
       "             'various': 898,\n",
       "             'plenty': 899,\n",
       "             'animation': 900,\n",
       "             'meant': 901,\n",
       "             'needed': 902,\n",
       "             'personal': 903,\n",
       "             'feature': 904,\n",
       "             'show.': 905,\n",
       "             'writer': 906,\n",
       "             'future': 907,\n",
       "             'herself': 908,\n",
       "             'avoid': 909,\n",
       "             'gone': 910,\n",
       "             'meet': 911,\n",
       "             'create': 912,\n",
       "             'work.': 913,\n",
       "             'hardly': 914,\n",
       "             'begin': 915,\n",
       "             'whom': 916,\n",
       "             'total': 917,\n",
       "             'country': 918,\n",
       "             'manages': 919,\n",
       "             'team': 920,\n",
       "             'theater': 921,\n",
       "             'watch.': 922,\n",
       "             '4': 923,\n",
       "             'forced': 924,\n",
       "             'fairly': 925,\n",
       "             'form': 926,\n",
       "             'up.': 927,\n",
       "             'particular': 928,\n",
       "             'there.': 929,\n",
       "             'hilarious': 930,\n",
       "             'appear': 931,\n",
       "             'points': 932,\n",
       "             'you.': 933,\n",
       "             'now,': 934,\n",
       "             'viewers': 935,\n",
       "             'fantastic': 936,\n",
       "             'effort': 937,\n",
       "             'interested': 938,\n",
       "             'follow': 939,\n",
       "             'unless': 940,\n",
       "             'weak': 941,\n",
       "             'words': 942,\n",
       "             'fast': 943,\n",
       "             'dramatic': 944,\n",
       "             'expecting': 945,\n",
       "             'tale': 946,\n",
       "             'unfortunately,': 947,\n",
       "             'joe': 948,\n",
       "             'zombie': 949,\n",
       "             'male': 950,\n",
       "             'older': 951,\n",
       "             'average': 952,\n",
       "             'her,': 953,\n",
       "             'general': 954,\n",
       "             'political': 955,\n",
       "             'attempts': 956,\n",
       "             'reviews': 957,\n",
       "             'mystery': 958,\n",
       "             'scenes,': 959,\n",
       "             'features': 960,\n",
       "             'sounds': 961,\n",
       "             'subject': 962,\n",
       "             '(a': 963,\n",
       "             'class': 964,\n",
       "             'whatever': 965,\n",
       "             'york': 966,\n",
       "             'pay': 967,\n",
       "             'crap': 968,\n",
       "             'lee': 969,\n",
       "             'up,': 970,\n",
       "             'scene,': 971,\n",
       "             'worked': 972,\n",
       "             'dance': 973,\n",
       "             'decides': 974,\n",
       "             'disney': 975,\n",
       "             'premise': 976,\n",
       "             'then,': 977,\n",
       "             'plain': 978,\n",
       "             'man,': 979,\n",
       "             \"let's\": 980,\n",
       "             'minute': 981,\n",
       "             'badly': 982,\n",
       "             'ask': 983,\n",
       "             'dialog': 984,\n",
       "             '20': 985,\n",
       "             'expected': 986,\n",
       "             'viewing': 987,\n",
       "             'forward': 988,\n",
       "             'open': 989,\n",
       "             'uses': 990,\n",
       "             'wait': 991,\n",
       "             '(who': 992,\n",
       "             'deep': 993,\n",
       "             'social': 994,\n",
       "             'storyline': 995,\n",
       "             'front': 996,\n",
       "             'crime': 997,\n",
       "             'directors': 998,\n",
       "             'writers': 999,\n",
       "             ...})"
      ]
     },
     "execution_count": 24,
     "metadata": {},
     "output_type": "execute_result"
    }
   ],
   "source": [
    "TEXT.vocab.stoi"
   ]
  },
  {
   "cell_type": "markdown",
   "metadata": {},
   "source": [
    "< unk >가 0번 인덱스로 부여되어있고 그 외에도 수많은 단어들이 고유한 정수 인덱스가 부여된 것을 확인할 수 있습니다."
   ]
  },
  {
   "cell_type": "markdown",
   "metadata": {},
   "source": [
    "### **4) 데이터 로더 만들기**"
   ]
  },
  {
   "cell_type": "markdown",
   "metadata": {},
   "source": [
    "훈련 데이터와 테스트 데이터는 분리하였지만, 검증 데이터도 분리해야 합니다. 훈련 데이터를 다시 8:2로 나누어 검증 데이터를 만들겠습니다. 검증데이터는 valset이란 변수에 저장합니다."
   ]
  },
  {
   "cell_type": "code",
   "execution_count": 25,
   "metadata": {},
   "outputs": [],
   "source": [
    "trainset, valset = trainset.split(split_ratio=0.8)"
   ]
  },
  {
   "cell_type": "markdown",
   "metadata": {},
   "source": [
    "정리하면 훈련 데이터는 trainset, 테스트 데이터는 testset, 검증 데이터는 valset에 저장되어있습니다. \n",
    "\n",
    "토치텍스트는 모든 텍스트를 배치 처리하는 것을 지원하고, 단어를 인덱스 번호로 대체하는 Bucketlterator를 제공합니다. Bucketlterator는 batch_size, device, shuffle 등의 인자를 받습니다. BATCH_SIZE는 앞서 64로 설정했었습니다."
   ]
  },
  {
   "cell_type": "code",
   "execution_count": 27,
   "metadata": {},
   "outputs": [],
   "source": [
    "train_iter, val_iter, test_iter = data.BucketIterator.splits(\n",
    "        (trainset, valset, testset), batch_size=BATCH_SIZE,\n",
    "        shuffle=True, repeat=False)"
   ]
  },
  {
   "cell_type": "markdown",
   "metadata": {},
   "source": [
    "이제 train_iter, val_iter, test_iter에는 샘플과 레이블이 64개 단위 묶음으로 저장됩니다. 64개씩 묶었을 때, 총 배치의 개수가 몇 개가 되는지 출력해봅시다. "
   ]
  },
  {
   "cell_type": "code",
   "execution_count": 28,
   "metadata": {},
   "outputs": [
    {
     "name": "stdout",
     "output_type": "stream",
     "text": [
      "훈련 데이터의 미니 배치의 개수 : 313\n",
      "테스트 데이터의 미니 배치의 개수 : 391\n",
      "검증 데이터의 미니 배치의 개수 : 79\n"
     ]
    }
   ],
   "source": [
    "print('훈련 데이터의 미니 배치의 개수 : {}'.format(len(train_iter)))\n",
    "print('테스트 데이터의 미니 배치의 개수 : {}'.format(len(test_iter)))\n",
    "print('검증 데이터의 미니 배치의 개수 : {}'.format(len(val_iter)))"
   ]
  },
  {
   "cell_type": "markdown",
   "metadata": {},
   "source": [
    "첫번째 미니 배치의 크기를 확인해보겠습니다."
   ]
  },
  {
   "cell_type": "code",
   "execution_count": 29,
   "metadata": {},
   "outputs": [
    {
     "name": "stdout",
     "output_type": "stream",
     "text": [
      "torch.Size([64, 457])\n"
     ]
    }
   ],
   "source": [
    "batch = next(iter(train_iter)) # 첫번째 미니배치\n",
    "print(batch.text.shape)"
   ]
  },
  {
   "cell_type": "markdown",
   "metadata": {},
   "source": [
    "첫번째 미니배치의 크기는 64 x 457임을 확인할 수 있습니다. 현재 fix_length를 정해주지 않았으므로 미니 배치 간 샘플들의 길이는 전부 상이합니다. 가령 두 번째 미니 배치의 크기를 확인하면 또 다른 것을 확인할 수 있습니다."
   ]
  },
  {
   "cell_type": "code",
   "execution_count": 30,
   "metadata": {},
   "outputs": [
    {
     "name": "stdout",
     "output_type": "stream",
     "text": [
      "torch.Size([64, 903])\n"
     ]
    }
   ],
   "source": [
    "batch = next(iter(train_iter)) # 두번째 미니배치\n",
    "print(batch.text.shape)"
   ]
  },
  {
   "cell_type": "markdown",
   "metadata": {},
   "source": [
    "두 개의 미니배치를 꺼내서 크기를 확인했으므로 다시 담기 위해 재로드하겠습니다."
   ]
  },
  {
   "cell_type": "code",
   "execution_count": 31,
   "metadata": {},
   "outputs": [],
   "source": [
    "train_iter, val_iter, test_iter = data.BucketIterator.splits(\n",
    "        (trainset, valset, testset), batch_size=BATCH_SIZE,\n",
    "        shuffle=True, repeat=False)"
   ]
  },
  {
   "cell_type": "markdown",
   "metadata": {},
   "source": [
    "## **3. RNN 모델 구현하기**"
   ]
  },
  {
   "cell_type": "code",
   "execution_count": 32,
   "metadata": {},
   "outputs": [],
   "source": [
    "class GRU(nn.Module):\n",
    "    def __init__(self, n_layers, hidden_dim, n_vocab, embed_dim, n_classes, dropout_p=0.2):\n",
    "        super(GRU, self).__init__()\n",
    "        self.n_layers = n_layers\n",
    "        self.hidden_dim = hidden_dim\n",
    "        \n",
    "        self.embed = nn.Embedding(n_vocab, embed_dim)\n",
    "        self.dropout = nn.Dropout(dropout_p)\n",
    "        self.gru = nn.GRU(embed_dim, self.hidden_dim, num_layers=self.n_layers, batch_first=True)\n",
    "        self.out = nn.Linear(self.hidden_dim, n_classes)\n",
    "    \n",
    "    def forward(self, x):\n",
    "        x = self.embed(x)\n",
    "        h_0 = self._init_state(batch_size=x.size(0)) # 첫번째 히든 상태를 0 벡터로 초기화\n",
    "        x, _ = self.gru(x, h_0) # GRU의 리턴값은 (배치 크기, 시퀀스 길이, 은닉 상태의 크기)\n",
    "        h_t = x[:, -1, :] # (배치 크기, 은닉 상태의 크기)의 텐서로 크기가 변경됨. 즉, 마지막 time-step의 은닉 상태만 가져온다.\n",
    "        self.dropout(h_t)\n",
    "        logit = self.out(h_t) # (배치 크기, 은닉 상태의 크기) -> (배치 크기, 출력층의 크기)\n",
    "        return logit\n",
    "    \n",
    "    def _init_state(self, batch_size=1):\n",
    "        weight = next(self.parameters()).data\n",
    "        return weight.new(self.n_layers, batch_size, self.hidden_dim).zero_()"
   ]
  },
  {
   "cell_type": "code",
   "execution_count": 34,
   "metadata": {},
   "outputs": [],
   "source": [
    "# 모델 설계\n",
    "model = GRU(1, 256, vocab_size, 128, n_classes, 0.5).to(DEVICE)\n",
    "optimizer = torch.optim.Adam(model.parameters(), lr=lr)"
   ]
  },
  {
   "cell_type": "code",
   "execution_count": 35,
   "metadata": {},
   "outputs": [],
   "source": [
    "# 모델 훈련 함수\n",
    "def train(model, optimizer, train_iter):\n",
    "    model.train()\n",
    "    for b, batch in enumerate(train_iter):\n",
    "        x, y = batch.text.to(DEVICE), batch.label.to(DEVICE)\n",
    "        y.data.sub_(1) # 레이블 값을 0과 1로 변환\n",
    "        optimizer.zero_grad()\n",
    "        \n",
    "        logit = model(x)\n",
    "        loss = F.cross_entropy(logit, y)\n",
    "        loss.backward()\n",
    "        optimizer.step()"
   ]
  },
  {
   "cell_type": "code",
   "execution_count": 38,
   "metadata": {},
   "outputs": [],
   "source": [
    "# 모델 평가 함수\n",
    "def evaluate(model, val_iter):\n",
    "    model.eval()\n",
    "    corrects, total_loss = 0, 0\n",
    "    for batch in val_iter:\n",
    "        x, y = batch.text.to(DEVICE), batch.label.to(DEVICE)\n",
    "        y.data.sub_(1) # 레이블 값을 0과 1로 변환\n",
    "        logit = model(x)\n",
    "        loss = F.cross_entropy(logit, y, reduction='sum')\n",
    "        total_loss += loss.item()\n",
    "        corrects += (logit.max(1)[1].view(y.size()).data == y.data).sum()\n",
    "    size = len(val_iter.dataset)\n",
    "    avg_loss = total_loss / size\n",
    "    avg_accuracy = 100.0 * corrects / size\n",
    "    return avg_loss, avg_accuracy"
   ]
  },
  {
   "cell_type": "code",
   "execution_count": 39,
   "metadata": {},
   "outputs": [
    {
     "name": "stdout",
     "output_type": "stream",
     "text": [
      "[Epoch: 1] val loss :  0.69 | val accuracy : 52.76\n",
      "[Epoch: 2] val loss :  0.69 | val accuracy : 51.56\n",
      "[Epoch: 3] val loss :  0.69 | val accuracy : 52.22\n",
      "[Epoch: 4] val loss :  0.70 | val accuracy : 49.84\n",
      "[Epoch: 5] val loss :  0.62 | val accuracy : 66.70\n",
      "[Epoch: 6] val loss :  0.41 | val accuracy : 81.76\n",
      "[Epoch: 7] val loss :  0.35 | val accuracy : 85.54\n",
      "[Epoch: 8] val loss :  0.34 | val accuracy : 86.10\n",
      "[Epoch: 9] val loss :  0.38 | val accuracy : 85.98\n",
      "[Epoch: 10] val loss :  0.40 | val accuracy : 85.88\n"
     ]
    }
   ],
   "source": [
    "# 모델 학습\n",
    "best_val_loss = None\n",
    "for e in range(1, EPOCHS+1):\n",
    "    train(model, optimizer, train_iter)\n",
    "    val_loss, val_accuracy = evaluate(model, val_iter)\n",
    "\n",
    "    print(\"[Epoch: %d] val loss : %5.2f | val accuracy : %5.2f\" % (e, val_loss, val_accuracy))\n",
    "\n",
    "    # 검증 오차가 가장 적은 최적의 모델을 저장\n",
    "    if not best_val_loss or val_loss < best_val_loss:\n",
    "        if not os.path.isdir(\"snapshot\"):\n",
    "            os.makedirs(\"snapshot\")\n",
    "        torch.save(model.state_dict(), './snapshot/txtclassification.pt')\n",
    "        best_val_loss = val_loss"
   ]
  },
  {
   "cell_type": "markdown",
   "metadata": {},
   "source": [
    "## **4. 마지막 time step의 hidden state 가져오는 것 이해하기**"
   ]
  },
  {
   "cell_type": "markdown",
   "metadata": {},
   "source": [
    "위에서 GRU의 마지막 time-step의 hidden state를 가져오는 코드를 보겠습니다."
   ]
  },
  {
   "cell_type": "code",
   "execution_count": 40,
   "metadata": {},
   "outputs": [
    {
     "data": {
      "text/plain": [
       "'\\n# GRU의 리턴값은 (배치 크기, 시퀀스 길이, 은닉 상태의 크기)\\nx, _ = self.gru(x, h_0)  \\n# (배치 크기, 은닉 상태의 크기)의 텐서로 크기가 변경됨. 즉, 마지막 time-step의 은닉 상태만 가져온다.\\nh_t = x[:,-1,:] \\n'"
      ]
     },
     "execution_count": 40,
     "metadata": {},
     "output_type": "execute_result"
    }
   ],
   "source": [
    "\"\"\"\n",
    "# GRU의 리턴값은 (배치 크기, 시퀀스 길이, 은닉 상태의 크기)\n",
    "x, _ = self.gru(x, h_0)  \n",
    "# (배치 크기, 은닉 상태의 크기)의 텐서로 크기가 변경됨. 즉, 마지막 time-step의 은닉 상태만 가져온다.\n",
    "h_t = x[:,-1,:] \n",
    "\"\"\""
   ]
  },
  {
   "cell_type": "markdown",
   "metadata": {},
   "source": [
    "(배치 크기, 시퀀스 길이, 은닉 상태의 크기)라는 3차원 텐서가 x에 저장되고, x는 [:, -1, :] 연산을 통해서 (배치 크기, 은닉 상태의 크기)의 텐서로 변환됩니다. 여기서 어떤 일이 벌어졌는제 임의의 텐서를 사용하여 실습해봅시다."
   ]
  },
  {
   "cell_type": "code",
   "execution_count": 41,
   "metadata": {},
   "outputs": [],
   "source": [
    "inputs = torch.rand(3, 4, 5) # 임의의 3차원 텐서 생성"
   ]
  },
  {
   "cell_type": "code",
   "execution_count": 42,
   "metadata": {},
   "outputs": [
    {
     "name": "stdout",
     "output_type": "stream",
     "text": [
      "텐서의 크기 : torch.Size([3, 4, 5])\n"
     ]
    }
   ],
   "source": [
    "print(\"텐서의 크기 :\", inputs.shape)"
   ]
  },
  {
   "cell_type": "markdown",
   "metadata": {},
   "source": [
    "현재 임의로 생성한 텐서는 (3, 4, 5)의 크기를 가집니다. 이를 (배치 크기, 시퀀스 길이, 은닉 상태의 크기)로 이해해보겠습니다. 다시 말해 3개의 샘플에 대해서 4개의 시점에 대해서 5차원의 은닉 상태가 존재합니다. 텐서의 값을 출력해보겠습니다."
   ]
  },
  {
   "cell_type": "code",
   "execution_count": 43,
   "metadata": {},
   "outputs": [
    {
     "data": {
      "text/plain": [
       "tensor([[[0.0201, 0.5706, 0.5732, 0.6949, 0.2825],\n",
       "         [0.8844, 0.0124, 0.4500, 0.6063, 0.3759],\n",
       "         [0.6036, 0.5584, 0.6196, 0.7123, 0.9885],\n",
       "         [0.6619, 0.6609, 0.6474, 0.9190, 0.2404]],\n",
       "\n",
       "        [[0.0074, 0.4659, 0.2264, 0.4641, 0.8252],\n",
       "         [0.8962, 0.7964, 0.2932, 0.7037, 0.1189],\n",
       "         [0.1162, 0.8035, 0.3774, 0.3182, 0.7952],\n",
       "         [0.3687, 0.0804, 0.2903, 0.1778, 0.4458]],\n",
       "\n",
       "        [[0.9602, 0.6650, 0.2936, 0.8783, 0.7476],\n",
       "         [0.6762, 0.1738, 0.1500, 0.6426, 0.1625],\n",
       "         [0.2424, 0.6627, 0.9657, 0.3344, 0.5854],\n",
       "         [0.9183, 0.1766, 0.8052, 0.3753, 0.7395]]])"
      ]
     },
     "execution_count": 43,
     "metadata": {},
     "output_type": "execute_result"
    }
   ],
   "source": [
    "inputs"
   ]
  },
  {
   "cell_type": "markdown",
   "metadata": {},
   "source": [
    "이제 [:, -1, :] 연산을 해봅시다."
   ]
  },
  {
   "cell_type": "code",
   "execution_count": 44,
   "metadata": {},
   "outputs": [
    {
     "data": {
      "text/plain": [
       "tensor([[0.6619, 0.6609, 0.6474, 0.9190, 0.2404],\n",
       "        [0.3687, 0.0804, 0.2903, 0.1778, 0.4458],\n",
       "        [0.9183, 0.1766, 0.8052, 0.3753, 0.7395]])"
      ]
     },
     "execution_count": 44,
     "metadata": {},
     "output_type": "execute_result"
    }
   ],
   "source": [
    "inputs[:, -1, :]"
   ]
  },
  {
   "cell_type": "markdown",
   "metadata": {},
   "source": [
    "3개의 샘플에서 각 마지막 time-step의 hidden state 값만 가져온 것을 볼 수 있습니다. "
   ]
  },
  {
   "cell_type": "code",
   "execution_count": 45,
   "metadata": {},
   "outputs": [
    {
     "name": "stdout",
     "output_type": "stream",
     "text": [
      "텐서의 크기 : torch.Size([3, 5])\n"
     ]
    }
   ],
   "source": [
    "print(\"텐서의 크기 :\", inputs[:, -1, :].shape)"
   ]
  },
  {
   "cell_type": "markdown",
   "metadata": {},
   "source": [
    "텐서의 크기 또한 (배치 크기, 은닉 상태의 크기)가 됩니다."
   ]
  }
 ],
 "metadata": {
  "interpreter": {
   "hash": "168b3bbc19afd1ef550d68b948460bcb86336de7649712fa882c5012c218f57c"
  },
  "kernelspec": {
   "display_name": "Python 3.8.12 64-bit ('nlp': conda)",
   "language": "python",
   "name": "python3"
  },
  "language_info": {
   "codemirror_mode": {
    "name": "ipython",
    "version": 3
   },
   "file_extension": ".py",
   "mimetype": "text/x-python",
   "name": "python",
   "nbconvert_exporter": "python",
   "pygments_lexer": "ipython3",
   "version": "3.8.12"
  },
  "orig_nbformat": 4
 },
 "nbformat": 4,
 "nbformat_minor": 2
}