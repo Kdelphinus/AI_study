{
 "cells": [
  {
   "cell_type": "markdown",
   "metadata": {},
   "source": [
    "앞서 배운 RNN을 가장 단순한 형태의 바닐라 RNN이라고 합니다. 바닐라 RNN의 한계는 극복하기 위한 다양한 RNN의 변형이 나왔습니다. 이제 배울 LSTM도 그 중 하나입니다. 이제 바닐라 RNN의 한계와 LSTM에 대해 알아보겠습니다."
   ]
  },
  {
   "cell_type": "markdown",
   "metadata": {},
   "source": [
    "## **1. 바닐라 RNN의 한계**"
   ]
  },
  {
   "cell_type": "markdown",
   "metadata": {},
   "source": [
    "<img src = \"https://wikidocs.net/images/page/22888/lstm_image1_ver2.PNG\">\n",
    "\n",
    "앞 챕터에서 바닐라 RNN은 이전 계산 결과에 의존합니다. 하지만 바닐라 RNN은 비교적 짧은 시퀀스에 대해서만 효과를 보인다는 단점이 있습니다. 바닐라 RNN의 시점이 길어질수록 앞의 정보가 뒤로 충분히 전달되지 못합니다. 위의 그림처럼 첫번째 입력값인 $x_1$의 정보량을 짙은 남색으로 표현했을 때, 색이 점차 얕아지는 것으로 시점이 지날수록 $x_1$의 정보량은 손실되고, 시점이 충분히 긴 상황에서는 $x_1$의 전체 저옵에 대한 영향력은 거의 미비합니다. \n",
    "\n",
    "어쩌면 가장 중요한 정보가 시점의 앞 쪽에 위치할 수도 있습니다. 이렇게 되면 RNN이 충분한 기억력을 가지고 있지 못한다면 뒤쪽 단어를 엉뚱하게 예측합니다.\n",
    "\n",
    "이를 **장기 의존성 문제(the problem of Long-Term Dependencies)** 라고 합니다."
   ]
  },
  {
   "cell_type": "markdown",
   "metadata": {},
   "source": [
    "## **2. 바닐라 RNN 내부 열어보기**"
   ]
  },
  {
   "cell_type": "markdown",
   "metadata": {},
   "source": [
    "<img src = \"https://wikidocs.net/images/page/22888/vanilla_rnn_ver2.PNG\">\n",
    "\n",
    "LSTM에 대해서 이해해보기 전에 먼저 바닐라 RNN의 뚜껑을 열어보겠습니다. 위 그림은 바닐라 RNN의 내부 구조를 보여줍니다. 이때 편향 $b$는 생략하겠습니다. 위의 그림에 편향 $b$를 그린다면 $x_t$ 옆에 tanh로 향하는 또 하나의 입력선을 그리면 됩니다.\n",
    "\n",
    "$$h_t = tanh(W_x x_t + W_h h_{t-1} + b)$$\n",
    "\n",
    "바닐라 RNN은 $x_t$와 $h_{t-1}$이라는 두 개의 입력이 각각의 가중치와 곱해져서 메모리 셀의 입력이 됩니다. 그리고 이를 tanh 함수의 입력으로 사용하고 이 값은 은닉층의 출력인 은닉 상태가 됩니다."
   ]
  },
  {
   "cell_type": "markdown",
   "metadata": {},
   "source": [
    "## **3. LSTM(Long Short-Term Memory)**"
   ]
  },
  {
   "cell_type": "markdown",
   "metadata": {},
   "source": [
    "<img src = \"https://wikidocs.net/images/page/22888/vaniila_rnn_and_different_lstm_ver2.PNG\">\n",
    "\n",
    "위 그림은 LSTM의 전체적인 내부의 모습을 보여줍니다. 전통적인 RNN의 이러한 단점을 보완한 RNN의 일종을 장단기 메모리(LSTM)라고 합니다. LSTM은 은닉층의 메모리 셀에 입력 게이트, 망각 게이트, 출력 게이트를 추가하여 불필요한 기억을 지우고, 기억해야할 것들을 정합니다. 요약하면 LSTM은 은닉 상태(hidden state)를 계산하는 식이 전통적인 RNN보다 조금 더 복잡해졌으며 셀 상태(cell state)라는 값을 추가했습니다. 위 그림에서는 t시점의 셀 상태를 $C_t$로 표현했습니다. LSTM은 RNN과 비교하면 긴 시퀀스의 입력을 처리하는데 탁월한 성능을 보입니다.\n",
    "\n",
    "<img src = \"https://wikidocs.net/images/page/22888/cellstate.PNG\">\n",
    "\n",
    "셀 상태는 위 그림, 왼쪽에서 오른쪽으로 가는 굵은 선입니다. 셀 상태 또한 이전에 배운 은닉 상태처럼 이전 시점의 셀 상태가 다음 시점의 셀 상태를 구하기 위한 입력으로서 사용됩니다.\n",
    "\n",
    "은닉 상태값과 셀 상태값을 구하기 위해서 LSTM에선 새로 추가된 3개의 게이트를 사용합니다. 각 게이트는 삭제, 입력, 출력 게이트라고 부르며 이 3개의 게이트에는 공통적으로 시그모이드 함수가 존재합니다. 시그모이드 함수를 통해 나오는 0과 1 사이의 값으로 게이트를 조절합니다. \n",
    "\n",
    "- 이하 식에서 $\\sigma$는 시그모이드 함수입니다.\n",
    "- $W_{xi}, W_{xg}, W_{xf}, W_{xo}$는 $x_t$와 함께 각 게이트에서 사용되는 4개의 가중치입니다.\n",
    "- $W_{hi}, W_{hg}, W_{hf}, W_{ho}$는 $h_{t-1}$와 함께 각 게이트에서 사용되는 4개의 가중치입니다.\n",
    "- $b_i, b_g, b_f, b_o$는 각 게이트에서 사용되는 4개의 편향입니다."
   ]
  },
  {
   "cell_type": "markdown",
   "metadata": {},
   "source": [
    "### **1) 입력 게이트**"
   ]
  },
  {
   "cell_type": "markdown",
   "metadata": {},
   "source": [
    "<img src = \"https://wikidocs.net/images/page/22888/inputgate.PNG\">\n",
    "\n",
    "$i_t = \\sigma (W_{xi} x_t + W_{hi} h_{t-1} + b_i)$  \n",
    "$g_t = tanh(W_{xg} x_t + W_{hg} h_{t-1} + b_g)$  \n",
    "\n",
    "입력 게이트는 현재 정보를 기억하기 위한 게이트입니다. 우선 현재 시점 t의 $x$값과 입력 게이트로 이어지는 가중치 $W_{xi}$를 곱한 값과 이전 시점 t-1의 은닉 상태가 입력게이트로 이어지는 가중치 $W_{hi}$를 곱한 값을 더하여 시그모이드 함수를 지나게 됩니다. 이를 $i_t$라고 합니다.\n",
    "\n",
    "그리고 현재 시점 t의 $x$값과 입력 게이트로 이어지는 가중치 $W_{xi}$를 곱한 값과 이전 시점 t-1의 은닉 상태가 입력 게이트로 이어지는 가중치 $W_{hg}$를 곱한 값을 더하여 tanh 함수를 지납니다. 이를 $g_t$라고 합니다.\n",
    "\n",
    "위 결과를 통해 나온 시그모이드 함수를 지나 나오는 0 ~ 1 사이의 값과 tanh 함수를 지나 나오는 -1 ~ 1 사이의 값을 가지고 선택된 기억할 정보의 양을 다른 게이트에서 정하게 됩니다.\n"
   ]
  },
  {
   "cell_type": "markdown",
   "metadata": {},
   "source": [
    "### **2) 삭제 게이트**"
   ]
  },
  {
   "cell_type": "markdown",
   "metadata": {},
   "source": [
    "<img src = \"https://wikidocs.net/images/page/22888/forgetgate.PNG\">\n",
    "\n",
    "$f_t = \\sigma (W_{xf} x_t + W_{hf} h_{t-1} + b_f)$\n",
    "\n",
    "삭제 게이트는 기억을 삭제하기 위한 게이트입니다. 현재 시점 t의 $x$값과 이전 시점 t-1의 은닉 상태가 시그모이드 함수를 지나게 됩니다. 시그모이드 함수를 지나면 0과 1사이의 값이 나오는데 0에 가까울수록 정보가 많이 삭제된 것이고 1에 가까울수록 정보를 온전히 기억한 것입니다. 이를 가지고 셀 상태를 구하게 되는데 구체적으로는 아래의 셀에서 확인할 수 있습니다."
   ]
  },
  {
   "cell_type": "markdown",
   "metadata": {},
   "source": [
    "### **3) 셀 상태(장기 상태)**"
   ]
  },
  {
   "cell_type": "markdown",
   "metadata": {},
   "source": [
    "<img src = \"https://wikidocs.net/images/page/22888/cellstate2.PNG\">\n",
    "\n",
    "$C_t = f_t \\circ C_{t-1} + i_t \\circ g_t$\n",
    "\n",
    "셀 상태 $C_t$를 LSTM에서는 장기 상태라고 부르기도 합니다. 그렇다면 셀 상태를 구하는 방법을 알아보겠습니다. 삭제 게이트에서 일부 기억을 잃은 상태입니다. \n",
    "\n",
    "입력 게이트에서 구한 $i_t, g_t$ 값에 대해서 원소별 곱(entrywise product)을 진행합니다. 여기서는 $\\circ$로 표현하곘습니다. 이것이 이번에 선택된 기억할 값입니다.\n",
    "\n",
    "입력 게이트에서 선택된 기억을 삭제 게이트의 결과값과 더합니다. 이 값을 현재 시점 t의 셀 상태라고 하며, 이 값은 t+1 시점의 LSTM 셀로 넘겨집니다.\n",
    "\n",
    "이제 삭제 게이트와 입력 게이트의 영향력을 이해해봅시다. 만약 삭제 게이트의 출력값인 $f_c$가 0이 된다면, 이전 시점의 셀 상태값인 $C_{t-1}$은 현재 시점의 셀 상태값을 결정하기 위한 영향력이 0이 되면서, 오직 입력 게이트의 결과만 현재 시점의 셀 상태 $C_t$을 결정할 수 있습니다. \n",
    "\n",
    "반대로 입력 게이트 $i_t$값을 0이라고 한다면, 현재 시점의 셀 상태값 $C_t$는 오직 이전 시점의 셀 상태값 $C_{t-1}$의 값에만 의존합니다. 이는 입력 게이트를 완전히 닫고 삭제 게이트만을 연 상태를 의미합니다. \n",
    "\n",
    "결과적으로 삭제 게이트는 이전 시점의 입력을 얼마나 반영할지를 의미하고, 입력 게이트는 현재 시점의 입력을 얼마나 반영할지 결정합니다."
   ]
  },
  {
   "cell_type": "markdown",
   "metadata": {},
   "source": [
    "### **4) 출력 게이트와 은닉 상태(단기 상태)**"
   ]
  },
  {
   "cell_type": "markdown",
   "metadata": {},
   "source": [
    "<img src = \"https://wikidocs.net/images/page/22888/outputgateandhiddenstate.PNG\">\n",
    "\n",
    "$o_t = \\sigma (W_{xo} x_t + W_{ho} h_{t-1} + b_o)$  \n",
    "$h_t = o_t \\circ tanh(C_t)$\n",
    "\n",
    "출력 게이트는 현재 시점 t의 $x_t$값과 이전 시점 t-1의 은닉 상태가 시그모이드 함수를 지난 값입니다. 해당 값은 현재 시점 t의 은닉 상태를 결정하는 일에 쓰입니다.\n",
    "\n",
    "은닉 상태를 단기 상태라고 하기도 합니다. 은닉 상태는 장기 상태의 값이 tanh 함수를 지나 -1과 1 사이의 값입니다. 해당 값은 출력 게이트의 값과 연산되면서, 값이 걸러지는 효과가 발생합니다. 단기 상태의 값은 또한 출력층으로도 향합니다."
   ]
  },
  {
   "cell_type": "markdown",
   "metadata": {},
   "source": [
    "## **4. 파이토치의 nn.LSTM()**"
   ]
  },
  {
   "cell_type": "markdown",
   "metadata": {},
   "source": [
    "파이토치에서 LSTM 셀을 사용하는 방법은 매우 간단합니다. 기존의 RNN셀을 LSTM으로 바꾸면 됩니다."
   ]
  },
  {
   "cell_type": "code",
   "execution_count": 1,
   "metadata": {},
   "outputs": [
    {
     "data": {
      "text/plain": [
       "LSTM(4, 8, batch_first=True)"
      ]
     },
     "execution_count": 1,
     "metadata": {},
     "output_type": "execute_result"
    }
   ],
   "source": [
    "import torch.nn as nn\n",
    "\n",
    "input_dim = 4\n",
    "hidden_size = 8\n",
    "\n",
    "nn.RNN(input_dim, hidden_size, batch_first=True)\n",
    "nn.LSTM(input_dim, hidden_size, batch_first=True)"
   ]
  }
 ],
 "metadata": {
  "interpreter": {
   "hash": "168b3bbc19afd1ef550d68b948460bcb86336de7649712fa882c5012c218f57c"
  },
  "kernelspec": {
   "display_name": "Python 3.8.12 64-bit ('nlp': conda)",
   "language": "python",
   "name": "python3"
  },
  "language_info": {
   "codemirror_mode": {
    "name": "ipython",
    "version": 3
   },
   "file_extension": ".py",
   "mimetype": "text/x-python",
   "name": "python",
   "nbconvert_exporter": "python",
   "pygments_lexer": "ipython3",
   "version": "3.8.12"
  },
  "orig_nbformat": 4
 },
 "nbformat": 4,
 "nbformat_minor": 2
}
