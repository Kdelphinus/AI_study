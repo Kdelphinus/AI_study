{
 "cells": [
  {
   "cell_type": "markdown",
   "metadata": {},
   "source": [
    "RNN(Recurrent Neural Network)은 입력과 출력을 시퀀스 단위로 처리하는 모델입니다. 예를 들어 번역할 때 번역된 문장과 입력된 문장 모두 단어 시퀀스라고 합니다. 그리고 이러한 시퀀스를 처리하기 위해 고안된 모델이 시퀀스 모델이며 그 중 RNN은 딥 러닝에서 가장 기본적인 시퀀스 모델입니다."
   ]
  },
  {
   "cell_type": "markdown",
   "metadata": {},
   "source": [
    "## **1. 순환 신경망**"
   ]
  },
  {
   "cell_type": "markdown",
   "metadata": {},
   "source": [
    "앞서 배운 신경망들은 전부 은닉층에서 활성화 함수를 지난 값들이 오직 출력층 방향으로만 향했습니다. 이와 같은 신경망들을 피드 포워드 신경망(Feed Forward NN)이라고 합니다. 그런데 그렇지 않은 신경망들도 있습니다. RNN 또한 그 중 하나로 은닉층의 노드에서 활성화 함수를 통해 나온 결과값을 출력층 방향과 함께 다시 은닉층 노드의 다음 계산 입력으로 보내는 특징을 가지고 있습니다. \n",
    "\n",
    "<img src = \"https://wikidocs.net/images/page/22886/rnn_image1_ver2.PNG\">\n",
    "\n",
    "이를 위 그림처럼 표현할 수 있습니다. x는 입력층의 입력 벡터, y는 출력층의 출력 벡터입니다. 실제로 편향 b도 입력으로 존재할 수 있지만 앞으로의 그림에서는 생략하겠습니다. RNN에서 은닉층의 활성화 함수를 통해 결과를 내보내는 역할을 하는 노드를 셀이라고 합니다. 이 셀은 이전의 값을 기억하려고 하는 일종의 메모리 역할을 수행하므로 이를 **메모리 셀** 또는 **RNN 셀** 이라고 표현합니다. \n",
    "\n",
    "은닉층의 메모리 셀은 각각의 시점에서 바로 이전 시점에서의 은닉층의 메모리 셀에서 나온 값을 자신의 입력으로 사용하는 재귀적 활동을 하고 있습니다. 앞으로는 현재 시점을 변수 t로 사용하겠습니다. 이는 현재 시점 t에서 메모리 셀이 갖고 있는 값은 과거의 메모리 셀들의 영향을 받은 것이란 걸 말합니다.\n",
    "\n",
    "메모리 셀이 출력층 방향으로 보내는 값을 **은닉 상태(hidden state)** 라고 합니다. 다시 말해 t시점의 메모리 셀은 t - 1 시점의 메모리 셀이 보낸 은닉 상태값을 t시점의 은닉 상태 계산을 위한 입력값으로 사용합니다.\n",
    "\n",
    "<img src = \"https://wikidocs.net/images/page/22886/rnn_image2_ver3.PNG\">\n",
    "\n",
    "RNN을 표현할 때는 일반적으로 위 그림처럼 사이클을 그려 재귀를 표현하거나 화살표를 그려 여러 시점으로 펼쳐 표현합니다. \n",
    "\n",
    "RNN은 뉴런이란 단위 대신 입력층과 출력층에서 각각 입력 벡터, 출력 벡터, 은닉 상태라는 표현을 주로 사용합니다. 그래서 위 그림에 회색과 초록색 박스는 기본적으로 벡터 단위로 가정합니다."
   ]
  },
  {
   "cell_type": "markdown",
   "metadata": {},
   "source": [
    "또한 RNN은 밑의 그림처럼 입력과 출력의 길이를 다르게 설계할 수 있습니다.\n",
    "\n",
    "<img src = \"https://wikidocs.net/images/page/22886/rnn_image3_ver2.PNG\">\n",
    "\n",
    "위 구조가 자연어 처리에서 어떻게 사용될 수 있는지 예시를 보겠습니다. 예를 들어 하나의 입력에 대해서 여러 개의 출력(one-to-many)의 모델은 하나의 이미지 입력에 대해서 사진의 제목을 출력하는 image captioning 작업에 사용할 수 있습니다. 사진의 제목은 단어들의 나열이므로 시퀀스 출력입니다.\n",
    "\n",
    "<img src = \"https://wikidocs.net/images/page/22886/rnn_image3.5.PNG\">\n",
    "\n",
    "또한 단어 시퀀스에 대해서 하나의 출력(many-to-one)을 하는 모델은 입력 문서가 긍정적인지 부정적인지를 판별하는 감성 분류(sentiment classification)이나 스팸 메일 분류(spam detection)에 사용할 수 있습니다. 위 그림처럼 나타낼 수 있습니다.\n",
    "\n",
    "<img src = \"https://wikidocs.net/images/page/22886/rnn_image3.7.PNG\">\n",
    "\n",
    "다대다(many-to-many) 모델의 경우, 입력 문장으로부터 대답 문장을 출력하는 챗봇과 입력 문장으로부터 번역된 문장을 출력하는 번역기, 개체명 인식이나 품사 태깅과 같은 작업을 할 수 있습니다."
   ]
  },
  {
   "cell_type": "markdown",
   "metadata": {},
   "source": [
    "이제 RNN에 대한 수식을 정의하겠습니다.\n",
    "\n",
    "<img src = \"https://wikidocs.net/images/page/22886/rnn_image4_ver2.PNG\">\n",
    "\n",
    "현재 시점 t에서 은닉 상태값을 $h_t$라고 정의하겠습니다. 은닉층의 메모리 셀은 $h_t$를 계산하기 위해서 총 두 개의 가중치를 갖게 됩니다. 하나는 입력층에서 입력값을 위한 가중치 $W_x$이고, 하나는 이전 시점 t - 1의 은닉 상태값인 $h_{t-1}$을 위한 가중치 $W_h$입니다. \n",
    "\n",
    "$$\\text{hidden layer} : h_t = tanh(W_x x_t + W_h h_{t-1} + b)$$\n",
    "$$\\text{output layer} : y_t = f(W_y h_t + b)$$\n",
    "\n",
    "단 $f$는 비선형 활성화 함수 중 하나여야 한다.\n",
    "\n",
    "RNN의 은닉층 연산을 벡터와 행렬 연산으로도 이해할 수 있습니다. 자연어 처리에서 RNN의 입력 $x_t$는 대부분 단어 벡터로 간주할 수 있는데, 단어 벡터의 차원을 $d$라고 하고, 은닉 상태의 크기를 $D_h$라고 했을 때 각 벡터와 행렬의 크기는 다음과 같습니다.\n",
    "\n",
    "$$x_t: (d \\times 1) \\\\\n",
    "W_x: (D_h \\times d) \\\\\n",
    "W_h: (D_h \\times D_h) \\\\\n",
    "h_{t-1}: (D_h \\times 1) \\\\\n",
    "b: (D_h \\times 1)$$\n",
    "\n",
    "배치 크기가 1이고 $d$와 $D_h$ 두 값 모두를 4로 가정했을 때, RNN의 은닉층 연산을 그림으로 표현하면 다음과 같습니다.\n",
    "\n",
    "<img src = \"https://wikidocs.net/images/page/22886/rnn_images4-5.PNG\">\n",
    "\n",
    "이때 $h_t$를 계산하기 위한 활성화 함수로는 주로 tanh가 사용되지만 ReLU로 바꿔 시도하는 경우도 있습니다.\n",
    "\n",
    "위의 식에서 각각의 가중치 $W_x, W_h, W_y$의 값은 모든 시점에서 값을 동일하게 공유합니다. 만약, 은닉층이 2개 이상일 경우에는 은닉층 2개의 가중치는 서로 다릅니다.\n",
    "\n",
    "출력층은 결과값인 $y_t$를 계산하기 위한 활성화 함수로 상황에 따라 다릅니다. 이진 분류를 해야할 땐 시그모이드 함수를, 다양한 카테고리 중 선택해야 한다면 소프트맥스 함수를 사용할 것입니다."
   ]
  },
  {
   "cell_type": "markdown",
   "metadata": {},
   "source": [
    "## **2. 파이썬으로 RNN 구현하기**"
   ]
  },
  {
   "cell_type": "markdown",
   "metadata": {},
   "source": [
    "이제 numpy로 RNN층으로 직접 구현해보겠습니다. 앞서 메모리 셀에서 은닉 상태를 계산하는 식을 다음과 같이 정의하였습니다.\n",
    "\n",
    "$$h_t = tanh(W_x X_t + W_h h_{t-1} + b)$$\n",
    "\n",
    "실제 구현에 앞서 간단한 의사 코드(pseudo code)를 작성해보겠습니다."
   ]
  },
  {
   "cell_type": "code",
   "execution_count": 2,
   "metadata": {},
   "outputs": [
    {
     "data": {
      "text/plain": [
       "'\\nhidden_state_t = 0 # 초기 은닉 상태를 0(벡터)로 초기화\\nfor input_t in input_length: # 각 시점마다 입력을 받는다\\n    output_t = tanh(input_t, hidden_state_t) # 각 시점에 대해서 입력과 은닉 상태를 가지고 연산\\n    hidden_state_t = output_t # 계산 결과는 현재 시점의 은닉 상태가 된다.\\n'"
      ]
     },
     "execution_count": 2,
     "metadata": {},
     "output_type": "execute_result"
    }
   ],
   "source": [
    "# 아래의 코드는 의사 코드로 실제 동작하는 코드가 아님.\n",
    "\"\"\"\n",
    "hidden_state_t = 0 # 초기 은닉 상태를 0(벡터)로 초기화\n",
    "for input_t in input_length: # 각 시점마다 입력을 받는다\n",
    "    output_t = tanh(input_t, hidden_state_t) # 각 시점에 대해서 입력과 은닉 상태를 가지고 연산\n",
    "    hidden_state_t = output_t # 계산 결과는 현재 시점의 은닉 상태가 된다.\n",
    "\"\"\""
   ]
  },
  {
   "cell_type": "markdown",
   "metadata": {},
   "source": [
    "우선 t시점의 은닉 상태를 hidden_state_t라는 변수로 선언하였고, 입력 데이터의 길이를 input_length로 선언했습니다. 이 경우, 입력 데이터의 길이는 곧 총 시점의 수(timesteps)가 됩니다. 그리고 t시점의 입력값을 input_t로 선언했습니다. 각 메모리 셀은 각 시점마다 input_t와 hidden_state_t(이전 상태의 은닉 상태)를 입력으로 활성화 함수인 tanh 함수를 통해 현 시점의 hidden_state_t를 계산합니다.\n",
    "\n",
    "의사 코드를 통해 간단히 개념을 정리했으니 이제 RNN 층을 실제 동작되도록 구현하겠습니다. 아래의 코드들은 이해를 돕기 위해 (timesteps, input_size) 크기의 2D 텐서를 입력으로 받지만 실제 파이토치에서는 (batch_size, timesteps, input_size) 크기의 3D 텐서를 입력으로 받습니다."
   ]
  },
  {
   "cell_type": "code",
   "execution_count": 2,
   "metadata": {},
   "outputs": [],
   "source": [
    "import numpy as np\n",
    "\n",
    "timesteps = 10 # 시점의 수. NLP에서는 보통 문장의 길이가 된다.\n",
    "input_size = 4 # 입력의 차원. NLP에서는 보통 단어 벡터의 차원이 된다.\n",
    "hidden_size = 8 # 은닉 상태의 크기. 메모리 셀의 용량이다.\n",
    "\n",
    "inputs = np.random.random((timesteps, input_size)) # 입력에 해당되는 2D 텐서\n",
    "hidden_state_t = np.zeros((hidden_size,)) # 초기 은닉 상태는 0(벡터)로 초기화,\n",
    "# 은닉 상태의 크기 hidden_size로 은닉 상태를 만듬"
   ]
  },
  {
   "cell_type": "markdown",
   "metadata": {},
   "source": [
    "우선 시점, 입력의 차원, 은닉 상태의 크기, 초기 은닉 상태를 정의했습니다. 현재 초기 은닉 상태는 0의 값을 가지는 벡터로 초기화가 된 상태입니다. 초기 은닉 상태를 출력하면 다음과 같습니다."
   ]
  },
  {
   "cell_type": "code",
   "execution_count": 3,
   "metadata": {},
   "outputs": [
    {
     "name": "stdout",
     "output_type": "stream",
     "text": [
      "[0. 0. 0. 0. 0. 0. 0. 0.]\n"
     ]
    }
   ],
   "source": [
    "print(hidden_state_t) # 8의 크기를 가지는 은닉 상태"
   ]
  },
  {
   "cell_type": "markdown",
   "metadata": {},
   "source": [
    "은닉 상태의 크기를 8로 정의하였기에 8의 차원을 가지고 0으로 구성된 벡터가 출력됩니다. 이제 가중치와 편향을 정의하겠습니다."
   ]
  },
  {
   "cell_type": "code",
   "execution_count": 4,
   "metadata": {},
   "outputs": [],
   "source": [
    "# 입력에 대한 가중치\n",
    "Wx = np.random.random((hidden_size, input_size)) # (8, 4) 크기의 2D 텐서 생성\n",
    "\n",
    "# 은닉 상태에 대한 가중치\n",
    "Wh = np.random.random((hidden_size, hidden_size)) # (8, 8) 크기의 2D 텐서 생성\n",
    "\n",
    "# 편향 생성\n",
    "b = np.random.random((hidden_size,)) # (8,) 크기의 1D 텐서 생성"
   ]
  },
  {
   "cell_type": "markdown",
   "metadata": {},
   "source": [
    "각 가중치와 편향의 크기는 다음과 같습니다.\n",
    "\n",
    "- Wx: (은닉 상태의 크기 x 입력의 차원)\n",
    "- Wh: (은닉 상태의 크기 x 은닉 상태의 크기)\n",
    "- b: (은닉 상태의 크기)\n",
    "\n",
    "이제 모든 시점의 은닉 상태를 출력한다고 가정하고, RNN층을 동작시켜봅시다."
   ]
  },
  {
   "cell_type": "code",
   "execution_count": 5,
   "metadata": {},
   "outputs": [
    {
     "name": "stdout",
     "output_type": "stream",
     "text": [
      "(1, 8)\n",
      "(2, 8)\n",
      "(3, 8)\n",
      "(4, 8)\n",
      "(5, 8)\n",
      "(6, 8)\n",
      "(7, 8)\n",
      "(8, 8)\n",
      "(9, 8)\n",
      "(10, 8)\n",
      "[[0.95305644 0.74158306 0.8150517  0.81275492 0.95131966 0.88728033\n",
      "  0.83977794 0.98567564]\n",
      " [0.9250116  0.76767032 0.83402477 0.74082608 0.95373561 0.82076568\n",
      "  0.77432239 0.97499357]\n",
      " [0.89355495 0.57249327 0.71629132 0.71330445 0.84920199 0.56078581\n",
      "  0.68337477 0.93917365]\n",
      " [0.95190323 0.80695197 0.87160739 0.80753675 0.96258167 0.85057878\n",
      "  0.88028629 0.98522584]\n",
      " [0.93979501 0.84254027 0.90025249 0.76279143 0.96925977 0.79038208\n",
      "  0.88312626 0.98166019]\n",
      " [0.86635343 0.59622314 0.71360247 0.60787558 0.89310805 0.6514216\n",
      "  0.57320124 0.94162111]\n",
      " [0.82507221 0.54832204 0.69131011 0.57108602 0.84337669 0.42802996\n",
      "  0.49968296 0.89904028]\n",
      " [0.90518915 0.75058523 0.81896786 0.68514344 0.95055766 0.79419454\n",
      "  0.70946763 0.96811522]\n",
      " [0.96886087 0.77513985 0.85541253 0.85065484 0.95810468 0.89256232\n",
      "  0.9204751  0.99129244]\n",
      " [0.97493862 0.7393246  0.8441222  0.85371205 0.95233049 0.89481722\n",
      "  0.94364003 0.9936397 ]]\n"
     ]
    }
   ],
   "source": [
    "total_hidden_states = []\n",
    "\n",
    "# 메모리셀 동작\n",
    "for input_t in inputs: # 각 시점에 따라서 입력값이 입력됨\n",
    "    output_t = np.tanh(np.dot(Wx, input_t) + np.dot(Wh, hidden_state_t) + b)\n",
    "    total_hidden_states.append(list(output_t)) # 각 시점의 은닉 상태의 값을 계속해서 축적\n",
    "    print(np.shape(total_hidden_states)) # 각 시점 t별 메모리 셀의 출력 크기는 (timestep, output_dimi)\n",
    "\n",
    "# 출력 시, 값을 깔끔하게 해준다.\n",
    "total_hidden_states = np.stack(total_hidden_states, axis=0)\n",
    "print(total_hidden_states) # (timesteps, output_dim)의 크기. 이 경우 (10, 8)의 크기를 가지는 메모리 셀의 2D 텐서 출력"
   ]
  },
  {
   "cell_type": "markdown",
   "metadata": {},
   "source": [
    "## **3. 파이토치의 nn.RNN()**"
   ]
  },
  {
   "cell_type": "markdown",
   "metadata": {},
   "source": [
    "파이토치에서는 nn.RNN()을 통해서 RNN 셀을 구현합니다. 실습을 통해 알아보겠습니다."
   ]
  },
  {
   "cell_type": "code",
   "execution_count": 6,
   "metadata": {},
   "outputs": [],
   "source": [
    "import torch\n",
    "import torch.nn as nn"
   ]
  },
  {
   "cell_type": "markdown",
   "metadata": {},
   "source": [
    "이제 입력의 크기와 은닉 상태의 크기를 정의합니다. 입력의 크기는 매 시점마다 들어가는 입력의 크기를 의미합니다."
   ]
  },
  {
   "cell_type": "code",
   "execution_count": 7,
   "metadata": {},
   "outputs": [],
   "source": [
    "input_size = 5\n",
    "hidden_size = 8"
   ]
  },
  {
   "cell_type": "markdown",
   "metadata": {},
   "source": [
    "이제 입력 텐서를 정의합니다. 입력 텐서는 (배치 크기 x 시점의 수 x 매 시점마다 들어가는 입력)의 크기를 가집니다. 여기서는 배치 크기는 1, 10번의 시점동안 5차원의 입력 벡터가 들어가도록 텐서를 정의합니다."
   ]
  },
  {
   "cell_type": "code",
   "execution_count": 8,
   "metadata": {},
   "outputs": [],
   "source": [
    "inputs = torch.Tensor(1, 10, 5)"
   ]
  },
  {
   "cell_type": "markdown",
   "metadata": {},
   "source": [
    "이제 nn.RNN()을 사용하여 RNN의 셀을 만듭니다. 인자로 입력의 크기, 은닉 상태의 크기를 정의해주고 batch_first=True를 통해서 입력 텐서의 첫번째 차원이 배치 크기임을 알려줍니다."
   ]
  },
  {
   "cell_type": "code",
   "execution_count": 9,
   "metadata": {},
   "outputs": [],
   "source": [
    "cell = nn.RNN(input_size, hidden_size, batch_first=True)"
   ]
  },
  {
   "cell_type": "code",
   "execution_count": 10,
   "metadata": {},
   "outputs": [],
   "source": [
    "outputs, _status = cell(inputs)"
   ]
  },
  {
   "cell_type": "markdown",
   "metadata": {},
   "source": [
    "RNN셀은 두 개의 입력을 리턴하는데, 첫 번째 리턴값은 모든 시점의 은닉 상태들이며, 두 번째 리턴값은 마지막 시점의 은닉 상태입니다. 우선 첫 번째 리턴값에 대해서 크기를 확인해보겠습니다."
   ]
  },
  {
   "cell_type": "code",
   "execution_count": 11,
   "metadata": {},
   "outputs": [
    {
     "name": "stdout",
     "output_type": "stream",
     "text": [
      "torch.Size([1, 10, 8])\n"
     ]
    }
   ],
   "source": [
    "print(outputs.shape) # 모든 time-step의 hidden_state"
   ]
  },
  {
   "cell_type": "markdown",
   "metadata": {},
   "source": [
    "첫 번째 리턴값의 은닉 상태들은 (1, 10, 8)의 크기를 가집니다. 이는 10번의 시점동안 8차원의 은닉상태가 출력되었다는 의미입니다. 두번째 리턴값, 다시 말해 마지막 시점의 은닉 상태의 크기는 다음과 같습니다."
   ]
  },
  {
   "cell_type": "code",
   "execution_count": 12,
   "metadata": {},
   "outputs": [
    {
     "name": "stdout",
     "output_type": "stream",
     "text": [
      "torch.Size([1, 1, 8])\n"
     ]
    }
   ],
   "source": [
    "print(_status.shape) # 최종 time-step의 hidden_state"
   ]
  },
  {
   "cell_type": "markdown",
   "metadata": {},
   "source": [
    "## **4. 깊은 순환 신경망**"
   ]
  },
  {
   "cell_type": "markdown",
   "metadata": {},
   "source": [
    "앞서 RNN은 순환 신경망에서 은닉층이 1개를 가지고 있습니다. 여기에 1개 더 추가하여 은닉칭이 2개인 깊은 순환 신경망을 만들 수도 있습니다. 밑의 그림은 깊은 순환 신경망의 모습을 보여줍니다.\n",
    "\n",
    "<img src = \"https://wikidocs.net/images/page/22886/rnn_image4.5_finalPNG.PNG\">\n",
    "\n",
    "깊은 순환 신경망을 파이토치로 구현할 때는 nn.RNN()의 인자인 num_layers에 값을 전달하여 층을 쌓습니다. 층이 2개인 깊은 순환 신경망의 경우, 앞서 실습했던 임의의 입력에 대해서 출력이 어떻게 달라지는지 확인해보겠습니다."
   ]
  },
  {
   "cell_type": "code",
   "execution_count": 13,
   "metadata": {},
   "outputs": [],
   "source": [
    "# (batch_size, time_steps, input_size)\n",
    "inputs = torch.Tensor(1, 10, 5)"
   ]
  },
  {
   "cell_type": "code",
   "execution_count": 14,
   "metadata": {},
   "outputs": [],
   "source": [
    "cell = nn.RNN(input_size=5, hidden_size=8, num_layers=2, batch_first=True)"
   ]
  },
  {
   "cell_type": "code",
   "execution_count": 17,
   "metadata": {},
   "outputs": [],
   "source": [
    "outputs, _status = cell(inputs)"
   ]
  },
  {
   "cell_type": "code",
   "execution_count": 18,
   "metadata": {},
   "outputs": [
    {
     "name": "stdout",
     "output_type": "stream",
     "text": [
      "torch.Size([1, 10, 8])\n"
     ]
    }
   ],
   "source": [
    "print(outputs.shape) # 모든 time-step의 hidden_state"
   ]
  },
  {
   "cell_type": "markdown",
   "metadata": {},
   "source": [
    "첫 번째 리턴값의 크기는 층이 1개였던 RNN과 다르지 않습니다. 여기서는 마지막 층의 모든 시점의 은닉 상태들입니다."
   ]
  },
  {
   "cell_type": "code",
   "execution_count": 19,
   "metadata": {},
   "outputs": [
    {
     "name": "stdout",
     "output_type": "stream",
     "text": [
      "torch.Size([2, 1, 8])\n"
     ]
    }
   ],
   "source": [
    "print(_status.shape) # (층의 개수, 배치 크기, 은닉 상태의 크기)"
   ]
  },
  {
   "cell_type": "markdown",
   "metadata": {},
   "source": [
    "두번째 리턴값의 크기는 층이 1개였던 RNN과 달라진 것을 확인할 수 있습니다."
   ]
  },
  {
   "cell_type": "markdown",
   "metadata": {},
   "source": [
    "## **5. 양방향 순환 신경망**"
   ]
  },
  {
   "cell_type": "markdown",
   "metadata": {},
   "source": [
    "양방향 순환 신경망(Bidirectional Recurrent Neural Network)은 시점 t에서의 출력값을 예측할 때 이전 시점의 데이터뿐만 아니라, 이후 데이터로도 예측할 수 있다는 아이디어에 기반합니다.\n",
    "\n",
    "영어 빈칸 채우기 문제에 비유해보겠습니다.\n",
    "\n",
    "> Exercise is very effective at [      ] belly fat.\n",
    ">\n",
    "> 1) reducing\n",
    "> 2) increasing\n",
    "> 3) multiplying\n",
    "\n",
    "'운동은 복부 지방을 [] 효과적이다'라는 영어 문장이고 정답은 reducing입니다. 그런데 위의 영어 빈 칸 채우기 문제를 잘 생각하면 정답을 찾기 위해서는 이전에 나온 단어들만으로는 부족합니다. 목적어인 belly fat(복부 지방)을 모르는 상태라면 정답을 결정하기 어렵습니다.\n",
    "\n",
    "즉, RNN이 과거 시점(time step)의 데이터들을 참고해서, 찾고자하는 정답을 예측하지만 실제 문제에서는 과거 시점의 데이터만 고려하는 것이 아니라 향후 시점의 데이터에 힌트가 있는 경우도 있는 것입니다. 그래서 이전 시점의 데이터뿐만 아니라, 이후 시점의 데이터도 힌트로 활용하기 위해서 고안된 것이 양방향 RNN입니다.\n",
    "\n",
    "<img src = \"https://wikidocs.net/images/page/22886/rnn_image5_ver2.PNG\">\n",
    "\n",
    "양방향 RNN은 하나의 출력값을 예측하기 위해 기본적으로 두 개의 메모리 셀을 사용합니다. 첫 번째 메모리 셀은 앞서 배운 것처럼 **`앞 시점의 은닉 상태(Forward States)`** 를 전달받아 현재의 은닉 상태를 계산합니다. 위 그림에서 주황색 메모리 셀에 해당합니다. 두 번째 메모리 셀은 앞 시점 은닉 상태가 아니라 **`뒤 시점의 은닉 상태(Backward States)`** 를 전달 받아 현재의 은닉 상태를 계산합니다. 위 그림에서 초록색 메모리 셀에 해당됩니다. 그리고 이 두 개의 값 모두가 출력층에서 출력값을 예측하기 위해 사용됩니다.\n",
    "\n",
    "물론 양방향 RNN도 다수의 은닉층을 가질 수 있습니다. 아래의 그림은 양방향 RNN에서 은닉층이 1개 더 추가되어 2개의 은닉층을 가지는 깊은 양방향 순환 신경망의 모습입니다.\n",
    "\n",
    "<img src = \"https://wikidocs.net/images/page/22886/rnn_image6_ver3.PNG\">\n",
    "\n",
    "다른 인공 신경망도 마찬가지지만, 은닉층을 무조건 추가한다고 해서 모델의 성능이 좋아지지 않습니다. 은닉층을 추가하면, 학습할 수 있는 양이 많아지지만 또한 반대로 훈련 데이터 또한 그만큼 많이 필요합니다. "
   ]
  },
  {
   "cell_type": "markdown",
   "metadata": {},
   "source": [
    "양방향 순환 신경망을 파이토치로 구현할 때는 nn.RNN()의 인자인 bidirectional에 값을 True로 전달하면 됩니다. 이번에는 층이 2개인 깊은 양방향 순환 신경망의 경우, 앞서 실습했던 임의의 입력에 대해서 출력이 어떻게 달라지는지 확인해보겠습니다."
   ]
  },
  {
   "cell_type": "code",
   "execution_count": 20,
   "metadata": {},
   "outputs": [],
   "source": [
    "# (batch_size, time_steps, input_size)\n",
    "inputs = torch.Tensor(1, 10, 5)"
   ]
  },
  {
   "cell_type": "code",
   "execution_count": 21,
   "metadata": {},
   "outputs": [],
   "source": [
    "cell = nn.RNN(input_size=5, hidden_size=8, num_layers=2, batch_first=True, bidirectional=True)"
   ]
  },
  {
   "cell_type": "code",
   "execution_count": 22,
   "metadata": {},
   "outputs": [],
   "source": [
    "outputs, _status = cell(inputs)"
   ]
  },
  {
   "cell_type": "code",
   "execution_count": 23,
   "metadata": {},
   "outputs": [
    {
     "name": "stdout",
     "output_type": "stream",
     "text": [
      "torch.Size([1, 10, 16])\n"
     ]
    }
   ],
   "source": [
    "print(outputs.shape) # (배치 크기, 시퀀스 길이, 은닉 상태의 크기 x 2)"
   ]
  },
  {
   "cell_type": "markdown",
   "metadata": {},
   "source": [
    "첫 번쨰 리턴값의 크기는 단방향 RNN 셀 때보다 은닉 상태의 크기의 값이 두 배가 되었습니다. 이는 양방향의 은닉 상태 값들이 연결(concatenate)되었기 때문입니다."
   ]
  },
  {
   "cell_type": "code",
   "execution_count": 24,
   "metadata": {},
   "outputs": [
    {
     "name": "stdout",
     "output_type": "stream",
     "text": [
      "torch.Size([4, 1, 8])\n"
     ]
    }
   ],
   "source": [
    "print(_status.shape) # (층의 개수 x 2, 배치 크기, 은닉 상태의 크기)"
   ]
  },
  {
   "cell_type": "markdown",
   "metadata": {},
   "source": [
    "두 번째 크기가 위와 같이 나오는 이유는 정방향 기준으로 마지막 시점에 해당되면서 역방향 기준에서는 첫 번째 시점에 해당되는 시점의 출력값을 층의 개수만큼 쌓아 올린 결과값입니다."
   ]
  }
 ],
 "metadata": {
  "interpreter": {
   "hash": "168b3bbc19afd1ef550d68b948460bcb86336de7649712fa882c5012c218f57c"
  },
  "kernelspec": {
   "display_name": "Python 3.8.12 64-bit ('nlp': conda)",
   "language": "python",
   "name": "python3"
  },
  "language_info": {
   "codemirror_mode": {
    "name": "ipython",
    "version": 3
   },
   "file_extension": ".py",
   "mimetype": "text/x-python",
   "name": "python",
   "nbconvert_exporter": "python",
   "pygments_lexer": "ipython3",
   "version": "3.8.12"
  },
  "orig_nbformat": 4
 },
 "nbformat": 4,
 "nbformat_minor": 2
}
