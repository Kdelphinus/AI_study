{
 "cells": [
  {
   "cell_type": "markdown",
   "metadata": {},
   "source": [
    "## **1. 문자 단위 RNN**"
   ]
  },
  {
   "cell_type": "code",
   "execution_count": 1,
   "metadata": {},
   "outputs": [],
   "source": [
    "import torch\n",
    "import torch.nn as nn\n",
    "import torch.optim as optim\n",
    "\n",
    "import numpy as np"
   ]
  },
  {
   "cell_type": "markdown",
   "metadata": {},
   "source": [
    "### **1) 훈련 데이터 전처리하기**"
   ]
  },
  {
   "cell_type": "code",
   "execution_count": 2,
   "metadata": {},
   "outputs": [],
   "source": [
    "sentence = (\"if you want to build a ship, don't drum up people together to \"\n",
    "            \"collect wood and don't assign them tasks and work, but rather \"\n",
    "            \"teach them to long for the endless immensity of the sea.\")"
   ]
  },
  {
   "cell_type": "markdown",
   "metadata": {},
   "source": [
    "문자 집합을 생성하고, 각 문자에 고유한 정수를 부여합니다."
   ]
  },
  {
   "cell_type": "code",
   "execution_count": 3,
   "metadata": {},
   "outputs": [],
   "source": [
    "char_set = list(set(sentence)) # 중복을 제거한 문자 집합 생성\n",
    "char_dic = {c: i for i, c in enumerate(char_set)} # 각 문자에 정수 인코딩\n",
    "dic_size = len(char_dic)"
   ]
  },
  {
   "cell_type": "code",
   "execution_count": 4,
   "metadata": {},
   "outputs": [
    {
     "name": "stdout",
     "output_type": "stream",
     "text": [
      "{' ': 0, 'r': 1, ',': 2, 'i': 3, 's': 4, 'y': 5, 'd': 6, \"'\": 7, 'l': 8, 'b': 9, 'm': 10, 'h': 11, 'o': 12, 'c': 13, 'a': 14, 'u': 15, 't': 16, 'w': 17, '.': 18, 'p': 19, 'f': 20, 'g': 21, 'k': 22, 'e': 23, 'n': 24}\n"
     ]
    }
   ],
   "source": [
    "print(char_dic) # 여기서는 공백도 하나의 원소"
   ]
  },
  {
   "cell_type": "markdown",
   "metadata": {},
   "source": [
    "각 문자에 정수가 부여되었으면, 총 25개의 문자가 존재합니다. 즉, 문자 집합의 크기가 25이며 입력을 원-핫 벡터로 사용할 것이기에 매 시점 들어갈 입력값의 크기이기도 합니다. \n",
    "\n",
    "이제 하이퍼파라미터를 설정합니다. hidden_size를 입력의 크기와 동일하게 했는데 이는 사용자의 선택으로 다른 값을 해도 무방합니다. 그리고 sequence_length라는 변수는 우리가 앞서 만든 샘플을 10개 단위로 끊어서 샘플을 만들기 위해 선언했습니다. 이는 뒤에서 더 자세히 알아보겠습니다."
   ]
  },
  {
   "cell_type": "code",
   "execution_count": 5,
   "metadata": {},
   "outputs": [],
   "source": [
    "# 하이퍼파라미터 설정\n",
    "hidden_size = dic_size\n",
    "sequence_length = 10 # 임의의 숫자 지정\n",
    "learning_rate = 0.1"
   ]
  },
  {
   "cell_type": "markdown",
   "metadata": {},
   "source": [
    "다음은 임의의 지정한 sequence_length 값인 10의 단위로 샘플들을 잘라서 데이터를 만드는 모습을 보여줍니다. "
   ]
  },
  {
   "cell_type": "code",
   "execution_count": 6,
   "metadata": {},
   "outputs": [
    {
     "name": "stdout",
     "output_type": "stream",
     "text": [
      "0 if you wan -> f you want\n",
      "1 f you want ->  you want \n",
      "2  you want  -> you want t\n",
      "3 you want t -> ou want to\n",
      "4 ou want to -> u want to \n",
      "5 u want to  ->  want to b\n",
      "6  want to b -> want to bu\n",
      "7 want to bu -> ant to bui\n",
      "8 ant to bui -> nt to buil\n",
      "9 nt to buil -> t to build\n",
      "10 t to build ->  to build \n",
      "11  to build  -> to build a\n",
      "12 to build a -> o build a \n",
      "13 o build a  ->  build a s\n",
      "14  build a s -> build a sh\n",
      "15 build a sh -> uild a shi\n",
      "16 uild a shi -> ild a ship\n",
      "17 ild a ship -> ld a ship,\n",
      "18 ld a ship, -> d a ship, \n",
      "19 d a ship,  ->  a ship, d\n",
      "20  a ship, d -> a ship, do\n",
      "21 a ship, do ->  ship, don\n",
      "22  ship, don -> ship, don'\n",
      "23 ship, don' -> hip, don't\n",
      "24 hip, don't -> ip, don't \n",
      "25 ip, don't  -> p, don't d\n",
      "26 p, don't d -> , don't dr\n",
      "27 , don't dr ->  don't dru\n",
      "28  don't dru -> don't drum\n",
      "29 don't drum -> on't drum \n",
      "30 on't drum  -> n't drum u\n",
      "31 n't drum u -> 't drum up\n",
      "32 't drum up -> t drum up \n",
      "33 t drum up  ->  drum up p\n",
      "34  drum up p -> drum up pe\n",
      "35 drum up pe -> rum up peo\n",
      "36 rum up peo -> um up peop\n",
      "37 um up peop -> m up peopl\n",
      "38 m up peopl ->  up people\n",
      "39  up people -> up people \n",
      "40 up people  -> p people t\n",
      "41 p people t ->  people to\n",
      "42  people to -> people tog\n",
      "43 people tog -> eople toge\n",
      "44 eople toge -> ople toget\n",
      "45 ople toget -> ple togeth\n",
      "46 ple togeth -> le togethe\n",
      "47 le togethe -> e together\n",
      "48 e together ->  together \n",
      "49  together  -> together t\n",
      "50 together t -> ogether to\n",
      "51 ogether to -> gether to \n",
      "52 gether to  -> ether to c\n",
      "53 ether to c -> ther to co\n",
      "54 ther to co -> her to col\n",
      "55 her to col -> er to coll\n",
      "56 er to coll -> r to colle\n",
      "57 r to colle ->  to collec\n",
      "58  to collec -> to collect\n",
      "59 to collect -> o collect \n",
      "60 o collect  ->  collect w\n",
      "61  collect w -> collect wo\n",
      "62 collect wo -> ollect woo\n",
      "63 ollect woo -> llect wood\n",
      "64 llect wood -> lect wood \n",
      "65 lect wood  -> ect wood a\n",
      "66 ect wood a -> ct wood an\n",
      "67 ct wood an -> t wood and\n",
      "68 t wood and ->  wood and \n",
      "69  wood and  -> wood and d\n",
      "70 wood and d -> ood and do\n",
      "71 ood and do -> od and don\n",
      "72 od and don -> d and don'\n",
      "73 d and don' ->  and don't\n",
      "74  and don't -> and don't \n",
      "75 and don't  -> nd don't a\n",
      "76 nd don't a -> d don't as\n",
      "77 d don't as ->  don't ass\n",
      "78  don't ass -> don't assi\n",
      "79 don't assi -> on't assig\n",
      "80 on't assig -> n't assign\n",
      "81 n't assign -> 't assign \n",
      "82 't assign  -> t assign t\n",
      "83 t assign t ->  assign th\n",
      "84  assign th -> assign the\n",
      "85 assign the -> ssign them\n",
      "86 ssign them -> sign them \n",
      "87 sign them  -> ign them t\n",
      "88 ign them t -> gn them ta\n",
      "89 gn them ta -> n them tas\n",
      "90 n them tas ->  them task\n",
      "91  them task -> them tasks\n",
      "92 them tasks -> hem tasks \n",
      "93 hem tasks  -> em tasks a\n",
      "94 em tasks a -> m tasks an\n",
      "95 m tasks an ->  tasks and\n",
      "96  tasks and -> tasks and \n",
      "97 tasks and  -> asks and w\n",
      "98 asks and w -> sks and wo\n",
      "99 sks and wo -> ks and wor\n",
      "100 ks and wor -> s and work\n",
      "101 s and work ->  and work,\n",
      "102  and work, -> and work, \n",
      "103 and work,  -> nd work, b\n",
      "104 nd work, b -> d work, bu\n",
      "105 d work, bu ->  work, but\n",
      "106  work, but -> work, but \n",
      "107 work, but  -> ork, but r\n",
      "108 ork, but r -> rk, but ra\n",
      "109 rk, but ra -> k, but rat\n",
      "110 k, but rat -> , but rath\n",
      "111 , but rath ->  but rathe\n",
      "112  but rathe -> but rather\n",
      "113 but rather -> ut rather \n",
      "114 ut rather  -> t rather t\n",
      "115 t rather t ->  rather te\n",
      "116  rather te -> rather tea\n",
      "117 rather tea -> ather teac\n",
      "118 ather teac -> ther teach\n",
      "119 ther teach -> her teach \n",
      "120 her teach  -> er teach t\n",
      "121 er teach t -> r teach th\n",
      "122 r teach th ->  teach the\n",
      "123  teach the -> teach them\n",
      "124 teach them -> each them \n",
      "125 each them  -> ach them t\n",
      "126 ach them t -> ch them to\n",
      "127 ch them to -> h them to \n",
      "128 h them to  ->  them to l\n",
      "129  them to l -> them to lo\n",
      "130 them to lo -> hem to lon\n",
      "131 hem to lon -> em to long\n",
      "132 em to long -> m to long \n",
      "133 m to long  ->  to long f\n",
      "134  to long f -> to long fo\n",
      "135 to long fo -> o long for\n",
      "136 o long for ->  long for \n",
      "137  long for  -> long for t\n",
      "138 long for t -> ong for th\n",
      "139 ong for th -> ng for the\n",
      "140 ng for the -> g for the \n",
      "141 g for the  ->  for the e\n",
      "142  for the e -> for the en\n",
      "143 for the en -> or the end\n",
      "144 or the end -> r the endl\n",
      "145 r the endl ->  the endle\n",
      "146  the endle -> the endles\n",
      "147 the endles -> he endless\n",
      "148 he endless -> e endless \n",
      "149 e endless  ->  endless i\n",
      "150  endless i -> endless im\n",
      "151 endless im -> ndless imm\n",
      "152 ndless imm -> dless imme\n",
      "153 dless imme -> less immen\n",
      "154 less immen -> ess immens\n",
      "155 ess immens -> ss immensi\n",
      "156 ss immensi -> s immensit\n",
      "157 s immensit ->  immensity\n",
      "158  immensity -> immensity \n",
      "159 immensity  -> mmensity o\n",
      "160 mmensity o -> mensity of\n",
      "161 mensity of -> ensity of \n",
      "162 ensity of  -> nsity of t\n",
      "163 nsity of t -> sity of th\n",
      "164 sity of th -> ity of the\n",
      "165 ity of the -> ty of the \n",
      "166 ty of the  -> y of the s\n",
      "167 y of the s ->  of the se\n",
      "168  of the se -> of the sea\n",
      "169 of the sea -> f the sea.\n"
     ]
    }
   ],
   "source": [
    "# 데이터 구성\n",
    "x_data = []\n",
    "y_data = []\n",
    "\n",
    "for i in range(len(sentence) - sequence_length):\n",
    "    x_str = sentence[i:i + sequence_length]\n",
    "    y_str = sentence[i + 1: i + sequence_length + 1]\n",
    "    print(i, x_str, '->', y_str)\n",
    "    \n",
    "    x_data.append([char_dic[c] for c in x_str]) # x_str to index\n",
    "    y_data.append([char_dic[c] for c in y_str]) # y_str to index"
   ]
  },
  {
   "cell_type": "markdown",
   "metadata": {},
   "source": [
    "총 170개의 샘플이 생성되었습니다. 그리고 각 샘플의 각 문자들은 고유한 정수로 인코딩된 상태입니다. 첫번째 샘플의 입력 데이터와 레이블 데이터를 확인해보겠습니다."
   ]
  },
  {
   "cell_type": "code",
   "execution_count": 7,
   "metadata": {},
   "outputs": [
    {
     "name": "stdout",
     "output_type": "stream",
     "text": [
      "[3, 20, 0, 5, 12, 15, 0, 17, 14, 24]\n",
      "[20, 0, 5, 12, 15, 0, 17, 14, 24, 16]\n"
     ]
    }
   ],
   "source": [
    "print(x_data[0]) # if you wan에 해당됨\n",
    "print(y_data[0]) # f you want에 해당됨"
   ]
  },
  {
   "cell_type": "markdown",
   "metadata": {},
   "source": [
    "한 칸씩 shift된 시퀀스가 정상적으로 출력되는 것을 볼 수 있습니다 이제 입력 시퀀스에 대해서 원-핫 인코딩을 수행하고, 입력 데이터와 레이블 데이터를 텐서로 변환합니다."
   ]
  },
  {
   "cell_type": "code",
   "execution_count": 8,
   "metadata": {},
   "outputs": [
    {
     "name": "stderr",
     "output_type": "stream",
     "text": [
      "C:\\Users\\DELPHI~1\\AppData\\Local\\Temp/ipykernel_1584/2895777156.py:2: UserWarning: Creating a tensor from a list of numpy.ndarrays is extremely slow. Please consider converting the list to a single numpy.ndarray with numpy.array() before converting to a tensor. (Triggered internally at  ..\\torch\\csrc\\utils\\tensor_new.cpp:201.)\n",
      "  X = torch.FloatTensor(x_one_hot)\n"
     ]
    }
   ],
   "source": [
    "x_one_hot = [np.eye(dic_size)[x] for x in x_data] # x 데이터는 원-핫 인코딩\n",
    "X = torch.FloatTensor(x_one_hot)\n",
    "Y = torch.LongTensor(y_data)"
   ]
  },
  {
   "cell_type": "markdown",
   "metadata": {},
   "source": [
    "이제 훈련 데이터와 레이블 데이터의 크기를 확인해봅시다."
   ]
  },
  {
   "cell_type": "code",
   "execution_count": 9,
   "metadata": {},
   "outputs": [
    {
     "name": "stdout",
     "output_type": "stream",
     "text": [
      "훈련 데이터의 크기 : torch.Size([170, 10, 25])\n",
      "레이블의 크기 : torch.Size([170, 10])\n"
     ]
    }
   ],
   "source": [
    "print('훈련 데이터의 크기 : {}'.format(X.shape))\n",
    "print('레이블의 크기 : {}'.format(Y.shape))"
   ]
  },
  {
   "cell_type": "markdown",
   "metadata": {},
   "source": [
    "원-핫 인코딩된 결과를 보기 위해 첫 번째 샘플만 출력해보겠습니다."
   ]
  },
  {
   "cell_type": "code",
   "execution_count": 10,
   "metadata": {},
   "outputs": [
    {
     "name": "stdout",
     "output_type": "stream",
     "text": [
      "tensor([[0., 0., 0., 1., 0., 0., 0., 0., 0., 0., 0., 0., 0., 0., 0., 0., 0., 0.,\n",
      "         0., 0., 0., 0., 0., 0., 0.],\n",
      "        [0., 0., 0., 0., 0., 0., 0., 0., 0., 0., 0., 0., 0., 0., 0., 0., 0., 0.,\n",
      "         0., 0., 1., 0., 0., 0., 0.],\n",
      "        [1., 0., 0., 0., 0., 0., 0., 0., 0., 0., 0., 0., 0., 0., 0., 0., 0., 0.,\n",
      "         0., 0., 0., 0., 0., 0., 0.],\n",
      "        [0., 0., 0., 0., 0., 1., 0., 0., 0., 0., 0., 0., 0., 0., 0., 0., 0., 0.,\n",
      "         0., 0., 0., 0., 0., 0., 0.],\n",
      "        [0., 0., 0., 0., 0., 0., 0., 0., 0., 0., 0., 0., 1., 0., 0., 0., 0., 0.,\n",
      "         0., 0., 0., 0., 0., 0., 0.],\n",
      "        [0., 0., 0., 0., 0., 0., 0., 0., 0., 0., 0., 0., 0., 0., 0., 1., 0., 0.,\n",
      "         0., 0., 0., 0., 0., 0., 0.],\n",
      "        [1., 0., 0., 0., 0., 0., 0., 0., 0., 0., 0., 0., 0., 0., 0., 0., 0., 0.,\n",
      "         0., 0., 0., 0., 0., 0., 0.],\n",
      "        [0., 0., 0., 0., 0., 0., 0., 0., 0., 0., 0., 0., 0., 0., 0., 0., 0., 1.,\n",
      "         0., 0., 0., 0., 0., 0., 0.],\n",
      "        [0., 0., 0., 0., 0., 0., 0., 0., 0., 0., 0., 0., 0., 0., 1., 0., 0., 0.,\n",
      "         0., 0., 0., 0., 0., 0., 0.],\n",
      "        [0., 0., 0., 0., 0., 0., 0., 0., 0., 0., 0., 0., 0., 0., 0., 0., 0., 0.,\n",
      "         0., 0., 0., 0., 0., 0., 1.]])\n"
     ]
    }
   ],
   "source": [
    "print(X[0])"
   ]
  },
  {
   "cell_type": "markdown",
   "metadata": {},
   "source": [
    "레이블 데이터의 첫 번째 샘플도 출력하겠습니다."
   ]
  },
  {
   "cell_type": "code",
   "execution_count": 11,
   "metadata": {},
   "outputs": [
    {
     "name": "stdout",
     "output_type": "stream",
     "text": [
      "tensor([20,  0,  5, 12, 15,  0, 17, 14, 24, 16])\n"
     ]
    }
   ],
   "source": [
    "print(Y[0])"
   ]
  },
  {
   "cell_type": "markdown",
   "metadata": {},
   "source": [
    "위 레이블 시퀀스는 f you want에 해당됩니다."
   ]
  },
  {
   "cell_type": "markdown",
   "metadata": {},
   "source": [
    "## **2. 모델 구현하기**"
   ]
  },
  {
   "cell_type": "markdown",
   "metadata": {},
   "source": [
    "모델은 앞서 실습한 문자 단위 RNN 챕터와 거의 동일합니다. 다만 이번에는 은닉층을 두 개 쌓습니다."
   ]
  },
  {
   "cell_type": "code",
   "execution_count": 12,
   "metadata": {},
   "outputs": [],
   "source": [
    "class Net(torch.nn.Module):\n",
    "    def __init__(self, input_dim, hidden_dim, layers): # 현재 hidden_size는 dic_size와 같음\n",
    "        super(Net, self).__init__()\n",
    "        self.rnn = torch.nn.RNN(input_dim, hidden_dim, num_layers=layers, batch_first=True)\n",
    "        self.fc = torch.nn.Linear(hidden_dim, hidden_dim, bias=True)\n",
    "    \n",
    "    def forward(self, x):\n",
    "        x, _status = self.rnn(x)\n",
    "        x = self.fc(x)\n",
    "        return x"
   ]
  },
  {
   "cell_type": "code",
   "execution_count": 13,
   "metadata": {},
   "outputs": [],
   "source": [
    "net = Net(dic_size, hidden_size, 2) # 이번에는 층을 두 개 쌓습니다."
   ]
  },
  {
   "cell_type": "markdown",
   "metadata": {},
   "source": [
    "nn.RNN()안에 num_layers라는 인자는 은닉층을 몇 개 쌓을지 결정합니다. 이번에는 2를 입력하여 은닉층을 두 개 쌓았습니다.\n",
    "\n",
    "이제 비용 함수와 옵티마이저를 선언합니다."
   ]
  },
  {
   "cell_type": "code",
   "execution_count": 14,
   "metadata": {},
   "outputs": [],
   "source": [
    "criteriion = torch.nn.CrossEntropyLoss()\n",
    "optimizer = optim.Adam(net.parameters(), learning_rate)"
   ]
  },
  {
   "cell_type": "markdown",
   "metadata": {},
   "source": [
    "모델의 입력을 넣어서 출력의 크기를 확인하겠습니다."
   ]
  },
  {
   "cell_type": "code",
   "execution_count": 15,
   "metadata": {},
   "outputs": [
    {
     "name": "stdout",
     "output_type": "stream",
     "text": [
      "torch.Size([170, 10, 25])\n"
     ]
    }
   ],
   "source": [
    "outputs = net(X)\n",
    "print(outputs.shape) # 3차원 텐서"
   ]
  },
  {
   "cell_type": "markdown",
   "metadata": {},
   "source": [
    "이는 (배치 차원, 시점, 출력의 크기)입니다. 나중에 정확도를 측정할 땐 view를 이용하여 배치 차원과 시점 차원을 하나로 만들어 사용합니다. 즉, 모두 펼쳐서 계산합니다."
   ]
  },
  {
   "cell_type": "code",
   "execution_count": 16,
   "metadata": {},
   "outputs": [
    {
     "name": "stdout",
     "output_type": "stream",
     "text": [
      "torch.Size([1700, 25])\n"
     ]
    }
   ],
   "source": [
    "print(outputs.view(-1, dic_size).shape) # 2차원 텐서로 변환"
   ]
  },
  {
   "cell_type": "markdown",
   "metadata": {},
   "source": [
    "차원이 (1700, 25)가 된 것을 확인할 수 있습니다. 레이블 데이터의 크기도 다시 확인해보겠습니다."
   ]
  },
  {
   "cell_type": "code",
   "execution_count": 17,
   "metadata": {},
   "outputs": [
    {
     "name": "stdout",
     "output_type": "stream",
     "text": [
      "torch.Size([170, 10])\n",
      "torch.Size([1700])\n"
     ]
    }
   ],
   "source": [
    "print(Y.shape)\n",
    "print(Y.view(-1).shape)"
   ]
  },
  {
   "cell_type": "markdown",
   "metadata": {},
   "source": [
    "레이블 데이터는 (170, 10)의 크기를 가지는데, 마찬가지로 나중에 정확도를 측정할 때는 이걸 펼쳐서 계산하게 됩니다.\n",
    "\n",
    "이제 옵티마이저와 손실 함수를 정의하여 학습하겠습니다."
   ]
  },
  {
   "cell_type": "code",
   "execution_count": 18,
   "metadata": {},
   "outputs": [
    {
     "name": "stdout",
     "output_type": "stream",
     "text": [
      "yyyyyyyyyyyyyyyyyyyyyyyyyyyyyyyyyyyyyyyyyyyyyyyyyyyyyyyyyyyyyyyyyyyyyyyyyyyyyyyyyyyyyyyyyyyyyyyyyyyyyyyyyyyyyyyyyyyyyyyyyyyyyyyyyyyyyyyyyyyyyyyyyyyyyyyyyyyyyyyyyyyyyyyyyyyyyyyyyyy\n",
      " oooo ooo ooooooo oooooo   o o  oooo oooo ooo  o ooo ooo  ooooo ooo ooo  ooo ooo  oooo     ooo  ooo   oo oooo oooooooo  o  ooo  oooo  oooooo ooo  ooo oooooo     o     ooooooo ooo \n",
      "                                                                                n                                                                                                  \n",
      " mfh ln ouuuluulllulluullun mlmullrurllulmuuluuulluuluul lfuuunululluulluo uuullmuoununlmgu,llmlllmumuuuumllmulunurlmumlumlfuuu,ullumluluufulmuluuuluuluulumlluunurlflllulumulruumu\n",
      "rorrrdr r d d l r   d  srsd r r rlr dlrs r lrd   l r rl r dlrldrrsso   r rso  lor rlr dlrrlrslrrlrr ssrr  slr r r rlrrr rrlllr d rl rsldrdlr rlor do rl r ll sr r rrdrldr ldl rllrr\n",
      " ooo too ta a a a o t t aiooa o aoa aoaa oaoai   ioa ai  ato io aaa oao    a  t toaoa a iioa atoioa aaaa a oa a a aoa toa ai  ai aoaaoaoaa aiaioa io  ioa a o i ooa a oot aao ao ai\n",
      " t t t t t      n   t   t t i   t t   t  t  t      t t    t      t             o  t   t t  t n t t     t t    t   t t  t  t  n    t t e  t   t o       e        t t t t t  t  t    \n",
      " t n nt to tott t nn ttt t  t th t t t t o t to  tt t t tth ntt tothnto t t nt  nt h t thn  tet  o t   htt t    t to  thet tt tt to   t  t  t t tt h tt t t t t  t t  het t t  hn  \n",
      "      to h to t t e t t   e t t  he  t n   h t e to   het to t  e  ho o t t e t  hehe   t   tet to h h e ttee   t  h   het toe t the  t     t t   t     to    tht nh  het  toe  e t\n",
      "       o   to w t e t t   e t   the  w     o   e to   he  to t  ee   eo   te  to  the  w   toe  to    e   to  t t  h  the  to  t toe  to t e  t   to    t  e  to     the   toe  e w\n",
      "   lrw ae  to p toe t t     d   toa  d t  to l deao   he  to p  oe        tor to  toa      toen to    e   to  t t thtothe  to  t toe  to toel to  toe     o   t e  h toe   toen    \n",
      "  torp ard torp t a t t     dor toa  i ap torl t  or  hen to p  he  ator  tod ton toans    toes to s  t stto  t aothtather to i ethe  to pos  to  toer  t    st a  t toed  toes    \n",
      "  tor  aaihthrd t d d th    d r toa  i di tordherdor ther tordo her  tor  tod dor thans  s ther tors  d t dor t dethtother toritother tordos  tor toer  t a  si a nt thoa  ther  n \n",
      "  tooi aaihthod t d d thn d d r thta i d  thrdhendonnther thrdooher  too  ded tor thtns  n ther tor   d d dor t dethtother thontether tortori too toer  t d r i dnd   h d  ther  r \n",
      "  tooc ani thod t d d thn , d r'thtrai d  tholhe  or ther thrdo her  tord t d tor'thtn   n ther thr   d d ter t tetht ther thodt ther thrdon  tor ther  d n d t dnn  th dn ther  r \n",
      "  toop anchtoob t d d t e , d r thtru, d  t  ,he don ther theboehouh toecod t tor'thtn   n ther tork  d d ter t d tht ther thechether tonboec t o toer  t d d t   n  t  an ther  n \n",
      "  teac anp to b t d a t ec  d r'toanup a  tonphe  or ther thebo her' tood t t tor'toan   n ther tosk  t d tor t d thtnther thec  ther thrbonp tor ther' bon   t  nu  th ao ther  u \n",
      "  toop,ons to c tpd a t e , d n'toanum ap te c e tor ther to co oen' tooc aot tor'toans  n then to    a d wor t t throther toach ther torponp tor then  d a sst   n' t  a  then  u \n",
      "p teap,ons toop tpd a t ep, aon'toanus as teophe torothen to po oer  tooc aod tor thansisn then to ks a d wo  t t thaother toach toem to poep tor thec  d a s t m n' t  oo thec  sp\n",
      "g teupta s tooc t d a thep, d n'toarum as teup e to othem th co oer  to d a t torlthansisnsthem toski dns wo  t duthrothem thuch toem to poeg tor them  d o tst mnn' th oo them  sp\n",
      "g teup,ans to cut d a t ep, d n'ioanum as teuple to othem th co les  to c and wor'thansisnsthem toski dnd wo kt tuthaothem touch them to lo t tor them  d e t tim ns t  oe them  np\n",
      "g toap,ans to cutld ans ip, d n'ihanum annpoople to  then to co lest to c nnd won'thansisnsthem toskm and wo kt tuthaathen touch then tonlont tor then nd e t tim ns tl on then  uk\n",
      "g toap,ont to c tld a t ip, d n'tharum akmpoople to  ther to bo eert to c and wor'thansisn ther tosks and wo kt tuthrather toach ther toglong tor ther ndlest tim nssty oo ther  ek\n",
      "g toap,ont to cutld d ship, don'toaoum ap plople to ether toobo lect tooc and won'toansign ther tosks and workt duthrother toach ther to long tor ther ndlest iim ns tyooo ther  ek\n",
      "g tooplont to butld d ship, don'toarum uppplople to ether to bo lec  tooc and won'todnsign ther tosks dnd wo kt duthrother toach ther to lonp tor ther ndldss ii ensity oe ther  ek\n",
      "g tooplo t to butld a ship, don't arum uppplople to ether to bo lect to c and wor't drsign ther tosks dnd wo kt buthrather toach ther toglo p tor thererdldss i  nnsity on there dk\n",
      "g tooplont wo butld a ship, don't arum up plople to ether to bo lect wooc and wor't ansign them toski and wo kt buthrathem toach them to long tor them rdless i  ens ty on them  ek\n",
      "g tooplont worbutld a ship, don't arum up people to ethem to bo lect wooc and won't ansign them tosks and workt buthrathem toach them to long tor them rdless im ens ty on theme uk\n",
      "g tooplant to butld a ship, don't arum up people to ethem to bo lect tood and won't ansign them tosks and wo kt buthrathem toach them to long tor themendless immensity on theme uk\n",
      "g tooplant to butld a ship, don't arum up people to ethem to bo eect wood and won't assign them tosks und wo kt buthrathem toach them to leng tor themendless immensity of theme uk\n",
      "g tooplant wo butld a ship, don't arum up people to ethem to co lect wood and don't assign them tosks and dork, but rathem toach them to long tor themendless immensity of theme uc\n",
      "g toupwant wo cutld a ship, don't arum up people to ethem to co lect wood and don't dssign them tosks and dork, but rathem toach them to long tor thecendless immensity of theme uc\n",
      "g toupwant to cutld a ship, don't drum up people to ethem to collect wood and don't dssign them tosks and dork, but rathem toach them to long tor thecendless immensity of themenun\n",
      "l toupwant to butld a ship, don't drum up people to ethem th collect wood and don't assign them tasks and work, but rathem thach them to long tor themendless immensity of themenun\n",
      "l toupwant to build a ship, don't arum up people to ether to bollect wood and won't assign them tosks and work, but rathem toach them to long tor toectndless immensity of themt uc\n",
      "l toupwant to build a ship, don't arum up people to ether to bollect wood and don't assign ther tasks tnd work, but rather toach ther to long tor themendless immensity of themeeuc\n",
      "l toupwant to build a ship, don't dlum up people to ether th bollect wood and don't assign ther tasks and dork, but rather thach ther to long tor therendless immensity of thereeun\n",
      "l toupwant to build a ship, don't drum up people to ether to collect wood and don't dssign ther tasks and dork, but rather toach ther to long tor therendless immensity of thereeuc\n",
      "l toupwant to cuild a ship, don't drum up people to ether to collect wood and won't dssign ther tasks and work, but rather toach ther to long tor therendless immensity of thereeuc\n",
      "l toupwant to cuild a ship, don't drum up people togethem to collect wood and don't dssign ther tasks and work, but rather toach ther to long tor themendless immensity of themeeun\n",
      "l toupwant to cuild a ship, don't arum up people togethem to collect wood and don't assign them tasks and dork, but rather toach them to long tor the endless immensity of the eeum\n",
      "l teupwant to cuild a ship, don't arum up people together te collect wood and don't assign them tasks and dork, but rather teach them to long tor the endless immensity of the eeum\n",
      "t toupwant to build a ship, don't arum up people together te collect wood and don't assign the  tasks and work, but rather toach the  to long tor the endless immensity of the eeus\n",
      "t toupwant to build a ship, don't drum up people together to collect wood and won't assign them tasks and work, but rather toach them to long tor the endless immensity of the seas\n",
      "t toupwant to build a ship, don't drum up people together te bollect wood and don't dssign the  tasks and work, but rather toach the  ta long tor the endless immensity of the eeam\n",
      "m toupwant to build a ship, don't drum up people together to collect wood and don't dssign them tasks and work, but rather toach them ta long tor the endless immensity of the seas\n",
      "m toupwant to build a ship, don't drum up people together to collect wood and don't dssign the  tasks and dork, but rather toach the  to long tor the endless immensity of the eea.\n",
      "p foupwant to build a ship, don't drum up people together to collect wood and don't assign them tasks and work, but rather toach the  to long tor the endless immensity of the eea.\n",
      "p foupwant to build a ship, don't drum up people together to collect wood and don't assign them tasks and work, but rather toach them to long for the endless immensity of the e a.\n",
      "p foupwant to build a ship, don't arum up people together to collect wood and don't assign them tosks and work, but rather toach them to long for the endless immensity of the eea.\n",
      "p foupwant to build a ship, don't drum up people together to collect wood and don't assign the  tasks and work, but rather toach them to long for the endless immensity of the eeas\n",
      "l foupwant to build a ship, don't drum up people together to collect wood and don't assign them tasks and work, but rather toach them to long for the endless immensity of the eeas\n",
      "l foupwant to build a ship, don't drum up people together to collect wood and don't assign them tasks and work, but rather teach them to long for the endless immensity of the eea.\n",
      "l foupwant to build a ship, don't arum up people together to collect wood and don't assign them tosks and work, but rather toach them to long for the endless immensity of the eea.\n",
      "l foupwant to build a ship, don't drum up people together to collect wood and don't assign them tasks and work, but rather toach them to long for the endless immensity of the eea.\n",
      "g foupwant to build a ship, don't drum up people together to collect wood and don't assign them tasks and work, but rather teach them to long for the endless immensity of the eea.\n",
      "g foupwant to build a ship, don't drum up people together to collect wood and don't assign them tasks and work, but rather toach the  to long for the endless immensity of the eea.\n",
      "g foupwant to build a ship, don't drum up people together to collect wood and don't assign them tasks and work, but rather teach them to long for the endless immensity of the sea.\n",
      "g boupwant to build a ship, don't drum up people together to collect wood and don't assign them tasks and work, but rather toach them to long for the endless immensity of the sea.\n",
      "g boupwant to build a ship, don't drum up people together to collect wood and don't assign the  tosks and work, but rather teach them to long for the endless immensity of the sea.\n",
      "m boupwant to build a ship, don't drum up people together to collect wood and don't assign ther tasks and work, but rather teach them to long for the endless immensity of the sea.\n",
      "g boupwant to build a ship, don't drum up people together to collect wood and don't assign them tosks and work, but rather teach them to long for the endless immensity of the sea.\n",
      "p boupwant to build a ship, don't drum up people together to bollect wood and don't assign them tasks and work, but rather toach them ta long for the endless immensity of the sea.\n",
      "p bou want to build a ship, don't drum up people together to collect wood and don't assign them tasks and work, but rather teach them ta long for the endless immensity of the sea.\n",
      "p you want to build a ship, don't drum up people together te collect wood and don't assign them tasks and work, but rather teach them ta long for the endless immensity of the sea.\n",
      "p you want to build a ship, don't drum up people together to collect wood and don't assign them tasks and work, but rather teach them to long for the endless immensity of the sea.\n",
      "m you want to build a ship, don't drum up people together to collect wood and don't assign them tosks and work, but rather toach them to long for the endless immensity of the sea.\n",
      "m you want to build a ship, don't drum up people together to collect wood and don't assign them tasks and work, but rather teach them ta long for the endless immensity of the sea.\n",
      "m you want to build a ship, don't drum up people together to collect wood and don't assign them tasks and work, but rather teach them ta long for the endless immensity of the sea.\n",
      "m you want to build a ship, don't drum up people together to bollect wood and don't assign them tasks and work, but rather teach them ta long for the endless immensity of the sea.\n",
      "t you want to build a ship, don't drum up people together to collect wood and don't assign them tasks and work, but rather teach them ta long for the endless immensity of the sea.\n",
      "l you want to build a ship, don't drum up people together to collect wood and don't assign them tasks and work, but rather teach them to long for the endless immensity of the sea.\n",
      "l you want to build a ship, don't drum up people together to collect wood and don't assign them tosks and work, but rather teach them to long for the endless immensity of the sea.\n",
      "l you want to build a ship, don't drum up people together to collect wood and don't assign them tosks and work, but rather teach them to long for the endless immensity of the sea.\n",
      "l you want to build a ship, don't drum up people together to collect wood and don't assign them tasks and work, but rather teach them to long for the endless immensity of the sea.\n",
      "l you want to build a ship, don't drum up people together to collect wood and don't assign them tasks and work, but rather teach them to long for the endless immensity of the sea.\n",
      "l you want to build a ship, don't drum up people together to collect wood and don't assign them tasks and work, but rather teach them to long for the endless immensity of the sea.\n",
      "f you want to build a ship, don't drum up people together to collect wood and don't assign them tasks and work, but rather teach them to long for the endless immensity of the sea.\n",
      "f you want to build a ship, don't drum up people together to collect wood and don't assign them tasks and work, but rather teach them to long for the endless immensity of the sea.\n",
      "m you want to build a ship, don't drum up people together to collect wood and don't assign them tasks and work, but rather teach them to long for the endless immensity of the sea.\n",
      "m you want to build a ship, don't drum up people together to collect wood and don't assign them tasks and work, but rather teach them to long for the endless immensity of the sea.\n",
      "m you want to build a ship, don't drum up people together to collect wood and don't assign them tasks and work, but rather teach them to long for the endless immensity of the sea.\n",
      "m you want to build a ship, don't drum up people together to collect wood and don't assign them tasks and work, but rather teach them to long for the endless immensity of the sea.\n",
      "p you want to build a ship, don't drum up people together to collect wood and don't assign them tasks and work, but rather teach them to long for the endless immensity of the sea.\n",
      "p you want to build a ship, don't drum up people together to collect wood and don't assign them tasks and work, but rather teach them to long for the endless immensity of the sea.\n",
      "p you want to build a ship, don't drum up people together to collect wood and don't assign them tasks and work, but rather teach them to long for the endless immensity of the sea.\n",
      "p you want to build a ship, don't drum up people together to collect wood and don't assign them tasks and work, but rather teach them to long for the endless immensity of the sea.\n",
      "f you want to build a ship, don't drum up people together to collect wood and don't assign them tasks and work, but rather teach them to long for the endless immensity of the sea.\n",
      "f you want to build a ship, don't drum up people together to collect wood and don't assign them tasks and work, but rather teach them to long for the endless immensity of the sea.\n",
      "f you want to build a ship, don't drum up people together to collect wood and don't assign them tasks and work, but rather teach them to long for the endless immensity of the sea.\n",
      "l you want to build a ship, don't drum up people together to collect wood and don't assign them tasks and work, but rather teach them to long for the endless immensity of the sea.\n",
      "l you want to build a ship, don't drum up people together to collect wood and don't assign them tasks and work, but rather teach them to long for the endless immensity of the sea.\n",
      "l you want to build a ship, don't drum up people together to collect wood and don't assign them tasks and work, but rather teach them to long for the endless immensity of the sea.\n",
      "l you want to build a ship, don't drum up people together to collect wood and don't assign them tasks and work, but rather teach them to long for the endless immensity of the sea.\n",
      "t you want to build a ship, don't drum up people together to collect wood and don't assign them tasks and work, but rather teach them to long for the endless immensity of the sea.\n",
      "l you want to build a ship, don't drum up people together to collect wood and don't assign them tasks and work, but rather teach them to long for the endless immensity of the sea.\n",
      "l you want to build a ship, don't drum up people together to collect wood and don't assign them tasks and work, but rather teach them to long for the endless immensity of the sea.\n",
      "l you want to build a ship, don't drum up people together to collect wood and don't assign them tasks and work, but rather teach them to long for the endless immensity of the sea.\n",
      "l you want to build a ship, don't drum up people together to collect wood and don't assign them tasks and work, but rather teach them to long for the endless immensity of the sea.\n",
      "g you want to build a ship, don't drum up people together to collect wood and don't assign them tasks and work, but rather teach them to long for the endless immensity of the sea.\n"
     ]
    }
   ],
   "source": [
    "for i in range(100):\n",
    "    optimizer.zero_grad()\n",
    "    outputs = net(X) # (170, 10, 25) 크기를 가진 텐서를 매 에포크마다 모델의 입력으로 사용\n",
    "    loss = criteriion(outputs.view(-1, dic_size), Y.view(-1))\n",
    "    loss.backward()\n",
    "    optimizer.step()\n",
    "    \n",
    "    # result의 텐서 크기는 (170, 10)\n",
    "    results = outputs.argmax(dim=2)\n",
    "    predict_str = \"\"\n",
    "    for j, result in enumerate(results):\n",
    "        if j == 0: # 처음에는 예측 결과를 전부 가져온다\n",
    "            predict_str += ''.join([char_set[t] for t in result])\n",
    "        else: # 두번째부터는 마지막 글자만 반복 추가하면 된다\n",
    "            predict_str += char_set[result[-1]]\n",
    "    \n",
    "    print(predict_str)"
   ]
  },
  {
   "cell_type": "markdown",
   "metadata": {},
   "source": [
    "처음에는 이상한 문자만 나오지만 갈수록 문장다운 문장이 나오는 것을 확인할 수 있습니다."
   ]
  }
 ],
 "metadata": {
  "interpreter": {
   "hash": "168b3bbc19afd1ef550d68b948460bcb86336de7649712fa882c5012c218f57c"
  },
  "kernelspec": {
   "display_name": "Python 3.8.12 64-bit ('nlp': conda)",
   "language": "python",
   "name": "python3"
  },
  "language_info": {
   "codemirror_mode": {
    "name": "ipython",
    "version": 3
   },
   "file_extension": ".py",
   "mimetype": "text/x-python",
   "name": "python",
   "nbconvert_exporter": "python",
   "pygments_lexer": "ipython3",
   "version": "3.8.12"
  },
  "orig_nbformat": 4
 },
 "nbformat": 4,
 "nbformat_minor": 2
}
