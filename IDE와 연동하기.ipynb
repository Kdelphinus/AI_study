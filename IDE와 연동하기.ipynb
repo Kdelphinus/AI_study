{
 "nbformat": 4,
 "nbformat_minor": 0,
 "metadata": {
  "colab": {
   "name": "vscode와 연동하기.ipynb",
   "provenance": [],
   "collapsed_sections": [],
   "background_execution": "on",
   "authorship_tag": "ABX9TyPSDFNa5CMR7hgy7BJ7Mqed"
  },
  "kernelspec": {
   "name": "python3",
   "display_name": "Python 3"
  },
  "language_info": {
   "name": "python"
  },
  "accelerator": "GPU"
 },
 "cells": [
  {
   "cell_type": "code",
   "source": [
    "!nvidia-smi"
   ],
   "metadata": {
    "colab": {
     "base_uri": "https://localhost:8080/"
    },
    "id": "jSvp6MH5PS2o",
    "executionInfo": {
     "status": "ok",
     "timestamp": 1644482306707,
     "user_tz": -540,
     "elapsed": 282,
     "user": {
      "displayName": "고명준",
      "photoUrl": "https://lh3.googleusercontent.com/a/default-user=s64",
      "userId": "18440028604265284923"
     }
    },
    "outputId": "d0f9cdb8-fdb5-47fe-a6cc-fe5ce2fc3833",
    "pycharm": {
     "name": "#%%\n"
    }
   },
   "execution_count": 1,
   "outputs": [
    {
     "output_type": "stream",
     "name": "stdout",
     "text": [
      "Thu Feb 10 08:38:28 2022       \n",
      "+-----------------------------------------------------------------------------+\n",
      "| NVIDIA-SMI 460.32.03    Driver Version: 460.32.03    CUDA Version: 11.2     |\n",
      "|-------------------------------+----------------------+----------------------+\n",
      "| GPU  Name        Persistence-M| Bus-Id        Disp.A | Volatile Uncorr. ECC |\n",
      "| Fan  Temp  Perf  Pwr:Usage/Cap|         Memory-Usage | GPU-Util  Compute M. |\n",
      "|                               |                      |               MIG M. |\n",
      "|===============================+======================+======================|\n",
      "|   0  Tesla P100-PCIE...  Off  | 00000000:00:04.0 Off |                    0 |\n",
      "| N/A   35C    P0    29W / 250W |      0MiB / 16280MiB |      0%      Default |\n",
      "|                               |                      |                  N/A |\n",
      "+-------------------------------+----------------------+----------------------+\n",
      "                                                                               \n",
      "+-----------------------------------------------------------------------------+\n",
      "| Processes:                                                                  |\n",
      "|  GPU   GI   CI        PID   Type   Process name                  GPU Memory |\n",
      "|        ID   ID                                                   Usage      |\n",
      "|=============================================================================|\n",
      "|  No running processes found                                                 |\n",
      "+-----------------------------------------------------------------------------+\n"
     ]
    }
   ]
  },
  {
   "cell_type": "code",
   "source": [
    "# from google.colab import drive\n",
    "# drive.mount('/content/drive/')"
   ],
   "metadata": {
    "id": "Ac4ph9CaIOo_",
    "executionInfo": {
     "status": "ok",
     "timestamp": 1644482306980,
     "user_tz": -540,
     "elapsed": 7,
     "user": {
      "displayName": "고명준",
      "photoUrl": "https://lh3.googleusercontent.com/a/default-user=s64",
      "userId": "18440028604265284923"
     }
    },
    "pycharm": {
     "name": "#%%\n"
    }
   },
   "execution_count": 2,
   "outputs": []
  },
  {
   "cell_type": "markdown",
   "source": [
    "## **ColabCode 연결방법**"
   ],
   "metadata": {
    "id": "bf50v_bXQIi3",
    "pycharm": {
     "name": "#%% md\n"
    }
   }
  },
  {
   "cell_type": "code",
   "source": [
    "!pip install colab-ssh --upgrade"
   ],
   "metadata": {
    "colab": {
     "base_uri": "https://localhost:8080/"
    },
    "id": "TzuJZP9BPlAU",
    "executionInfo": {
     "status": "ok",
     "timestamp": 1644482310820,
     "user_tz": -540,
     "elapsed": 3846,
     "user": {
      "displayName": "고명준",
      "photoUrl": "https://lh3.googleusercontent.com/a/default-user=s64",
      "userId": "18440028604265284923"
     }
    },
    "outputId": "a62640a7-fe98-476c-eaf3-54a3fe7a323d",
    "pycharm": {
     "name": "#%%\n"
    }
   },
   "execution_count": 3,
   "outputs": [
    {
     "output_type": "stream",
     "name": "stdout",
     "text": [
      "Collecting colab-ssh\n",
      "  Downloading colab_ssh-0.3.27-py3-none-any.whl (26 kB)\n",
      "Installing collected packages: colab-ssh\n",
      "Successfully installed colab-ssh-0.3.27\n"
     ]
    }
   ]
  },
  {
   "cell_type": "code",
   "source": [
    "NGROK_TOKEN = \"24lTbV3tqPlTAd0VRWlKX9HMy8E_3RDNLjWJTabYjydn4Nf8s\"\n",
    "PASSWORD = \"951015\"\n",
    "from colab_ssh import launch_ssh\n",
    "launch_ssh(NGROK_TOKEN, PASSWORD)"
   ],
   "metadata": {
    "colab": {
     "base_uri": "https://localhost:8080/"
    },
    "id": "Sa7NcBSkQRE8",
    "executionInfo": {
     "status": "ok",
     "timestamp": 1644482336422,
     "user_tz": -540,
     "elapsed": 25608,
     "user": {
      "displayName": "고명준",
      "photoUrl": "https://lh3.googleusercontent.com/a/default-user=s64",
      "userId": "18440028604265284923"
     }
    },
    "outputId": "907ab365-6ef2-4ca5-a717-7477f39837c4",
    "pycharm": {
     "name": "#%%\n"
    }
   },
   "execution_count": 4,
   "outputs": [
    {
     "output_type": "stream",
     "name": "stdout",
     "text": [
      "Warning: Due to some issues with ngrok on Google Colab, reported in the issue https://github.com/WassimBenzarti/colab-ssh/issues/45, \n",
      "we highly recommend that update your code by following this documentation https://github.com/WassimBenzarti/colab-ssh#getting-started\n",
      "Successfully running 6.tcp.ngrok.io:10764\n",
      "[Optional] You can also connect with VSCode SSH Remote extension using this configuration:\n",
      "\n",
      "  Host google_colab_ssh\n",
      "    HostName 6.tcp.ngrok.io\n",
      "    User root\n",
      "    Port 10764\n",
      "    \n"
     ]
    }
   ]
  }
 ]
}