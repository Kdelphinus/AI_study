{
 "cells": [
  {
   "cell_type": "markdown",
   "metadata": {},
   "source": [
    "**워드 임베딩(Word Embedding)** 은 단어를 벡터로 표현하는 것을 말합니다. 또한 단어를 밀집 표현으로 변환하는 방법을 말하기도 합니다."
   ]
  },
  {
   "cell_type": "markdown",
   "metadata": {},
   "source": [
    "## **1. 희소 표현(Sparse Representation)**"
   ]
  },
  {
   "cell_type": "markdown",
   "metadata": {},
   "source": [
    "행렬의 값이 대부분 0으로 표현되는 방법을 희소 표현이라고 합니다. 그렇기에 원-핫 벡터 역시 희소 벡터입니다. \n",
    "\n",
    "이러한 희소 벡터의 단점은 단어의 개수가 늘어날수록 벡터의 차원이 한없이 커진다는 것입니다. 이는 앞서 봤듯이 공간적 낭비를 불러옵니다. 또한 유사한 단어일지라도 단어 간의 유사성을 표현할 수도 없습니다."
   ]
  },
  {
   "cell_type": "markdown",
   "metadata": {},
   "source": [
    "## **2. 밀집 표현(Dense Representation)**"
   ]
  },
  {
   "cell_type": "markdown",
   "metadata": {},
   "source": [
    "이러한 희소 표현과 반대되는 표현으로 밀집 표현이 있습니다. 밀집 표현은 벡터의 차원을 단어 집합의 크기로 정하지 않고 사용자가 설정한 값으로 모든 단어의 벡터 차원을 맞춥니다. 또한 이 과정애서 0, 1 외에도 다양한 실수값을 가지게 됩니다. \n",
    "\n",
    "만약, 벡터 표현 차원을 128로 설정한다면 128차원에 임의의 실수를 가지는 벡터가 만들어집니다. 이 경우 벡터의 차원이 조밀해졌다고 하여 밀집 벡터라고 합니다."
   ]
  },
  {
   "cell_type": "markdown",
   "metadata": {},
   "source": [
    "## **3. 워드 임베딩(Wrod Embedding)**"
   ]
  },
  {
   "cell_type": "markdown",
   "metadata": {},
   "source": [
    "단어를 밀집 벡터 형태로 표현하는 방법을 워드 임베딩이라고 합니다. 그리고 이 밀집 벡터를 워드 임베딩 과정을 통해 나온 결과라고 하여 임베딩 벡터라고 부릅니다. \n",
    "\n",
    "워드 임베딩 방법론으로는 LSA, Word2Vec, FastText, Glove 등이 있습니다. 파이토치에서 제공하는 도구인 nn.embedding()는 앞서 언급한 방법들을 사용하지 않지만, 단어를 랜덤한 값을 가지는 밀집 벡터로 변환한 뒤에 인공 신경망의 가중치를 학습하는 것과 같은 방식으로 단어 벡터를 학습합니다. \n",
    "\n",
    "아래의 표는 앞서 배운 원-핫 벡터와 지금 배우고 있는 임베딩 벡터의 차이를 보여줍니다.\n",
    "\n",
    "|-|원-핫 벡터|임베딩 벡터|\n",
    "|---|---|---|\n",
    "|차원|고차원(단어 집합의 크기)|저차원|\n",
    "|다른 표현|희소 벡터의 일종|밀집 벡터의 일종|\n",
    "|표현 방법|수동|훈련 데이터로부터 학습|\n",
    "|값의 타입|1과 0|실수|"
   ]
  }
 ],
 "metadata": {
  "interpreter": {
   "hash": "168b3bbc19afd1ef550d68b948460bcb86336de7649712fa882c5012c218f57c"
  },
  "kernelspec": {
   "display_name": "Python 3.9.7 64-bit ('nlp': conda)",
   "language": "python",
   "name": "python3"
  },
  "language_info": {
   "name": "python",
   "version": "3.9.7"
  },
  "orig_nbformat": 4
 },
 "nbformat": 4,
 "nbformat_minor": 2
}
