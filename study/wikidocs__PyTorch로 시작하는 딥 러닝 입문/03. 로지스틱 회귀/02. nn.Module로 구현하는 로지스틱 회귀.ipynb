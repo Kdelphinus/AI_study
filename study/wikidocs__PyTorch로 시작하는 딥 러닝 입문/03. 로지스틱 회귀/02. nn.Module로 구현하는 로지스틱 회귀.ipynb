{
 "cells": [
  {
   "cell_type": "markdown",
   "metadata": {},
   "source": [
    "# **2. nn.Module로 구현하는 로지스틱 회귀**"
   ]
  },
  {
   "cell_type": "markdown",
   "metadata": {},
   "source": [
    "## 2.1 파이토치의 nn.Linear와 nn.Sigmoid로 로지스틱 회귀 구현하기"
   ]
  },
  {
   "cell_type": "code",
   "execution_count": 1,
   "metadata": {},
   "outputs": [
    {
     "data": {
      "text/plain": [
       "<torch._C.Generator at 0x25e6242a3f0>"
      ]
     },
     "execution_count": 1,
     "metadata": {},
     "output_type": "execute_result"
    }
   ],
   "source": [
    "import torch\n",
    "import torch.nn as nn\n",
    "import torch.nn.functional as F\n",
    "import torch.optim as optim\n",
    "\n",
    "torch.manual_seed(1)"
   ]
  },
  {
   "cell_type": "code",
   "execution_count": 64,
   "metadata": {},
   "outputs": [],
   "source": [
    "# 훈련 데이터\n",
    "x_data = [[1, 2], [2, 3], [3, 1], [4, 3], [5, 3], [6, 2]]\n",
    "y_data = [[0], [0], [0], [1], [1], [1]]\n",
    "x_train = torch.FloatTensor(x_data)\n",
    "y_train = torch.FloatTensor(y_data)"
   ]
  },
  {
   "cell_type": "markdown",
   "metadata": {},
   "source": [
    "nn.Sequential()은 nn.Module 층을 차례로 쌓을 수 있도록 합니다. 쉽게 말해 nn.Sequential()은 $Wx+b$와 같은 수식과 시그모이드 함수 등과 같은 여러 함수들을 연결해주는 역할을 합니다."
   ]
  },
  {
   "cell_type": "code",
   "execution_count": 65,
   "metadata": {},
   "outputs": [
    {
     "data": {
      "text/plain": [
       "tensor([[0.1939],\n",
       "        [0.0903],\n",
       "        [0.0971],\n",
       "        [0.0311],\n",
       "        [0.0180],\n",
       "        [0.0142]], grad_fn=<SigmoidBackward0>)"
      ]
     },
     "execution_count": 65,
     "metadata": {},
     "output_type": "execute_result"
    }
   ],
   "source": [
    "model = nn.Sequential(\n",
    "    nn.Linear(2, 1), # input_dim = 2, output_dim = 1\n",
    "    nn.Sigmoid() # 출력은 sigmoid 함수를 거친다.\n",
    ")\n",
    "\n",
    "model(x_train)"
   ]
  },
  {
   "cell_type": "markdown",
   "metadata": {},
   "source": [
    "현재 $W$와 $b$는 랜덤 초기화가 된 상태입니다. 그렇기에 현재 예측값은 의미가 없습니다. 이를 의미있게 만들기 위해 경사 하강법을 진행하면"
   ]
  },
  {
   "cell_type": "code",
   "execution_count": 66,
   "metadata": {},
   "outputs": [
    {
     "name": "stdout",
     "output_type": "stream",
     "text": [
      "Epoch    0/1000 Cost: 2.026148 Accuracy 50.00%\n",
      "Epoch   10/1000 Cost: 0.562432 Accuracy 50.00%\n",
      "Epoch   20/1000 Cost: 0.437817 Accuracy 66.67%\n",
      "Epoch   30/1000 Cost: 0.370633 Accuracy 83.33%\n",
      "Epoch   40/1000 Cost: 0.314211 Accuracy 83.33%\n",
      "Epoch   50/1000 Cost: 0.264154 Accuracy 83.33%\n",
      "Epoch   60/1000 Cost: 0.218761 Accuracy 100.00%\n",
      "Epoch   70/1000 Cost: 0.180787 Accuracy 100.00%\n",
      "Epoch   80/1000 Cost: 0.156604 Accuracy 100.00%\n",
      "Epoch   90/1000 Cost: 0.143658 Accuracy 100.00%\n",
      "Epoch  100/1000 Cost: 0.133904 Accuracy 100.00%\n",
      "Epoch  110/1000 Cost: 0.125447 Accuracy 100.00%\n",
      "Epoch  120/1000 Cost: 0.118013 Accuracy 100.00%\n",
      "Epoch  130/1000 Cost: 0.111428 Accuracy 100.00%\n",
      "Epoch  140/1000 Cost: 0.105553 Accuracy 100.00%\n",
      "Epoch  150/1000 Cost: 0.100279 Accuracy 100.00%\n",
      "Epoch  160/1000 Cost: 0.095520 Accuracy 100.00%\n",
      "Epoch  170/1000 Cost: 0.091202 Accuracy 100.00%\n",
      "Epoch  180/1000 Cost: 0.087267 Accuracy 100.00%\n",
      "Epoch  190/1000 Cost: 0.083665 Accuracy 100.00%\n",
      "Epoch  200/1000 Cost: 0.080357 Accuracy 100.00%\n",
      "Epoch  210/1000 Cost: 0.077306 Accuracy 100.00%\n",
      "Epoch  220/1000 Cost: 0.074484 Accuracy 100.00%\n",
      "Epoch  230/1000 Cost: 0.071867 Accuracy 100.00%\n",
      "Epoch  240/1000 Cost: 0.069431 Accuracy 100.00%\n",
      "Epoch  250/1000 Cost: 0.067159 Accuracy 100.00%\n",
      "Epoch  260/1000 Cost: 0.065034 Accuracy 100.00%\n",
      "Epoch  270/1000 Cost: 0.063043 Accuracy 100.00%\n",
      "Epoch  280/1000 Cost: 0.061173 Accuracy 100.00%\n",
      "Epoch  290/1000 Cost: 0.059414 Accuracy 100.00%\n",
      "Epoch  300/1000 Cost: 0.057755 Accuracy 100.00%\n",
      "Epoch  310/1000 Cost: 0.056188 Accuracy 100.00%\n",
      "Epoch  320/1000 Cost: 0.054706 Accuracy 100.00%\n",
      "Epoch  330/1000 Cost: 0.053301 Accuracy 100.00%\n",
      "Epoch  340/1000 Cost: 0.051969 Accuracy 100.00%\n",
      "Epoch  350/1000 Cost: 0.050703 Accuracy 100.00%\n",
      "Epoch  360/1000 Cost: 0.049498 Accuracy 100.00%\n",
      "Epoch  370/1000 Cost: 0.048351 Accuracy 100.00%\n",
      "Epoch  380/1000 Cost: 0.047256 Accuracy 100.00%\n",
      "Epoch  390/1000 Cost: 0.046211 Accuracy 100.00%\n",
      "Epoch  400/1000 Cost: 0.045212 Accuracy 100.00%\n",
      "Epoch  410/1000 Cost: 0.044256 Accuracy 100.00%\n",
      "Epoch  420/1000 Cost: 0.043340 Accuracy 100.00%\n",
      "Epoch  430/1000 Cost: 0.042462 Accuracy 100.00%\n",
      "Epoch  440/1000 Cost: 0.041620 Accuracy 100.00%\n",
      "Epoch  450/1000 Cost: 0.040811 Accuracy 100.00%\n",
      "Epoch  460/1000 Cost: 0.040033 Accuracy 100.00%\n",
      "Epoch  470/1000 Cost: 0.039285 Accuracy 100.00%\n",
      "Epoch  480/1000 Cost: 0.038565 Accuracy 100.00%\n",
      "Epoch  490/1000 Cost: 0.037871 Accuracy 100.00%\n",
      "Epoch  500/1000 Cost: 0.037202 Accuracy 100.00%\n",
      "Epoch  510/1000 Cost: 0.036556 Accuracy 100.00%\n",
      "Epoch  520/1000 Cost: 0.035933 Accuracy 100.00%\n",
      "Epoch  530/1000 Cost: 0.035332 Accuracy 100.00%\n",
      "Epoch  540/1000 Cost: 0.034750 Accuracy 100.00%\n",
      "Epoch  550/1000 Cost: 0.034187 Accuracy 100.00%\n",
      "Epoch  560/1000 Cost: 0.033643 Accuracy 100.00%\n",
      "Epoch  570/1000 Cost: 0.033116 Accuracy 100.00%\n",
      "Epoch  580/1000 Cost: 0.032605 Accuracy 100.00%\n",
      "Epoch  590/1000 Cost: 0.032110 Accuracy 100.00%\n",
      "Epoch  600/1000 Cost: 0.031630 Accuracy 100.00%\n",
      "Epoch  610/1000 Cost: 0.031164 Accuracy 100.00%\n",
      "Epoch  620/1000 Cost: 0.030712 Accuracy 100.00%\n",
      "Epoch  630/1000 Cost: 0.030273 Accuracy 100.00%\n",
      "Epoch  640/1000 Cost: 0.029847 Accuracy 100.00%\n",
      "Epoch  650/1000 Cost: 0.029433 Accuracy 100.00%\n",
      "Epoch  660/1000 Cost: 0.029030 Accuracy 100.00%\n",
      "Epoch  670/1000 Cost: 0.028638 Accuracy 100.00%\n",
      "Epoch  680/1000 Cost: 0.028257 Accuracy 100.00%\n",
      "Epoch  690/1000 Cost: 0.027885 Accuracy 100.00%\n",
      "Epoch  700/1000 Cost: 0.027524 Accuracy 100.00%\n",
      "Epoch  710/1000 Cost: 0.027172 Accuracy 100.00%\n",
      "Epoch  720/1000 Cost: 0.026829 Accuracy 100.00%\n",
      "Epoch  730/1000 Cost: 0.026494 Accuracy 100.00%\n",
      "Epoch  740/1000 Cost: 0.026168 Accuracy 100.00%\n",
      "Epoch  750/1000 Cost: 0.025850 Accuracy 100.00%\n",
      "Epoch  760/1000 Cost: 0.025539 Accuracy 100.00%\n",
      "Epoch  770/1000 Cost: 0.025236 Accuracy 100.00%\n",
      "Epoch  780/1000 Cost: 0.024940 Accuracy 100.00%\n",
      "Epoch  790/1000 Cost: 0.024651 Accuracy 100.00%\n",
      "Epoch  800/1000 Cost: 0.024369 Accuracy 100.00%\n",
      "Epoch  810/1000 Cost: 0.024093 Accuracy 100.00%\n",
      "Epoch  820/1000 Cost: 0.023824 Accuracy 100.00%\n",
      "Epoch  830/1000 Cost: 0.023560 Accuracy 100.00%\n",
      "Epoch  840/1000 Cost: 0.023303 Accuracy 100.00%\n",
      "Epoch  850/1000 Cost: 0.023050 Accuracy 100.00%\n",
      "Epoch  860/1000 Cost: 0.022804 Accuracy 100.00%\n",
      "Epoch  870/1000 Cost: 0.022562 Accuracy 100.00%\n",
      "Epoch  880/1000 Cost: 0.022326 Accuracy 100.00%\n",
      "Epoch  890/1000 Cost: 0.022095 Accuracy 100.00%\n",
      "Epoch  900/1000 Cost: 0.021868 Accuracy 100.00%\n",
      "Epoch  910/1000 Cost: 0.021646 Accuracy 100.00%\n",
      "Epoch  920/1000 Cost: 0.021429 Accuracy 100.00%\n",
      "Epoch  930/1000 Cost: 0.021216 Accuracy 100.00%\n",
      "Epoch  940/1000 Cost: 0.021007 Accuracy 100.00%\n",
      "Epoch  950/1000 Cost: 0.020802 Accuracy 100.00%\n",
      "Epoch  960/1000 Cost: 0.020601 Accuracy 100.00%\n",
      "Epoch  970/1000 Cost: 0.020404 Accuracy 100.00%\n",
      "Epoch  980/1000 Cost: 0.020211 Accuracy 100.00%\n",
      "Epoch  990/1000 Cost: 0.020022 Accuracy 100.00%\n",
      "Epoch 1000/1000 Cost: 0.019836 Accuracy 100.00%\n"
     ]
    }
   ],
   "source": [
    "# optimizer 설정\n",
    "optimizer = optim.SGD(model.parameters(), lr=1)\n",
    "\n",
    "nb_epochs = 1000\n",
    "for epoch in range(nb_epochs + 1):\n",
    "    # H(x) 계산\n",
    "    hypothesis = model(x_train)\n",
    "    \n",
    "    # cost 계산\n",
    "    cost = F.binary_cross_entropy(hypothesis, y_train)\n",
    "    \n",
    "    # cost로 H(x) 개선\n",
    "    optimizer.zero_grad()\n",
    "    cost.backward()\n",
    "    optimizer.step()\n",
    "    \n",
    "    # 20번마다 로그 출력\n",
    "    if epoch % 10 == 0:\n",
    "        prediction = hypothesis >= torch.FloatTensor([0.5]) # 예측값이 0.5를 넘으면 True로 간주\n",
    "        correct_prediction = prediction.float() == y_train # 실제값과 일치하는 경우만 True로 간주\n",
    "        accuracy = correct_prediction.sum().item() / len(correct_prediction) # 정확도를 계산\n",
    "        print('Epoch {:4d}/{} Cost: {:.6f} Accuracy {:2.2f}%'.format( # 각 에포크마다 정확도를 출력\n",
    "        epoch, nb_epochs, cost.item(), accuracy * 100,\n",
    "    ))"
   ]
  },
  {
   "cell_type": "markdown",
   "metadata": {},
   "source": [
    "정확도가 올라가고 어느 순간부턴 실제값과 일치한 결과를 내는 것을 볼 수 있다. 훈련 후, $W$와 $b$를 출력해보면 앞 챕터와 거의 비슷한 것을 확인할 수 있다."
   ]
  },
  {
   "cell_type": "code",
   "execution_count": 67,
   "metadata": {},
   "outputs": [
    {
     "data": {
      "text/plain": [
       "[Parameter containing:\n",
       " tensor([[3.2538, 1.5183]], requires_grad=True),\n",
       " Parameter containing:\n",
       " tensor([-14.4856], requires_grad=True)]"
      ]
     },
     "execution_count": 67,
     "metadata": {},
     "output_type": "execute_result"
    }
   ],
   "source": [
    "list(model.parameters())"
   ]
  },
  {
   "cell_type": "markdown",
   "metadata": {},
   "source": [
    "## 2.2 인공 신경망으로 표현되는 로지스틱 회귀\n",
    "\n",
    "사실 로지스틱 회귀는 인공 신경망으로 간주할 수 있다.\n",
    "\n",
    "<center>\n",
    "<img src=\"https://wikidocs.net/images/page/58686/logistic_regression.PNG\"/>\n",
    "</center>\n",
    "\n",
    "위의 그림에서 각 화살표는 입려고가 곱해지는 가중치(편향)다. 각 입력 $x$는 각 입력의 가중치 $W$와 곱해지고 편향 $b$는 상수 1과 곱해지는 것으로 표현되었다. 그리고 출력하기 전에 시그모이드 함수를 지나게 된다. \n",
    "\n",
    "결과적으로 위의 인공 신경망은 다음과 같은 다중 로지스틱 회귀를 표현하고 있다.\n",
    "\n",
    "$$H(x) = sigmoid(x_1w_1+x_2w_2+b)$$\n",
    "\n",
    "---\n",
    "### 참고) 시그모이드 함수는 인공 신경망의 은닉층에는 거의 사용되지 않는다."
   ]
  }
 ],
 "metadata": {
  "interpreter": {
   "hash": "168b3bbc19afd1ef550d68b948460bcb86336de7649712fa882c5012c218f57c"
  },
  "kernelspec": {
   "display_name": "Python 3.9.7 64-bit ('nlp': conda)",
   "language": "python",
   "name": "python3"
  },
  "language_info": {
   "codemirror_mode": {
    "name": "ipython",
    "version": 3
   },
   "file_extension": ".py",
   "mimetype": "text/x-python",
   "name": "python",
   "nbconvert_exporter": "python",
   "pygments_lexer": "ipython3",
   "version": "3.9.7"
  },
  "orig_nbformat": 4
 },
 "nbformat": 4,
 "nbformat_minor": 2
}
