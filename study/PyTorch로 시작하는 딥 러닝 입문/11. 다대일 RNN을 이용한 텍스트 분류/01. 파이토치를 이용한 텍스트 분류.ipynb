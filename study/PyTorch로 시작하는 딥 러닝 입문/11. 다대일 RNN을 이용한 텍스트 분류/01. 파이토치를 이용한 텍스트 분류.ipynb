{
 "cells": [
  {
   "cell_type": "markdown",
   "metadata": {},
   "source": [
    "이제 파이토치로 인공 신경망을 이용한 텍스트 분류를 실습합니다. 실습에 앞서 딥 러닝을 이용해서 텍스트 분류가 수행될 때, 어떤 작업과 구성으로 진행되는지 간단히 미리 정리해보겠습니다."
   ]
  },
  {
   "cell_type": "markdown",
   "metadata": {},
   "source": [
    "## **1. 훈련 데이터에 대한 이해**"
   ]
  },
  {
   "cell_type": "markdown",
   "metadata": {},
   "source": [
    "앞으로 하게 될 텍스트 분류 작업은 지도 학습에 속합니다. 여기서는 스팸 메일 분류기를 만들어보겠습니다. \n",
    "\n",
    "단어에 대한 인덱스 부여는 지난 챕터에서 했습니다. 이때 단어의 빈도순대로 정렬하여 인덱스를 부여하면 등장 빈도수가 적은 단어를 제거할 수 있다는 장점이 있습니다. 예를 들어서 25,000개의 단어가 있다고 가정하고, 해당 단어를 등장 빈도수 순으로 내림차순하여 1 ~ 25,000까지 인덱스를 부여했다고 해보겠습니다. 이렇게 되면 등장 빈도수 순대로 등수가 부여된 것과 같습니다. 그렇기에 상위 n개의 단어만 남길 수 있습니다.\n",
    "\n",
    "텍스트 분류 관점에서 앞서 배운 RNN 코드의 timesteps와 input_dim, 그리고 hidden_size를 해석해보면 다음과 같습니다.\n",
    "\n",
    "- hidden_size = 출력의 크기(output_dim)\n",
    "- timesteps = 시점의 수 = 각 문서에서 단어 수\n",
    "- input_size = 입력의 크기 = 각 단어의 벡터 표현의 차원 수"
   ]
  },
  {
   "cell_type": "markdown",
   "metadata": {},
   "source": [
    "## **2. RNN의 다-대-일(Many-to-One) 문제**"
   ]
  },
  {
   "cell_type": "markdown",
   "metadata": {},
   "source": [
    "텍스트 분류는 RNN의 다-대-일 문제에 속합니다. 즉, 텍스트 분류는 모든 시점에 대해서 입력을 받지만 최종 시점의 RNN 셀만이 은닉 상태를 출력하고, 이것이 출력층으로 가서 활성화 함수를 통해 정답을 고르는 문제가 됩니다. \n",
    "\n",
    "이때 두 개의 선택지 중 하나를 선택하기에 시그모이드 함수를 사용합니다. 또한 출력층 뉴런의 개수는 2개가 됩니다. "
   ]
  }
 ],
 "metadata": {
  "interpreter": {
   "hash": "168b3bbc19afd1ef550d68b948460bcb86336de7649712fa882c5012c218f57c"
  },
  "kernelspec": {
   "display_name": "Python 3.8.12 64-bit ('nlp': conda)",
   "language": "python",
   "name": "python3"
  },
  "language_info": {
   "name": "python",
   "version": "3.8.12"
  },
  "orig_nbformat": 4
 },
 "nbformat": 4,
 "nbformat_minor": 2
}
