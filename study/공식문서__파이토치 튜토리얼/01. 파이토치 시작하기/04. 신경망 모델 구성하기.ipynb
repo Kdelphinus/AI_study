{
 "cells": [
  {
   "cell_type": "markdown",
   "metadata": {},
   "source": [
    "# **신경망 모델 구성하기**"
   ]
  },
  {
   "cell_type": "markdown",
   "metadata": {},
   "source": [
    "신경망은 데이터에 대한 연산을 수행하는 layer/module로 구성되어 있습니다. `torch.nn` 네임스페이스는 신경망을 구성하는데 필요한 모든 구성 요소를 제공합니다. 파이토치의 모든 모듈은 `nn.Module`의 하위 클래스입니다. 신경망은 다른 모듈(layer)로 구성된 모듈입니다. 이러한 중첩된 구조는 복잡한 아키텍처를 쉽게 구축하고 관리할 수 있습니다.\n",
    "\n",
    "이어지는 장에서는 FashionMNIST데이터셋의 이미지들을 분류하는 신경망을 구성하곘습니다."
   ]
  },
  {
   "cell_type": "code",
   "execution_count": 1,
   "metadata": {},
   "outputs": [],
   "source": [
    "import os\n",
    "import torch\n",
    "from torch import nn\n",
    "from torch.utils.data import DataLoader\n",
    "from torchvision import datasets, transforms"
   ]
  },
  {
   "cell_type": "code",
   "execution_count": 2,
   "metadata": {},
   "outputs": [
    {
     "data": {
      "text/plain": [
       "'cpu'"
      ]
     },
     "execution_count": 2,
     "metadata": {},
     "output_type": "execute_result"
    }
   ],
   "source": [
    "device = 'cuda' if torch.cuda.is_available() else 'cpu'\n",
    "device"
   ]
  },
  {
   "cell_type": "markdown",
   "metadata": {},
   "source": [
    "### 클래스 정의하기"
   ]
  },
  {
   "cell_type": "code",
   "execution_count": 3,
   "metadata": {},
   "outputs": [],
   "source": [
    "class NeuralNetwork(nn.Module):\n",
    "    def __init__(self):\n",
    "        super(NeuralNetwork, self).__init__()\n",
    "        self.flatten = nn.Flatten()\n",
    "        self.linear_relu_stack = nn.Sequential(\n",
    "            nn.Linear(28*28, 512),\n",
    "            nn.ReLU(),\n",
    "            nn.Linear(512, 512),\n",
    "            nn.ReLU(),\n",
    "            nn.Linear(512, 10),\n",
    "        )\n",
    "    \n",
    "    def forward(self, x):\n",
    "        x = self.flatten(x)\n",
    "        logits = self.linear_relu_stack(x)\n",
    "        return logits"
   ]
  },
  {
   "cell_type": "code",
   "execution_count": 4,
   "metadata": {},
   "outputs": [
    {
     "name": "stdout",
     "output_type": "stream",
     "text": [
      "NeuralNetwork(\n",
      "  (flatten): Flatten(start_dim=1, end_dim=-1)\n",
      "  (linear_relu_stack): Sequential(\n",
      "    (0): Linear(in_features=784, out_features=512, bias=True)\n",
      "    (1): ReLU()\n",
      "    (2): Linear(in_features=512, out_features=512, bias=True)\n",
      "    (3): ReLU()\n",
      "    (4): Linear(in_features=512, out_features=10, bias=True)\n",
      "  )\n",
      ")\n"
     ]
    }
   ],
   "source": [
    "# NeuralNetwork의 instance를 생성하고 이를 device로 이동시킨 뒤, 구조를 출력합니다.\n",
    "model = NeuralNetwork().to(device)\n",
    "print(model)"
   ]
  },
  {
   "cell_type": "markdown",
   "metadata": {},
   "source": [
    "모델을 사용하기 위해 입력 데이터를 전달합니다. 이는 일부 `백그라운드 연산들`과 함께 모델의 forward를 실행합니다. **model.forward()를 직접 호출하면 안 됩니다.**\n",
    "\n",
    "모델에 입력을 호출하면 각 class에 대한 raw 예측값이 있는 10차원 텐서가 반환됩니다. raw 예측값을 `nn.Softmax` 모듈의 인스턴스에 통과시켜 예측 확률을 얻습니다."
   ]
  },
  {
   "cell_type": "code",
   "execution_count": 42,
   "metadata": {},
   "outputs": [
    {
     "name": "stdout",
     "output_type": "stream",
     "text": [
      "Predicted class: tensor([4])\n"
     ]
    }
   ],
   "source": [
    "X = torch.rand(1, 28, 28, device=device)\n",
    "logits = model(X)\n",
    "pred_probab = nn.Softmax(dim=1)(logits)\n",
    "y_pred = pred_probab.argmax(1)\n",
    "print(f\"Predicted class: {y_pred}\")"
   ]
  },
  {
   "cell_type": "markdown",
   "metadata": {},
   "source": [
    "### 모델 layer"
   ]
  },
  {
   "cell_type": "markdown",
   "metadata": {},
   "source": [
    "FashionMNIST 모델의 계층들을 살펴보겠습니다. 이를 설명하기 위헤, 28 x 28 크기의 이미지 3개로 구성된 미니배치를 가져와서 신경망을 통과할 때 어떤 일이 발생하는지 보겠습니다."
   ]
  },
  {
   "cell_type": "code",
   "execution_count": 43,
   "metadata": {},
   "outputs": [
    {
     "name": "stdout",
     "output_type": "stream",
     "text": [
      "torch.Size([3, 28, 28])\n"
     ]
    }
   ],
   "source": [
    "input_image = torch.rand(3, 28, 28)\n",
    "print(input_image.size())"
   ]
  },
  {
   "cell_type": "markdown",
   "metadata": {},
   "source": [
    "**nn.Flatten**\n",
    "\n",
    "`nn.Flatten`은 계층을 초기화하여 각 28 x 28의 2D 이미지를 784 픽셀값을 갖는 연속된 배열로 반환합니다. (dim=0의 미니배치 차원은 유지됩니다.)"
   ]
  },
  {
   "cell_type": "code",
   "execution_count": 44,
   "metadata": {},
   "outputs": [
    {
     "name": "stdout",
     "output_type": "stream",
     "text": [
      "torch.Size([3, 784])\n"
     ]
    }
   ],
   "source": [
    "flatten = nn.Flatten()\n",
    "flat_image = flatten(input_image)\n",
    "print(flat_image.size())"
   ]
  },
  {
   "cell_type": "markdown",
   "metadata": {},
   "source": [
    "**nn.Linear**\n",
    "\n",
    "`nn.Linear`는 저장된 가중치와 편향을 사용하여 입력에 선형 변환을 적용하는 모듈입니다."
   ]
  },
  {
   "cell_type": "code",
   "execution_count": 45,
   "metadata": {},
   "outputs": [
    {
     "name": "stdout",
     "output_type": "stream",
     "text": [
      "torch.Size([3, 20])\n"
     ]
    }
   ],
   "source": [
    "layer1 = nn.Linear(in_features=28*28, out_features=20)\n",
    "hidden1 = layer1(flat_image)\n",
    "print(hidden1.size())"
   ]
  },
  {
   "cell_type": "markdown",
   "metadata": {},
   "source": [
    "**nn.ReLU**\n",
    "\n",
    "nn.ReLU같은 비선형 활성화 함수는 모델의 입력과 출력 사이에 복잡한 관계(mapping)를 만듭니다. 비선형 활성화 함수는 선형 변환 후에 적용되어 비선형성을 가지게 만들고, 신경망이 다양한 현상을 학습할 수 있도록 돕습니다. \n",
    "\n",
    "이 모델에서는 `nn.ReLU`를 선형 계층들 사이에 사용하지만, 모델을 만들 때는 비선형성을 가진 다른 활성화를 도입할 수도 있습니다."
   ]
  },
  {
   "cell_type": "code",
   "execution_count": 46,
   "metadata": {},
   "outputs": [
    {
     "name": "stdout",
     "output_type": "stream",
     "text": [
      "Before ReLU: tensor([[ 0.1150, -0.0127, -0.5631, -0.1334, -0.1226,  0.2719,  0.6505, -0.0818,\n",
      "         -0.3713, -0.1237, -0.3054,  0.1297,  0.1276,  0.5605, -0.4894, -0.2783,\n",
      "          0.4900,  0.5113,  0.2090, -0.1941],\n",
      "        [ 0.0420,  0.2975, -0.8358, -0.2193,  0.0226,  0.2357,  0.3952, -0.5156,\n",
      "         -0.5239, -0.0562, -0.3520,  0.1118,  0.4400,  0.5300, -0.5167, -0.2825,\n",
      "          0.4869,  0.5671,  0.0068,  0.1407],\n",
      "        [ 0.0564,  0.3625, -0.9141, -0.3772, -0.2132,  0.2234,  0.7288, -0.4724,\n",
      "         -0.6680, -0.0745, -0.7985,  0.0420,  0.4115,  0.4512, -0.5639, -0.2956,\n",
      "          0.3720,  0.2536,  0.2319, -0.1154]], grad_fn=<AddmmBackward0>)\n",
      "\n",
      "\n",
      "After ReLU: tensor([[0.1150, 0.0000, 0.0000, 0.0000, 0.0000, 0.2719, 0.6505, 0.0000, 0.0000,\n",
      "         0.0000, 0.0000, 0.1297, 0.1276, 0.5605, 0.0000, 0.0000, 0.4900, 0.5113,\n",
      "         0.2090, 0.0000],\n",
      "        [0.0420, 0.2975, 0.0000, 0.0000, 0.0226, 0.2357, 0.3952, 0.0000, 0.0000,\n",
      "         0.0000, 0.0000, 0.1118, 0.4400, 0.5300, 0.0000, 0.0000, 0.4869, 0.5671,\n",
      "         0.0068, 0.1407],\n",
      "        [0.0564, 0.3625, 0.0000, 0.0000, 0.0000, 0.2234, 0.7288, 0.0000, 0.0000,\n",
      "         0.0000, 0.0000, 0.0420, 0.4115, 0.4512, 0.0000, 0.0000, 0.3720, 0.2536,\n",
      "         0.2319, 0.0000]], grad_fn=<ReluBackward0>)\n"
     ]
    }
   ],
   "source": [
    "print(f\"Before ReLU: {hidden1}\\n\\n\")\n",
    "hidden1 = nn.ReLU()(hidden1)\n",
    "print(f\"After ReLU: {hidden1}\")"
   ]
  },
  {
   "cell_type": "markdown",
   "metadata": {},
   "source": [
    "**nn.Sequential**\n",
    "\n",
    "`nn.Sequential`은 순서를 갖는 모듈의 컨테이너입니다. 데이터는 정의된 것과 같은 순서로 모든 모듈을 통해 전달됩니다. Sequential container를 사용하여 아래의 `seq_modules`와 같은 신경망을 빠르게 만들 수 있습니다."
   ]
  },
  {
   "cell_type": "code",
   "execution_count": 47,
   "metadata": {},
   "outputs": [],
   "source": [
    "seq_modules = nn.Sequential(\n",
    "    flatten,\n",
    "    layer1,\n",
    "    nn.ReLU(),\n",
    "    nn.Linear(20, 10),\n",
    ")\n",
    "input_image = torch.rand(3, 28, 28)\n",
    "logits = seq_modules(input_image)"
   ]
  },
  {
   "cell_type": "markdown",
   "metadata": {},
   "source": [
    "**nn.Softmax**\n",
    "\n",
    "신경망의 마지막 선형 계층은 `nn.Softmax` 모듈에 전달될 logits를 반환합니다. logits는 모델의 각 class에 대한 예측 확률을 나타내도록 0 ~ 1 범위로 비례하여 조정됩니다. dim 매개변수는 값의 합이 1이 되는 차원을 나타냅니다."
   ]
  },
  {
   "cell_type": "code",
   "execution_count": 48,
   "metadata": {},
   "outputs": [],
   "source": [
    "softmax = nn.Softmax(dim=1)\n",
    "pred_probab = softmax(logits)"
   ]
  },
  {
   "cell_type": "markdown",
   "metadata": {},
   "source": [
    "### 모델 매개변수"
   ]
  },
  {
   "cell_type": "markdown",
   "metadata": {},
   "source": [
    "신경망 내부의 많은 계층들을 매개변수화됩니다. 즉, 학습 중에 최적화되는 가중치와 편향과 연관지어집니다. nn.Module을 상속하면 모델 객체 내부의 모든 필드들이 자동으로 추적되며, 모델의 parameters() 및 named_parameters() 메소드로 모든 매개변수에 접근할 수 있게 됩니다.\n",
    "\n",
    "이 예제에서는 각 매개변수들을 순회하며, 매개변수의 크기와 값을 출력합니다."
   ]
  },
  {
   "cell_type": "code",
   "execution_count": 49,
   "metadata": {},
   "outputs": [
    {
     "name": "stdout",
     "output_type": "stream",
     "text": [
      "Model structure:  NeuralNetwork(\n",
      "  (flatten): Flatten(start_dim=1, end_dim=-1)\n",
      "  (linear_relu_stack): Sequential(\n",
      "    (0): Linear(in_features=784, out_features=512, bias=True)\n",
      "    (1): ReLU()\n",
      "    (2): Linear(in_features=512, out_features=512, bias=True)\n",
      "    (3): ReLU()\n",
      "    (4): Linear(in_features=512, out_features=10, bias=True)\n",
      "  )\n",
      ") \n",
      "\n",
      "\n",
      "Layer: linear_relu_stack.0.weight | Size: torch.Size([512, 784]) | Values: tensor([[ 0.0194, -0.0240,  0.0140,  ...,  0.0097,  0.0309,  0.0056],\n",
      "        [-0.0041,  0.0050, -0.0172,  ...,  0.0241, -0.0280, -0.0092]],\n",
      "       grad_fn=<SliceBackward0>) \n",
      "\n",
      "Layer: linear_relu_stack.0.bias | Size: torch.Size([512]) | Values: tensor([-0.0347, -0.0077], grad_fn=<SliceBackward0>) \n",
      "\n",
      "Layer: linear_relu_stack.2.weight | Size: torch.Size([512, 512]) | Values: tensor([[-0.0173, -0.0366, -0.0185,  ..., -0.0090,  0.0104,  0.0025],\n",
      "        [-0.0368,  0.0421,  0.0144,  ..., -0.0240, -0.0233,  0.0395]],\n",
      "       grad_fn=<SliceBackward0>) \n",
      "\n",
      "Layer: linear_relu_stack.2.bias | Size: torch.Size([512]) | Values: tensor([0.0427, 0.0103], grad_fn=<SliceBackward0>) \n",
      "\n",
      "Layer: linear_relu_stack.4.weight | Size: torch.Size([10, 512]) | Values: tensor([[-0.0301, -0.0397, -0.0257,  ...,  0.0172, -0.0209,  0.0116],\n",
      "        [-0.0253,  0.0107,  0.0070,  ...,  0.0132, -0.0108,  0.0318]],\n",
      "       grad_fn=<SliceBackward0>) \n",
      "\n",
      "Layer: linear_relu_stack.4.bias | Size: torch.Size([10]) | Values: tensor([-0.0363,  0.0354], grad_fn=<SliceBackward0>) \n",
      "\n"
     ]
    }
   ],
   "source": [
    "print(\"Model structure: \", model, '\\n\\n')\n",
    "\n",
    "for name, param in model.named_parameters():\n",
    "    print(f\"Layer: {name} | Size: {param.size()} | Values: {param[:2]} \\n\")"
   ]
  }
 ],
 "metadata": {
  "interpreter": {
   "hash": "168b3bbc19afd1ef550d68b948460bcb86336de7649712fa882c5012c218f57c"
  },
  "kernelspec": {
   "display_name": "Python 3.8.12 64-bit ('nlp': conda)",
   "language": "python",
   "name": "python3"
  },
  "language_info": {
   "codemirror_mode": {
    "name": "ipython",
    "version": 3
   },
   "file_extension": ".py",
   "mimetype": "text/x-python",
   "name": "python",
   "nbconvert_exporter": "python",
   "pygments_lexer": "ipython3",
   "version": "3.8.12"
  },
  "orig_nbformat": 4
 },
 "nbformat": 4,
 "nbformat_minor": 2
}
