{
 "cells": [
  {
   "cell_type": "markdown",
   "metadata": {},
   "source": [
    "# **변형(Transform)**"
   ]
  },
  {
   "cell_type": "markdown",
   "metadata": {},
   "source": [
    "데이터가 항상 머신러닝 알고리즘 학습에 필요한 최종 처리가 된 형태로 제공되지는 않습니다. 그렇기에 변형을 통해 데이터를 가공하여 학습에 적합하도록 만들어줍니다.\n",
    "\n",
    "모든 torchvision 데이터셋들은 변형 로직을 갖는, 호출 가능한 객체(callable)를 받는 매개변수 두 개(특징을 변경하기 위한 transform과 정답을 바꾸기 위한 target_transform)를 갖습니다. `torchvision.transforms` 모듈은 주로 사용하는 몇 가지 변형을 제공합니다. \n",
    "\n",
    "FashionMNIST 특징은 PIL Image 형식이며, 정답은 정수입니다. 학습을 하려면 정규화된 텐서 형태의 특징과 원-핫 벡터로 encode된 텐서 형태의 정답이 필요합니다. 이러한 변형을 하기 위해 `ToTensor`와 `Lambda`를 사용합니다."
   ]
  },
  {
   "cell_type": "code",
   "execution_count": 1,
   "metadata": {},
   "outputs": [],
   "source": [
    "import torch\n",
    "from torchvision import datasets\n",
    "from torchvision.transforms import ToTensor, Lambda\n",
    "\n",
    "ds = datasets.FashionMNIST(\n",
    "    root=\"data\",\n",
    "    train=True,\n",
    "    download=True,\n",
    "    transform=ToTensor(),\n",
    "    target_transform=Lambda(lambda y: torch.zeros(10, dtype=torch.float).scatter_(0, torch.tensor(y), value=1))\n",
    ")"
   ]
  },
  {
   "cell_type": "markdown",
   "metadata": {},
   "source": [
    "### ToTensor()\n",
    "\n",
    "ToTensor는 PIL Image나 NumPy ndarray를 FloatTensor로 변환하고, 이미지의 픽셀 크기 값을 [0., 1.] 범위로 비례하여 조정합니다."
   ]
  },
  {
   "cell_type": "markdown",
   "metadata": {},
   "source": [
    "### Lambda 변형\n",
    "\n",
    "Lambda 변형은 사용자 정의 람다 함수를 적용합니다. 여기에서는 정수를 원-핫으로 encode된 텐서로 바꾸는 함수를 정의합니다. 이 함수는 먼저 (데이터셋 정답의 개수인) 크기 10짜리 zero tensor를 만들고, scatter_를 호출하여 주어진 정답 y에 해당하는 인덱스에 value=1을 할당합니다."
   ]
  }
 ],
 "metadata": {
  "interpreter": {
   "hash": "168b3bbc19afd1ef550d68b948460bcb86336de7649712fa882c5012c218f57c"
  },
  "kernelspec": {
   "display_name": "Python 3.8.12 64-bit ('nlp': conda)",
   "language": "python",
   "name": "python3"
  },
  "language_info": {
   "codemirror_mode": {
    "name": "ipython",
    "version": 3
   },
   "file_extension": ".py",
   "mimetype": "text/x-python",
   "name": "python",
   "nbconvert_exporter": "python",
   "pygments_lexer": "ipython3",
   "version": "3.8.12"
  },
  "orig_nbformat": 4
 },
 "nbformat": 4,
 "nbformat_minor": 2
}
