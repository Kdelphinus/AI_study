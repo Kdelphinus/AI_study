{
 "cells": [
  {
   "cell_type": "markdown",
   "source": [
    "# EDA"
   ],
   "metadata": {
    "collapsed": false,
    "pycharm": {
     "name": "#%% md\n"
    }
   }
  },
  {
   "cell_type": "markdown",
   "source": [
    "### EDA 기초"
   ],
   "metadata": {
    "collapsed": false,
    "pycharm": {
     "name": "#%% md\n"
    }
   }
  },
  {
   "cell_type": "code",
   "execution_count": 1,
   "outputs": [],
   "source": [
    "import pandas as pd"
   ],
   "metadata": {
    "collapsed": false,
    "pycharm": {
     "name": "#%%\n"
    }
   }
  },
  {
   "cell_type": "code",
   "execution_count": 2,
   "outputs": [],
   "source": [
    "train = pd.read_csv(\".data/wine/train.csv\")\n",
    "test = pd.read_csv(\".data/wine/test.csv\")"
   ],
   "metadata": {
    "collapsed": false,
    "pycharm": {
     "name": "#%%\n"
    }
   }
  },
  {
   "cell_type": "code",
   "execution_count": 3,
   "outputs": [
    {
     "name": "stdout",
     "output_type": "stream",
     "text": [
      "<class 'pandas.core.frame.DataFrame'>\n",
      "RangeIndex: 5497 entries, 0 to 5496\n",
      "Data columns (total 14 columns):\n",
      " #   Column                Non-Null Count  Dtype  \n",
      "---  ------                --------------  -----  \n",
      " 0   index                 5497 non-null   int64  \n",
      " 1   quality               5497 non-null   int64  \n",
      " 2   fixed acidity         5497 non-null   float64\n",
      " 3   volatile acidity      5497 non-null   float64\n",
      " 4   citric acid           5497 non-null   float64\n",
      " 5   residual sugar        5497 non-null   float64\n",
      " 6   chlorides             5497 non-null   float64\n",
      " 7   free sulfur dioxide   5497 non-null   float64\n",
      " 8   total sulfur dioxide  5497 non-null   float64\n",
      " 9   density               5497 non-null   float64\n",
      " 10  pH                    5497 non-null   float64\n",
      " 11  sulphates             5497 non-null   float64\n",
      " 12  alcohol               5497 non-null   float64\n",
      " 13  type                  5497 non-null   object \n",
      "dtypes: float64(11), int64(2), object(1)\n",
      "memory usage: 601.4+ KB\n"
     ]
    }
   ],
   "source": [
    "train.info()"
   ],
   "metadata": {
    "collapsed": false,
    "pycharm": {
     "name": "#%%\n"
    }
   }
  },
  {
   "cell_type": "code",
   "execution_count": 4,
   "outputs": [
    {
     "data": {
      "text/plain": "(5497, 14)"
     },
     "execution_count": 4,
     "metadata": {},
     "output_type": "execute_result"
    }
   ],
   "source": [
    "train.shape"
   ],
   "metadata": {
    "collapsed": false,
    "pycharm": {
     "name": "#%%\n"
    }
   }
  },
  {
   "cell_type": "code",
   "execution_count": 5,
   "outputs": [
    {
     "data": {
      "text/plain": "   index  quality  fixed acidity  volatile acidity  citric acid  \\\n0      0        5            5.6             0.695         0.06   \n1      1        5            8.8             0.610         0.14   \n2      2        5            7.9             0.210         0.39   \n\n   residual sugar  chlorides  free sulfur dioxide  total sulfur dioxide  \\\n0             6.8      0.042                  9.0                  84.0   \n1             2.4      0.067                 10.0                  42.0   \n2             2.0      0.057                 21.0                 138.0   \n\n   density    pH  sulphates  alcohol   type  \n0  0.99432  3.44       0.44     10.2  white  \n1  0.99690  3.19       0.59      9.5    red  \n2  0.99176  3.05       0.52     10.9  white  ",
      "text/html": "<div>\n<style scoped>\n    .dataframe tbody tr th:only-of-type {\n        vertical-align: middle;\n    }\n\n    .dataframe tbody tr th {\n        vertical-align: top;\n    }\n\n    .dataframe thead th {\n        text-align: right;\n    }\n</style>\n<table border=\"1\" class=\"dataframe\">\n  <thead>\n    <tr style=\"text-align: right;\">\n      <th></th>\n      <th>index</th>\n      <th>quality</th>\n      <th>fixed acidity</th>\n      <th>volatile acidity</th>\n      <th>citric acid</th>\n      <th>residual sugar</th>\n      <th>chlorides</th>\n      <th>free sulfur dioxide</th>\n      <th>total sulfur dioxide</th>\n      <th>density</th>\n      <th>pH</th>\n      <th>sulphates</th>\n      <th>alcohol</th>\n      <th>type</th>\n    </tr>\n  </thead>\n  <tbody>\n    <tr>\n      <th>0</th>\n      <td>0</td>\n      <td>5</td>\n      <td>5.6</td>\n      <td>0.695</td>\n      <td>0.06</td>\n      <td>6.8</td>\n      <td>0.042</td>\n      <td>9.0</td>\n      <td>84.0</td>\n      <td>0.99432</td>\n      <td>3.44</td>\n      <td>0.44</td>\n      <td>10.2</td>\n      <td>white</td>\n    </tr>\n    <tr>\n      <th>1</th>\n      <td>1</td>\n      <td>5</td>\n      <td>8.8</td>\n      <td>0.610</td>\n      <td>0.14</td>\n      <td>2.4</td>\n      <td>0.067</td>\n      <td>10.0</td>\n      <td>42.0</td>\n      <td>0.99690</td>\n      <td>3.19</td>\n      <td>0.59</td>\n      <td>9.5</td>\n      <td>red</td>\n    </tr>\n    <tr>\n      <th>2</th>\n      <td>2</td>\n      <td>5</td>\n      <td>7.9</td>\n      <td>0.210</td>\n      <td>0.39</td>\n      <td>2.0</td>\n      <td>0.057</td>\n      <td>21.0</td>\n      <td>138.0</td>\n      <td>0.99176</td>\n      <td>3.05</td>\n      <td>0.52</td>\n      <td>10.9</td>\n      <td>white</td>\n    </tr>\n  </tbody>\n</table>\n</div>"
     },
     "execution_count": 5,
     "metadata": {},
     "output_type": "execute_result"
    }
   ],
   "source": [
    "train.head(3)"
   ],
   "metadata": {
    "collapsed": false,
    "pycharm": {
     "name": "#%%\n"
    }
   }
  },
  {
   "cell_type": "code",
   "execution_count": 6,
   "outputs": [
    {
     "data": {
      "text/plain": "   index  fixed acidity  volatile acidity  citric acid  residual sugar  \\\n0      0            9.0              0.31         0.48             6.6   \n1      1           13.3              0.43         0.58             1.9   \n2      2            6.5              0.28         0.27             5.2   \n\n   chlorides  free sulfur dioxide  total sulfur dioxide  density    pH  \\\n0      0.043                 11.0                  73.0   0.9938  2.90   \n1      0.070                 15.0                  40.0   1.0004  3.06   \n2      0.040                 44.0                 179.0   0.9948  3.19   \n\n   sulphates  alcohol   type  \n0       0.38     11.6  white  \n1       0.49      9.0    red  \n2       0.69      9.4  white  ",
      "text/html": "<div>\n<style scoped>\n    .dataframe tbody tr th:only-of-type {\n        vertical-align: middle;\n    }\n\n    .dataframe tbody tr th {\n        vertical-align: top;\n    }\n\n    .dataframe thead th {\n        text-align: right;\n    }\n</style>\n<table border=\"1\" class=\"dataframe\">\n  <thead>\n    <tr style=\"text-align: right;\">\n      <th></th>\n      <th>index</th>\n      <th>fixed acidity</th>\n      <th>volatile acidity</th>\n      <th>citric acid</th>\n      <th>residual sugar</th>\n      <th>chlorides</th>\n      <th>free sulfur dioxide</th>\n      <th>total sulfur dioxide</th>\n      <th>density</th>\n      <th>pH</th>\n      <th>sulphates</th>\n      <th>alcohol</th>\n      <th>type</th>\n    </tr>\n  </thead>\n  <tbody>\n    <tr>\n      <th>0</th>\n      <td>0</td>\n      <td>9.0</td>\n      <td>0.31</td>\n      <td>0.48</td>\n      <td>6.6</td>\n      <td>0.043</td>\n      <td>11.0</td>\n      <td>73.0</td>\n      <td>0.9938</td>\n      <td>2.90</td>\n      <td>0.38</td>\n      <td>11.6</td>\n      <td>white</td>\n    </tr>\n    <tr>\n      <th>1</th>\n      <td>1</td>\n      <td>13.3</td>\n      <td>0.43</td>\n      <td>0.58</td>\n      <td>1.9</td>\n      <td>0.070</td>\n      <td>15.0</td>\n      <td>40.0</td>\n      <td>1.0004</td>\n      <td>3.06</td>\n      <td>0.49</td>\n      <td>9.0</td>\n      <td>red</td>\n    </tr>\n    <tr>\n      <th>2</th>\n      <td>2</td>\n      <td>6.5</td>\n      <td>0.28</td>\n      <td>0.27</td>\n      <td>5.2</td>\n      <td>0.040</td>\n      <td>44.0</td>\n      <td>179.0</td>\n      <td>0.9948</td>\n      <td>3.19</td>\n      <td>0.69</td>\n      <td>9.4</td>\n      <td>white</td>\n    </tr>\n  </tbody>\n</table>\n</div>"
     },
     "execution_count": 6,
     "metadata": {},
     "output_type": "execute_result"
    }
   ],
   "source": [
    "test.head(3)"
   ],
   "metadata": {
    "collapsed": false,
    "pycharm": {
     "name": "#%%\n"
    }
   }
  },
  {
   "cell_type": "markdown",
   "source": [
    "### 파이썬 결측치 유무 확인하기"
   ],
   "metadata": {
    "collapsed": false,
    "pycharm": {
     "name": "#%% md\n"
    }
   }
  },
  {
   "cell_type": "code",
   "execution_count": 7,
   "outputs": [
    {
     "data": {
      "text/plain": "index                   0\nquality                 0\nfixed acidity           0\nvolatile acidity        0\ncitric acid             0\nresidual sugar          0\nchlorides               0\nfree sulfur dioxide     0\ntotal sulfur dioxide    0\ndensity                 0\npH                      0\nsulphates               0\nalcohol                 0\ntype                    0\ndtype: int64"
     },
     "execution_count": 7,
     "metadata": {},
     "output_type": "execute_result"
    }
   ],
   "source": [
    "train.isnull().sum()"
   ],
   "metadata": {
    "collapsed": false,
    "pycharm": {
     "name": "#%%\n"
    }
   }
  },
  {
   "cell_type": "code",
   "execution_count": 8,
   "outputs": [
    {
     "data": {
      "text/plain": "index                   0\nfixed acidity           0\nvolatile acidity        0\ncitric acid             0\nresidual sugar          0\nchlorides               0\nfree sulfur dioxide     0\ntotal sulfur dioxide    0\ndensity                 0\npH                      0\nsulphates               0\nalcohol                 0\ntype                    0\ndtype: int64"
     },
     "execution_count": 8,
     "metadata": {},
     "output_type": "execute_result"
    }
   ],
   "source": [
    "test.isnull().sum()"
   ],
   "metadata": {
    "collapsed": false,
    "pycharm": {
     "name": "#%%\n"
    }
   }
  },
  {
   "cell_type": "markdown",
   "source": [
    "### 파이썬 수치데이터 특성보기(describe())"
   ],
   "metadata": {
    "collapsed": false,
    "pycharm": {
     "name": "#%% md\n"
    }
   }
  },
  {
   "cell_type": "code",
   "execution_count": 9,
   "outputs": [
    {
     "data": {
      "text/plain": "             index      quality  fixed acidity  volatile acidity  citric acid  \\\ncount  5497.000000  5497.000000    5497.000000       5497.000000  5497.000000   \nmean   2748.000000     5.818992       7.210115          0.338163     0.318543   \nstd    1586.991546     0.870311       1.287579          0.163224     0.145104   \nmin       0.000000     3.000000       3.800000          0.080000     0.000000   \n25%    1374.000000     5.000000       6.400000          0.230000     0.250000   \n50%    2748.000000     6.000000       7.000000          0.290000     0.310000   \n75%    4122.000000     6.000000       7.700000          0.400000     0.390000   \nmax    5496.000000     9.000000      15.900000          1.580000     1.660000   \n\n       residual sugar    chlorides  free sulfur dioxide  total sulfur dioxide  \\\ncount     5497.000000  5497.000000          5497.000000           5497.000000   \nmean         5.438075     0.055808            30.417682            115.566491   \nstd          4.756676     0.034653            17.673881             56.288223   \nmin          0.600000     0.009000             1.000000              6.000000   \n25%          1.800000     0.038000            17.000000             78.000000   \n50%          3.000000     0.047000            29.000000            118.000000   \n75%          8.100000     0.064000            41.000000            155.000000   \nmax         65.800000     0.610000           289.000000            440.000000   \n\n           density           pH    sulphates      alcohol  \ncount  5497.000000  5497.000000  5497.000000  5497.000000  \nmean      0.994673     3.219502     0.530524    10.504918  \nstd       0.003014     0.160713     0.149396     1.194524  \nmin       0.987110     2.740000     0.220000     8.000000  \n25%       0.992300     3.110000     0.430000     9.500000  \n50%       0.994800     3.210000     0.510000    10.300000  \n75%       0.996930     3.320000     0.600000    11.300000  \nmax       1.038980     4.010000     2.000000    14.900000  ",
      "text/html": "<div>\n<style scoped>\n    .dataframe tbody tr th:only-of-type {\n        vertical-align: middle;\n    }\n\n    .dataframe tbody tr th {\n        vertical-align: top;\n    }\n\n    .dataframe thead th {\n        text-align: right;\n    }\n</style>\n<table border=\"1\" class=\"dataframe\">\n  <thead>\n    <tr style=\"text-align: right;\">\n      <th></th>\n      <th>index</th>\n      <th>quality</th>\n      <th>fixed acidity</th>\n      <th>volatile acidity</th>\n      <th>citric acid</th>\n      <th>residual sugar</th>\n      <th>chlorides</th>\n      <th>free sulfur dioxide</th>\n      <th>total sulfur dioxide</th>\n      <th>density</th>\n      <th>pH</th>\n      <th>sulphates</th>\n      <th>alcohol</th>\n    </tr>\n  </thead>\n  <tbody>\n    <tr>\n      <th>count</th>\n      <td>5497.000000</td>\n      <td>5497.000000</td>\n      <td>5497.000000</td>\n      <td>5497.000000</td>\n      <td>5497.000000</td>\n      <td>5497.000000</td>\n      <td>5497.000000</td>\n      <td>5497.000000</td>\n      <td>5497.000000</td>\n      <td>5497.000000</td>\n      <td>5497.000000</td>\n      <td>5497.000000</td>\n      <td>5497.000000</td>\n    </tr>\n    <tr>\n      <th>mean</th>\n      <td>2748.000000</td>\n      <td>5.818992</td>\n      <td>7.210115</td>\n      <td>0.338163</td>\n      <td>0.318543</td>\n      <td>5.438075</td>\n      <td>0.055808</td>\n      <td>30.417682</td>\n      <td>115.566491</td>\n      <td>0.994673</td>\n      <td>3.219502</td>\n      <td>0.530524</td>\n      <td>10.504918</td>\n    </tr>\n    <tr>\n      <th>std</th>\n      <td>1586.991546</td>\n      <td>0.870311</td>\n      <td>1.287579</td>\n      <td>0.163224</td>\n      <td>0.145104</td>\n      <td>4.756676</td>\n      <td>0.034653</td>\n      <td>17.673881</td>\n      <td>56.288223</td>\n      <td>0.003014</td>\n      <td>0.160713</td>\n      <td>0.149396</td>\n      <td>1.194524</td>\n    </tr>\n    <tr>\n      <th>min</th>\n      <td>0.000000</td>\n      <td>3.000000</td>\n      <td>3.800000</td>\n      <td>0.080000</td>\n      <td>0.000000</td>\n      <td>0.600000</td>\n      <td>0.009000</td>\n      <td>1.000000</td>\n      <td>6.000000</td>\n      <td>0.987110</td>\n      <td>2.740000</td>\n      <td>0.220000</td>\n      <td>8.000000</td>\n    </tr>\n    <tr>\n      <th>25%</th>\n      <td>1374.000000</td>\n      <td>5.000000</td>\n      <td>6.400000</td>\n      <td>0.230000</td>\n      <td>0.250000</td>\n      <td>1.800000</td>\n      <td>0.038000</td>\n      <td>17.000000</td>\n      <td>78.000000</td>\n      <td>0.992300</td>\n      <td>3.110000</td>\n      <td>0.430000</td>\n      <td>9.500000</td>\n    </tr>\n    <tr>\n      <th>50%</th>\n      <td>2748.000000</td>\n      <td>6.000000</td>\n      <td>7.000000</td>\n      <td>0.290000</td>\n      <td>0.310000</td>\n      <td>3.000000</td>\n      <td>0.047000</td>\n      <td>29.000000</td>\n      <td>118.000000</td>\n      <td>0.994800</td>\n      <td>3.210000</td>\n      <td>0.510000</td>\n      <td>10.300000</td>\n    </tr>\n    <tr>\n      <th>75%</th>\n      <td>4122.000000</td>\n      <td>6.000000</td>\n      <td>7.700000</td>\n      <td>0.400000</td>\n      <td>0.390000</td>\n      <td>8.100000</td>\n      <td>0.064000</td>\n      <td>41.000000</td>\n      <td>155.000000</td>\n      <td>0.996930</td>\n      <td>3.320000</td>\n      <td>0.600000</td>\n      <td>11.300000</td>\n    </tr>\n    <tr>\n      <th>max</th>\n      <td>5496.000000</td>\n      <td>9.000000</td>\n      <td>15.900000</td>\n      <td>1.580000</td>\n      <td>1.660000</td>\n      <td>65.800000</td>\n      <td>0.610000</td>\n      <td>289.000000</td>\n      <td>440.000000</td>\n      <td>1.038980</td>\n      <td>4.010000</td>\n      <td>2.000000</td>\n      <td>14.900000</td>\n    </tr>\n  </tbody>\n</table>\n</div>"
     },
     "execution_count": 9,
     "metadata": {},
     "output_type": "execute_result"
    }
   ],
   "source": [
    "train.describe()"
   ],
   "metadata": {
    "collapsed": false,
    "pycharm": {
     "name": "#%%\n"
    }
   }
  },
  {
   "cell_type": "markdown",
   "source": [
    "### 파이썬 변수분포 시각화"
   ],
   "metadata": {
    "collapsed": false,
    "pycharm": {
     "name": "#%% md\n"
    }
   }
  },
  {
   "cell_type": "code",
   "execution_count": 10,
   "outputs": [],
   "source": [
    "import matplotlib.pyplot as plt\n",
    "import seaborn as sb\n",
    "%matplotlib inline\n",
    "\n",
    "# 글꼴 지정\n",
    "plt.rc('font', family='NanumBarunGothic')\n",
    "\n",
    "# 마이너스 기호 출력\n",
    "plt.rc('axes', unicode_minus=False)\n",
    "\n",
    "# 에러 숨기기\n",
    "import warnings\n",
    "warnings.filterwarnings('ignore')"
   ],
   "metadata": {
    "collapsed": false,
    "pycharm": {
     "name": "#%%\n"
    }
   }
  },
  {
   "cell_type": "code",
   "execution_count": 11,
   "outputs": [],
   "source": [
    "c_train = train.copy()"
   ],
   "metadata": {
    "collapsed": false,
    "pycharm": {
     "name": "#%%\n"
    }
   }
  },
  {
   "cell_type": "code",
   "execution_count": 12,
   "outputs": [
    {
     "name": "stderr",
     "output_type": "stream",
     "text": [
      "findfont: Font family ['NanumBarunGothic'] not found. Falling back to DejaVu Sans.\n",
      "findfont: Font family ['NanumBarunGothic'] not found. Falling back to DejaVu Sans.\n"
     ]
    },
    {
     "data": {
      "text/plain": "<Figure size 680.375x500 with 1 Axes>",
      "image/png": "[encoded data removed]"
     },
     "metadata": {},
     "output_type": "display_data"
    }
   ],
   "source": [
    "# 출력하려는 col, 그래프에 선을 출력할 지, 출력할 막대그래프 개수\n",
    "sb.displot(c_train, kde=False, bins=14)\n",
    "plt.axis([0, 10, 0, 2500]) # [x_min, x_max, y_min, y_max]\n",
    "plt.title(\"wine quality\")\n",
    "plt.show()"
   ],
   "metadata": {
    "collapsed": false,
    "pycharm": {
     "name": "#%%\n"
    }
   }
  },
  {
   "cell_type": "markdown",
   "source": [
    "### Matplotlib 선 그래프(plot())"
   ],
   "metadata": {
    "collapsed": false,
    "pycharm": {
     "name": "#%% md\n"
    }
   }
  },
  {
   "cell_type": "code",
   "execution_count": 17,
   "outputs": [
    {
     "data": {
      "text/plain": "<Figure size 640x480 with 1 Axes>",
      "image/png": "[encoded data removed]"
     },
     "metadata": {},
     "output_type": "display_data"
    }
   ],
   "source": [
    "x = [0, 1, 2, 3, 4, 5]\n",
    "y = [0, 2, 4, 6, 8, 10]\n",
    "\n",
    "plt.plot(x, y)\n",
    "plt.axis([0, 10, 0, 10])\n",
    "plt.show()"
   ],
   "metadata": {
    "collapsed": false,
    "pycharm": {
     "name": "#%%\n"
    }
   }
  },
  {
   "cell_type": "markdown",
   "source": [
    "### Matplotlib 히스토그램 그리기"
   ],
   "metadata": {
    "collapsed": false,
    "pycharm": {
     "name": "#%% md\n"
    }
   }
  },
  {
   "cell_type": "code",
   "execution_count": 19,
   "outputs": [
    {
     "data": {
      "text/plain": "<Figure size 640x480 with 1 Axes>",
      "image/png": "[encoded data removed]"
     },
     "metadata": {},
     "output_type": "display_data"
    }
   ],
   "source": [
    "a = [1,2,3,3,3,4,4,4,4,5,5,5,5,5,6,6,7]\n",
    "plt.hist(a)\n",
    "plt.show()"
   ],
   "metadata": {
    "collapsed": false,
    "pycharm": {
     "name": "#%%\n"
    }
   }
  },
  {
   "cell_type": "markdown",
   "source": [
    "# 전처리"
   ],
   "metadata": {
    "collapsed": false,
    "pycharm": {
     "name": "#%% md\n"
    }
   }
  },
  {
   "cell_type": "code",
   "execution_count": null,
   "outputs": [],
   "source": [],
   "metadata": {
    "collapsed": false,
    "pycharm": {
     "name": "#%%\n"
    }
   }
  }
 ],
 "metadata": {
  "kernelspec": {
   "display_name": "Python 3",
   "language": "python",
   "name": "python3"
  },
  "language_info": {
   "codemirror_mode": {
    "name": "ipython",
    "version": 2
   },
   "file_extension": ".py",
   "mimetype": "text/x-python",
   "name": "python",
   "nbconvert_exporter": "python",
   "pygments_lexer": "ipython2",
   "version": "2.7.6"
  }
 },
 "nbformat": 4,
 "nbformat_minor": 0
}